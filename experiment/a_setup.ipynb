{
 "cells": [
  {
   "cell_type": "code",
   "execution_count": null,
   "id": "01077e1f",
   "metadata": {},
   "outputs": [
    {
     "name": "stdout",
     "output_type": "stream",
     "text": [
      "Namespace(act='relu', optim='adam', lr=0.001, batch_size=32, exp_name='name')\n",
      "0.001\n"
     ]
    }
   ],
   "source": [
    "import argparse\n",
    "import pandas as pd\n",
    "\n",
    "parser = argparse.ArgumentParser()\n",
    "\n",
    "# ① 사용할 모든 옵션을 정의하고, 기본값을 default=로 설정\n",
    "parser.add_argument('-act',        type=str,   default='relu',        help='activation function')\n",
    "parser.add_argument('-optim',      type=str,   default='adam',        help='optimizer')\n",
    "parser.add_argument('-lr',         type=float, default=0.001,         help='learning rate')\n",
    "parser.add_argument('-batch_size', type=int,   default=32,            help='batch size')\n",
    "parser.add_argument('-exp_name',   type=str,   default='name',        help='exp name')\n",
    "\n",
    "# ② parse_args()\n",
    "args, unknown = parser.parse_known_args()\n",
    "\n",
    "# ③ 값 확인\n",
    "print(\"Training with the following parameters:\")\n",
    "print(f\"Activation: {args.act}\")\n",
    "print(f\"Optimizer: {args.optim}\")\n",
    "print(f\"Learning Rate: {args.lr}\")\n",
    "print(f\"Batch Size: {args.batch_size}\")\n",
    "print(f\"Experiment Name: {args.exp_name}\")"
   ]
  },
  {
   "cell_type": "markdown",
   "id": "9a63531e",
   "metadata": {},
   "source": [
    "## Save Results"
   ]
  },
  {
   "cell_type": "code",
   "execution_count": null,
   "id": "16813619",
   "metadata": {},
   "outputs": [],
   "source": [
    "filename_df = './{}.csv'.format(args.exp_name)\n",
    "args_df = pd.DataFrame(vars(args), index=[0])\n",
    "args_df.to_csv(filename_df)"
   ]
  }
 ],
 "metadata": {
  "kernelspec": {
   "display_name": "torch",
   "language": "python",
   "name": "python3"
  },
  "language_info": {
   "codemirror_mode": {
    "name": "ipython",
    "version": 3
   },
   "file_extension": ".py",
   "mimetype": "text/x-python",
   "name": "python",
   "nbconvert_exporter": "python",
   "pygments_lexer": "ipython3",
   "version": "3.9.21"
  }
 },
 "nbformat": 4,
 "nbformat_minor": 5
}
