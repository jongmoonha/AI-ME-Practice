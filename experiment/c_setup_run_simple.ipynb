{
 "cells": [
  {
   "cell_type": "code",
   "execution_count": 1,
   "id": "01077e1f",
   "metadata": {},
   "outputs": [
    {
     "name": "stdout",
     "output_type": "stream",
     "text": [
      "Namespace(act='relu', optim='adam', lr=0.001, batch_size=32, exp_name='name')\n"
     ]
    }
   ],
   "source": [
    "import argparse\n",
    "import pandas as pd\n",
    "\n",
    "parser = argparse.ArgumentParser()\n",
    "args = parser.parse_args(\"\")\n",
    "\n",
    "args.act = 'relu'\n",
    "args.optim = 'adam'\n",
    "args.lr = 0.001\n",
    "args.batch_size = 32\n",
    "args.exp_name = 'name'\n",
    "\n",
    "# ③ 값 확인\n",
    "print(args)\n",
    "\n",
    "def train(args):\n",
    "    # ① train 함수 정의\n",
    "    print(\"Training with the following parameters:\")\n",
    "    print(f\"Activation: {args.act}\")\n",
    "    print(f\"Optimizer: {args.optim}\")\n",
    "    print(f\"Learning Rate: {args.lr}\")\n",
    "    print(f\"Batch Size: {args.batch_size}\")\n",
    "    print(f\"Experiment Name: {args.exp_name}\")"
   ]
  },
  {
   "cell_type": "code",
   "execution_count": 2,
   "id": "b1bc2d7c",
   "metadata": {},
   "outputs": [
    {
     "name": "stdout",
     "output_type": "stream",
     "text": [
      "Learning rate: 0\n",
      "Training with the following parameters:\n",
      "Activation: relu\n",
      "Optimizer: adam\n",
      "Learning Rate: 0.1\n",
      "Batch Size: 32\n",
      "Experiment Name: test0\n",
      "\n",
      "\n",
      "Learning rate: 1\n",
      "Training with the following parameters:\n",
      "Activation: relu\n",
      "Optimizer: adam\n",
      "Learning Rate: 0.01\n",
      "Batch Size: 32\n",
      "Experiment Name: test1\n",
      "\n",
      "\n",
      "Learning rate: 2\n",
      "Training with the following parameters:\n",
      "Activation: relu\n",
      "Optimizer: adam\n",
      "Learning Rate: 0.001\n",
      "Batch Size: 32\n",
      "Experiment Name: test2\n",
      "\n",
      "\n"
     ]
    }
   ],
   "source": [
    "lr_list = ['0.1', '0.01', '0.001']\n",
    "for lr in range(len(lr_list)):\n",
    "    print(f\"Learning rate: {lr}\")\n",
    "    args.lr = lr_list[lr]\n",
    "    args.exp_name = f'test{lr}'\n",
    "    train(args)\n",
    "    print(\"\\n\")\n",
    "    \n",
    "    filename_df = './{}.csv'.format(args.exp_name)\n",
    "    args_df = pd.DataFrame(vars(args), index=[0])\n",
    "    args_df.to_csv(filename_df)"
   ]
  }
 ],
 "metadata": {
  "kernelspec": {
   "display_name": "torch",
   "language": "python",
   "name": "python3"
  },
  "language_info": {
   "codemirror_mode": {
    "name": "ipython",
    "version": 3
   },
   "file_extension": ".py",
   "mimetype": "text/x-python",
   "name": "python",
   "nbconvert_exporter": "python",
   "pygments_lexer": "ipython3",
   "version": "3.9.21"
  }
 },
 "nbformat": 4,
 "nbformat_minor": 5
}
