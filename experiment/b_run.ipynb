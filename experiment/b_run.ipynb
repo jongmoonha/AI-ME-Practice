{
 "cells": [
  {
   "cell_type": "markdown",
   "id": "4169b771",
   "metadata": {},
   "source": [
    "# Run Code using Magic Code"
   ]
  },
  {
   "cell_type": "code",
   "execution_count": null,
   "id": "68fb6ec3",
   "metadata": {},
   "outputs": [
    {
     "name": "stdout",
     "output_type": "stream",
     "text": [
      "Training with the following parameters:\n",
      "Activation: relu\n",
      "Optimizer: adam\n",
      "Learning Rate: 0.001\n",
      "Batch Size: 32\n",
      "Experiment Name: name\n"
     ]
    }
   ],
   "source": [
    "import sys\n",
    "sys.argv = ['ignored']      # - 아무 옵션 없이 파싱 → parser의 default 사용 (커널 재시작과 같은 효과)\n",
    "%run ./a_setup.ipynb"
   ]
  },
  {
   "cell_type": "markdown",
   "id": "11d56b14",
   "metadata": {},
   "source": [
    "# Experiment using sys.argv"
   ]
  },
  {
   "cell_type": "code",
   "execution_count": 29,
   "id": "a36b3461",
   "metadata": {},
   "outputs": [
    {
     "name": "stdout",
     "output_type": "stream",
     "text": [
      "Training with the following parameters:\n",
      "Activation: sigmoid\n",
      "Optimizer: sgd\n",
      "Learning Rate: 0.01\n",
      "Batch Size: 128\n",
      "Experiment Name: test\n"
     ]
    }
   ],
   "source": [
    "sys.argv = [\n",
    "    'ignored',           \n",
    "    '-act', 'sigmoid',\n",
    "    '-optim',  'sgd',\n",
    "    '-lr',    '0.01',\n",
    "    '-batch_size','128',\n",
    "    '-exp_name', 'test',\n",
    "]\n",
    "\n",
    "%run ./a_setup.ipynb"
   ]
  },
  {
   "cell_type": "code",
   "execution_count": null,
   "id": "d1c1f794",
   "metadata": {},
   "outputs": [
    {
     "name": "stdout",
     "output_type": "stream",
     "text": [
      "Learning rate: 0\n",
      "Training with the following parameters:\n",
      "Activation: relu\n",
      "Optimizer: adam\n",
      "Learning Rate: 0.1\n",
      "Batch Size: 32\n",
      "Experiment Name: name\n",
      "\n",
      "\n",
      "Learning rate: 1\n",
      "Training with the following parameters:\n",
      "Activation: relu\n",
      "Optimizer: adam\n",
      "Learning Rate: 0.01\n",
      "Batch Size: 32\n",
      "Experiment Name: name\n",
      "\n",
      "\n",
      "Learning rate: 2\n",
      "Training with the following parameters:\n",
      "Activation: relu\n",
      "Optimizer: adam\n",
      "Learning Rate: 0.001\n",
      "Batch Size: 32\n",
      "Experiment Name: name\n",
      "\n",
      "\n"
     ]
    }
   ],
   "source": [
    "lr_list = ['0.1', '0.01', '0.001']\n",
    "for lr in range(len(lr_list)):\n",
    "    print(f\"Learning rate: {lr}\")\n",
    "    \n",
    "    sys.argv = [\n",
    "    'ignored',           \n",
    "    '-lr',    lr_list[lr],\n",
    "    '-exp_name', f'test{lr}',\n",
    "    ]\n",
    "    %run ./a_setup.ipynb\n",
    "    print(\"\\n\")"
   ]
  }
 ],
 "metadata": {
  "kernelspec": {
   "display_name": "torch",
   "language": "python",
   "name": "python3"
  },
  "language_info": {
   "codemirror_mode": {
    "name": "ipython",
    "version": 3
   },
   "file_extension": ".py",
   "mimetype": "text/x-python",
   "name": "python",
   "nbconvert_exporter": "python",
   "pygments_lexer": "ipython3",
   "version": "3.9.21"
  }
 },
 "nbformat": 4,
 "nbformat_minor": 5
}
