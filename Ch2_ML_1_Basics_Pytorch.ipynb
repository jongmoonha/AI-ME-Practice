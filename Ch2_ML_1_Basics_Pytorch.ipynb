{
 "cells": [
  {
   "cell_type": "markdown",
   "metadata": {},
   "source": [
    "# Ch 2. Machine Learning (1)\n",
    "## Basics of Pytorch"
   ]
  },
  {
   "cell_type": "code",
   "execution_count": 1,
   "metadata": {
    "id": "W7YEYhjLRUEz"
   },
   "outputs": [],
   "source": [
    "import numpy as np\n",
    "import pandas as pd\n",
    "import random as random\n",
    "import matplotlib.pyplot as plt"
   ]
  },
  {
   "cell_type": "markdown",
   "metadata": {},
   "source": [
    "### Tensor Basics"
   ]
  },
  {
   "cell_type": "code",
   "execution_count": 2,
   "metadata": {},
   "outputs": [
    {
     "name": "stdout",
     "output_type": "stream",
     "text": [
      "tensor(2., dtype=torch.float64, requires_grad=True)\n"
     ]
    }
   ],
   "source": [
    "import torch\n",
    "t = 2 \n",
    "t_tensor = torch.tensor(t,dtype=float, requires_grad=True)\n",
    "print(t_tensor)"
   ]
  },
  {
   "cell_type": "code",
   "execution_count": 3,
   "metadata": {},
   "outputs": [
    {
     "name": "stdout",
     "output_type": "stream",
     "text": [
      "tensor(2., dtype=torch.float64)\n"
     ]
    }
   ],
   "source": [
    "# detach(): Returns a new Tensor, detached from the current graph (disabling autograd)\n",
    "detached_tensor = t_tensor.detach()\n",
    "print(detached_tensor)"
   ]
  },
  {
   "cell_type": "code",
   "execution_count": 4,
   "metadata": {},
   "outputs": [
    {
     "name": "stdout",
     "output_type": "stream",
     "text": [
      "2.0\n",
      "<class 'numpy.ndarray'>\n",
      "2.0\n",
      "<class 'float'>\n"
     ]
    }
   ],
   "source": [
    "# numpy(): Returns the tensor as a NumPy ndarray\n",
    "print(t_tensor.detach().numpy())\n",
    "print(type(t_tensor.detach().numpy()))\n",
    "\n",
    "# item(): Returns the value of a single-element tensor as a standard Python number\n",
    "print(t_tensor.item())\n",
    "print(type(t_tensor.item()))"
   ]
  },
  {
   "cell_type": "markdown",
   "metadata": {},
   "source": [
    "### Gradient using Pytorch\n",
    "#### let's see the following example\n"
   ]
  },
  {
   "cell_type": "markdown",
   "metadata": {},
   "source": [
    "$y = θ^2 + 2θ + 1$  \n",
    "$dy = 2θ + 2$"
   ]
  },
  {
   "cell_type": "code",
   "execution_count": 5,
   "metadata": {},
   "outputs": [
    {
     "name": "stdout",
     "output_type": "stream",
     "text": [
      "t:  tensor(2., dtype=torch.float64, requires_grad=True)\n",
      "y:  tensor(9., dtype=torch.float64, grad_fn=<AddBackward0>)\n",
      "grad:  tensor(6., dtype=torch.float64)\n"
     ]
    }
   ],
   "source": [
    "t = 2 # Try different values\n",
    "t_tensor = torch.tensor(t,dtype=float, requires_grad=True)\n",
    "y_tensor = t_tensor**2 + 2*t_tensor + 1\n",
    "print('t: ', t_tensor)\n",
    "print('y: ', y_tensor)\n",
    "\n",
    "# calculate the gradient\n",
    "y_tensor.backward()\n",
    "print('grad: ', t_tensor.grad)"
   ]
  },
  {
   "cell_type": "markdown",
   "metadata": {},
   "source": [
    "$ŷ = 2θ + 1$  \n",
    "$dŷ/dθ = 2$"
   ]
  },
  {
   "cell_type": "code",
   "execution_count": 7,
   "metadata": {},
   "outputs": [
    {
     "name": "stdout",
     "output_type": "stream",
     "text": [
      "t:  tensor(2., dtype=torch.float64, requires_grad=True)\n",
      "y:  tensor(5., dtype=torch.float64, grad_fn=<AddBackward0>)\n",
      "grad:  tensor(2., dtype=torch.float64)\n"
     ]
    }
   ],
   "source": [
    "t = 2 # Try different values\n",
    "t_tensor = torch.tensor(t,dtype=float, requires_grad=True)\n",
    "y_tensor = 2*t_tensor + 1\n",
    "print('t: ', t_tensor)\n",
    "print('y: ', y_tensor)\n",
    "\n",
    "# calculate the gradient\n",
    "y_tensor.backward()\n",
    "print('grad: ', t_tensor.grad)"
   ]
  },
  {
   "cell_type": "markdown",
   "metadata": {},
   "source": [
    "$ŷ = 2θ^2 + 1$  \n",
    "$dŷ/dθ = 4θ$"
   ]
  },
  {
   "cell_type": "code",
   "execution_count": 8,
   "metadata": {},
   "outputs": [
    {
     "name": "stdout",
     "output_type": "stream",
     "text": [
      "t:  tensor(2., dtype=torch.float64, requires_grad=True)\n",
      "y:  tensor(9., dtype=torch.float64, grad_fn=<AddBackward0>)\n",
      "grad:  tensor(8., dtype=torch.float64)\n"
     ]
    }
   ],
   "source": [
    "t = 2 # Try different values\n",
    "t_tensor = torch.tensor(t,dtype=float, requires_grad=True)\n",
    "y_tensor = 2*t_tensor**2 + 1\n",
    "print('t: ', t_tensor)\n",
    "print('y: ', y_tensor)\n",
    "\n",
    "# calculate the gradient\n",
    "y_tensor.backward()\n",
    "print('grad: ', t_tensor.grad)"
   ]
  },
  {
   "cell_type": "markdown",
   "metadata": {},
   "source": [
    "$ŷ = 2θ + 1$  \n",
    "$f = ŷ^2$  \n",
    "$dŷ/dθ = 2$  \n",
    "$df/dŷ = 2ŷ$  \n",
    "$df/dθ = 2ŷ$"
   ]
  },
  {
   "cell_type": "code",
   "execution_count": 6,
   "metadata": {},
   "outputs": [
    {
     "name": "stdout",
     "output_type": "stream",
     "text": [
      "t:  tensor(2., dtype=torch.float64, requires_grad=True)\n",
      "y:  tensor(5., dtype=torch.float64, grad_fn=<AddBackward0>)\n",
      "f:  tensor(1., dtype=torch.float64, grad_fn=<PowBackward0>)\n",
      "df/dt:  tensor(4., dtype=torch.float64)\n"
     ]
    }
   ],
   "source": [
    "t = 2 # Try different values\n",
    "t_tensor = torch.tensor(t,dtype=float, requires_grad=True)\n",
    "y_tensor = 2*t_tensor  + 1\n",
    "f = (y_tensor-4)**2\n",
    "print('t: ', t_tensor)\n",
    "print('y: ', y_tensor)\n",
    "print('f: ', f)\n",
    "\n",
    "# calculate the gradient of f with respect to t and y\n",
    "f.backward()\n",
    "print('df/dt: ', t_tensor.grad)"
   ]
  },
  {
   "cell_type": "markdown",
   "metadata": {},
   "source": [
    "$ŷ = 2θ + 1$  \n",
    "$f = (ŷ-y)^2$  \n",
    "$dŷ/dθ = 2$  \n",
    "$df/dŷ = 2(ŷ-y)$  \n",
    "$df/dθ = 4(ŷ-y)$"
   ]
  },
  {
   "cell_type": "code",
   "execution_count": 10,
   "metadata": {},
   "outputs": [
    {
     "name": "stdout",
     "output_type": "stream",
     "text": [
      "t:  tensor(2., dtype=torch.float64, requires_grad=True)\n",
      "y:  tensor(5., dtype=torch.float64, grad_fn=<AddBackward0>)\n",
      "f:  tensor(1., dtype=torch.float64, grad_fn=<PowBackward0>)\n",
      "df/dt:  tensor(4., dtype=torch.float64)\n"
     ]
    }
   ],
   "source": [
    "t = 2 # Try different values\n",
    "y_true = torch.tensor(4)\n",
    "t_tensor = torch.tensor(t,dtype=float, requires_grad=True)\n",
    "y_tensor = 2*t_tensor  + 1\n",
    "f = (y_tensor-y_true)**2\n",
    "print('t: ', t_tensor)\n",
    "print('y: ', y_tensor)\n",
    "print('f: ', f)\n",
    "\n",
    "# calculate the gradient of f with respect to t and y\n",
    "f.backward()\n",
    "print('df/dt: ', t_tensor.grad)"
   ]
  },
  {
   "cell_type": "markdown",
   "metadata": {},
   "source": [
    "$ŷ = 2θ_1 + θ_0$  \n",
    "$f = (ŷ-y)^2$  \n",
    "$dŷ/dθ_0 = 1$  \n",
    "$dŷ/dθ_1 = 2$  \n",
    "$df/dŷ = 2(ŷ-y)$  \n",
    "\n",
    "$df/dθ_0 = 2(ŷ-y)x$  \n",
    "$df/dθ_1 = 2(ŷ-y)$"
   ]
  },
  {
   "cell_type": "code",
   "execution_count": 11,
   "metadata": {},
   "outputs": [
    {
     "name": "stdout",
     "output_type": "stream",
     "text": [
      "t0:  tensor(1., dtype=torch.float64, requires_grad=True)\n",
      "t1:  tensor(2., dtype=torch.float64, requires_grad=True)\n",
      "y:  tensor(5., dtype=torch.float64, grad_fn=<AddBackward0>)\n",
      "f:  tensor(1., dtype=torch.float64, grad_fn=<PowBackward0>)\n",
      "df/dt0:  tensor(2., dtype=torch.float64)\n",
      "df/dt1:  tensor(4., dtype=torch.float64)\n"
     ]
    }
   ],
   "source": [
    "t0 = 1 # Try different values\n",
    "t1 = 2 # Try different values\n",
    "t0_tensor = torch.tensor(t0,dtype=float, requires_grad=True)\n",
    "t1_tensor = torch.tensor(t1,dtype=float, requires_grad=True)\n",
    "\n",
    "y_true = torch.tensor(4)\n",
    "y_tensor = 2*t1_tensor  + t0_tensor\n",
    "\n",
    "f = (y_tensor-y_true)**2\n",
    "print('t0: ', t0_tensor)\n",
    "print('t1: ', t1_tensor)\n",
    "print('y: ', y_tensor)\n",
    "print('f: ', f)\n",
    "\n",
    "# calculate the gradient of f with respect to t and y\n",
    "f.backward()\n",
    "print('df/dt0: ', t0_tensor.grad)\n",
    "print('df/dt1: ', t1_tensor.grad)"
   ]
  }
 ],
 "metadata": {
  "colab": {
   "authorship_tag": "ABX9TyNPsSFUJjFIpbYuXAUXXFkb",
   "provenance": [
    {
     "file_id": "1uHJOOtvv7mDySFQOWgokAiq1LphJz5Tu",
     "timestamp": 1725882857895
    }
   ]
  },
  "kernelspec": {
   "display_name": "torch",
   "language": "python",
   "name": "python3"
  },
  "language_info": {
   "codemirror_mode": {
    "name": "ipython",
    "version": 3
   },
   "file_extension": ".py",
   "mimetype": "text/x-python",
   "name": "python",
   "nbconvert_exporter": "python",
   "pygments_lexer": "ipython3",
   "version": "3.13.7"
  }
 },
 "nbformat": 4,
 "nbformat_minor": 0
}
