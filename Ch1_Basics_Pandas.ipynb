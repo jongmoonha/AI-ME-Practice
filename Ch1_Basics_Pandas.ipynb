{
 "cells": [
  {
   "cell_type": "markdown",
   "metadata": {
    "id": "_3dXzCKqtrJi"
   },
   "source": [
    "# Chapter1. Python (Pandas) Basics"
   ]
  },
  {
   "cell_type": "markdown",
   "metadata": {},
   "source": [
    "# Class 상속 기초"
   ]
  },
  {
   "cell_type": "code",
   "execution_count": 1,
   "metadata": {},
   "outputs": [
    {
     "name": "stdout",
     "output_type": "stream",
     "text": [
      "Animal Buddy created.\n",
      "Some sound\n",
      "I'm Animal named Buddy, and my age is 10.\n",
      "10\n"
     ]
    }
   ],
   "source": [
    "# Class 상속을 이해하기 위한 기초 코드\n",
    "\n",
    "class Animal:\n",
    "    def __init__(self, name):\n",
    "        self.name = name\n",
    "        self.default_age = 10\n",
    "        print(f\"Animal {self.name} created.\")\n",
    "        \n",
    "    def speak(self):\n",
    "        return \"Some sound\"\n",
    "    \n",
    "    def intro(self):\n",
    "        print(f\"I'm Animal named {self.name}, and my age is {self.default_age}.\")\n",
    "\n",
    "A1 = Animal(\"Buddy\")\n",
    "A1_speak = A1.speak()\n",
    "print(A1_speak)\n",
    "A1.intro()\n",
    "print(A1.default_age)"
   ]
  },
  {
   "cell_type": "code",
   "execution_count": 2,
   "metadata": {},
   "outputs": [
    {
     "name": "stdout",
     "output_type": "stream",
     "text": [
      "Animal Rex created.\n",
      "Bark\n",
      "I'm Animal named Rex, and my age is 10.\n",
      "10\n"
     ]
    }
   ],
   "source": [
    "class Dog(Animal):\n",
    "    def speak(self):\n",
    "        return \"Bark\"\n",
    "\n",
    "A2 = Dog(\"Rex\")\n",
    "A2_speak = A2.speak()\n",
    "print(A2_speak)\n",
    "A2.intro()\n",
    "print(A2.default_age)"
   ]
  },
  {
   "cell_type": "code",
   "execution_count": null,
   "metadata": {},
   "outputs": [
    {
     "name": "stdout",
     "output_type": "stream",
     "text": [
      "Animal Rex created.\n",
      "Animal Rex created.\n",
      "Bark\n",
      "I'm Dog named Rex, and my age is 5.\n",
      "5\n"
     ]
    }
   ],
   "source": [
    "# Animal 클래스를 상속받아 Dog 클래스를 정의하고, Init에서 속성을 변경합니다.\n",
    "# 만약 super().__init__()를 호출하지 않으면, 부모 클래스의 속성을 변경하지 못합니다.\n",
    "# 여기서 나열된 모든 변수를 상속받으려면 *args와 **kwargs를 사용해야 합니다.\n",
    "# *args는 위치 인자를 튜플 형태로, **kwargs는 키워드 인자를 딕셔너리 형태로 전달합니다.\n",
    "# *args에 들어갈 수 있는 값의 예시는 다음과 같습니다: (1, 2, 3, 'hello', [1,2,3], (4,5,6))\n",
    "# **kwargs에 들어갈 수 있는 값의 예시는 다음과 같습니다: {'name': 'Rex', 'age': 5}\n",
    "\n",
    "class Dog2(Animal):\n",
    "    def __init__(self, *args, **kwargs):\n",
    "        super().__init__(*args, **kwargs)\n",
    "        self.default_age = 5\n",
    "        print(f\"Animal {self.name} created.\")\n",
    "\n",
    "    def speak(self):\n",
    "        return \"Bark\"\n",
    "    \n",
    "    def intro(self):\n",
    "        age = self.default_age\n",
    "        age_squared = age * age\n",
    "        age_cubed = age * age * age\n",
    "        print(f\"I'm Dog named {self.name}, and my age is {self.default_age}.\")\n",
    "\n",
    "A3 = Dog2(\"Rex\")\n",
    "A3_speak = A3.speak()\n",
    "print(A3_speak)\n",
    "A3.intro()\n",
    "print(A3.default_age)"
   ]
  },
  {
   "cell_type": "markdown",
   "metadata": {
    "id": "wZJLNltztdav"
   },
   "source": [
    "# Pandas 기본\n",
    "> pd.DataFrame(데이터 프레임)\n",
    "- attribute: data, index, columns\n",
    "\n",
    "- pd.read_csv(): 파일 로드\n",
    "- df.info(): 변수 종류, 타입\n",
    "- df.columns: 칼럼 명\n",
    "- df.loc, df.iloc: 행, 열 조회 location - label, boolean, indexlocation - index\n",
    "- value_counts()\n",
    "- sort_values(by= )\n",
    "- groupby()\n",
    "- apply()\n",
    "\n",
    "(더 공부하고 싶다면)  \n",
    "https://datadoctorblog.com/2023/04/02/Py-Basic-Pandas-DataFrame/"
   ]
  },
  {
   "cell_type": "code",
   "execution_count": 4,
   "metadata": {
    "executionInfo": {
     "elapsed": 452,
     "status": "ok",
     "timestamp": 1727341450184,
     "user": {
      "displayName": "Park Chan Hee",
      "userId": "12253724632409422807"
     },
     "user_tz": -540
    },
    "id": "5YMzKpUepMzj"
   },
   "outputs": [],
   "source": [
    "import pandas as pd\n",
    "import numpy as np"
   ]
  },
  {
   "cell_type": "markdown",
   "metadata": {},
   "source": [
    "### Data Read"
   ]
  },
  {
   "cell_type": "code",
   "execution_count": 5,
   "metadata": {
    "colab": {
     "base_uri": "https://localhost:8080/",
     "height": 161
    },
    "executionInfo": {
     "elapsed": 395,
     "status": "ok",
     "timestamp": 1725956812637,
     "user": {
      "displayName": "Park Chan Hee",
      "userId": "12253724632409422807"
     },
     "user_tz": -540
    },
    "id": "CuYfgnQgtnZt",
    "outputId": "5dc51099-a9d8-48a2-ee0c-7f0e0649393d"
   },
   "outputs": [
    {
     "name": "stdout",
     "output_type": "stream",
     "text": [
      "(332, 3)\n"
     ]
    },
    {
     "data": {
      "application/vnd.microsoft.datawrangler.viewer.v0+json": {
       "columns": [
        {
         "name": "index",
         "rawType": "int64",
         "type": "integer"
        },
        {
         "name": "year",
         "rawType": "int64",
         "type": "integer"
        },
        {
         "name": "month",
         "rawType": "int64",
         "type": "integer"
        },
        {
         "name": "volumn",
         "rawType": "float64",
         "type": "float"
        }
       ],
       "ref": "4ec7026e-9c93-4bd2-ba62-c73d914f9203",
       "rows": [
        [
         "0",
         "1990",
         "1",
         "1199.87"
        ],
        [
         "1",
         "1990",
         "2",
         "1214.54"
        ],
        [
         "2",
         "1990",
         "3",
         "1138.17"
        ]
       ],
       "shape": {
        "columns": 3,
        "rows": 3
       }
      },
      "text/html": [
       "<div>\n",
       "<style scoped>\n",
       "    .dataframe tbody tr th:only-of-type {\n",
       "        vertical-align: middle;\n",
       "    }\n",
       "\n",
       "    .dataframe tbody tr th {\n",
       "        vertical-align: top;\n",
       "    }\n",
       "\n",
       "    .dataframe thead th {\n",
       "        text-align: right;\n",
       "    }\n",
       "</style>\n",
       "<table border=\"1\" class=\"dataframe\">\n",
       "  <thead>\n",
       "    <tr style=\"text-align: right;\">\n",
       "      <th></th>\n",
       "      <th>year</th>\n",
       "      <th>month</th>\n",
       "      <th>volumn</th>\n",
       "    </tr>\n",
       "  </thead>\n",
       "  <tbody>\n",
       "    <tr>\n",
       "      <th>0</th>\n",
       "      <td>1990</td>\n",
       "      <td>1</td>\n",
       "      <td>1199.87</td>\n",
       "    </tr>\n",
       "    <tr>\n",
       "      <th>1</th>\n",
       "      <td>1990</td>\n",
       "      <td>2</td>\n",
       "      <td>1214.54</td>\n",
       "    </tr>\n",
       "    <tr>\n",
       "      <th>2</th>\n",
       "      <td>1990</td>\n",
       "      <td>3</td>\n",
       "      <td>1138.17</td>\n",
       "    </tr>\n",
       "  </tbody>\n",
       "</table>\n",
       "</div>"
      ],
      "text/plain": [
       "   year  month   volumn\n",
       "0  1990      1  1199.87\n",
       "1  1990      2  1214.54\n",
       "2  1990      3  1138.17"
      ]
     },
     "execution_count": 5,
     "metadata": {},
     "output_type": "execute_result"
    }
   ],
   "source": [
    "s = 'https://raw.githubusercontent.com/jongmoonha/AI-ME-Practice/refs/heads/main/data/production_monthly_1990.csv'\n",
    "df = pd.read_csv(s) # volumn: 생산량\n",
    "print(df.shape)\n",
    "df.head(3)"
   ]
  },
  {
   "cell_type": "code",
   "execution_count": 6,
   "metadata": {},
   "outputs": [
    {
     "data": {
      "application/vnd.microsoft.datawrangler.viewer.v0+json": {
       "columns": [
        {
         "name": "index",
         "rawType": "object",
         "type": "string"
        },
        {
         "name": "year",
         "rawType": "float64",
         "type": "float"
        },
        {
         "name": "month",
         "rawType": "float64",
         "type": "float"
        },
        {
         "name": "volumn",
         "rawType": "float64",
         "type": "float"
        }
       ],
       "ref": "9497b630-0e94-4243-822f-b9dd85c13a8c",
       "rows": [
        [
         "count",
         "332.0",
         "332.0",
         "332.0"
        ],
        [
         "mean",
         "2003.3373493975903",
         "6.451807228915663",
         "1309.8014457831325"
        ],
        [
         "std",
         "8.000418581849535",
         "3.4475916177423116",
         "159.0872741525832"
        ],
        [
         "min",
         "1990.0",
         "1.0",
         "954.78"
        ],
        [
         "25%",
         "1996.0",
         "3.0",
         "1198.0124999999998"
        ],
        [
         "50%",
         "2003.0",
         "6.0",
         "1298.8"
        ],
        [
         "75%",
         "2010.0",
         "9.0",
         "1415.9675"
        ],
        [
         "max",
         "2017.0",
         "12.0",
         "1678.98"
        ]
       ],
       "shape": {
        "columns": 3,
        "rows": 8
       }
      },
      "text/html": [
       "<div>\n",
       "<style scoped>\n",
       "    .dataframe tbody tr th:only-of-type {\n",
       "        vertical-align: middle;\n",
       "    }\n",
       "\n",
       "    .dataframe tbody tr th {\n",
       "        vertical-align: top;\n",
       "    }\n",
       "\n",
       "    .dataframe thead th {\n",
       "        text-align: right;\n",
       "    }\n",
       "</style>\n",
       "<table border=\"1\" class=\"dataframe\">\n",
       "  <thead>\n",
       "    <tr style=\"text-align: right;\">\n",
       "      <th></th>\n",
       "      <th>year</th>\n",
       "      <th>month</th>\n",
       "      <th>volumn</th>\n",
       "    </tr>\n",
       "  </thead>\n",
       "  <tbody>\n",
       "    <tr>\n",
       "      <th>count</th>\n",
       "      <td>332.000000</td>\n",
       "      <td>332.000000</td>\n",
       "      <td>332.000000</td>\n",
       "    </tr>\n",
       "    <tr>\n",
       "      <th>mean</th>\n",
       "      <td>2003.337349</td>\n",
       "      <td>6.451807</td>\n",
       "      <td>1309.801446</td>\n",
       "    </tr>\n",
       "    <tr>\n",
       "      <th>std</th>\n",
       "      <td>8.000419</td>\n",
       "      <td>3.447592</td>\n",
       "      <td>159.087274</td>\n",
       "    </tr>\n",
       "    <tr>\n",
       "      <th>min</th>\n",
       "      <td>1990.000000</td>\n",
       "      <td>1.000000</td>\n",
       "      <td>954.780000</td>\n",
       "    </tr>\n",
       "    <tr>\n",
       "      <th>25%</th>\n",
       "      <td>1996.000000</td>\n",
       "      <td>3.000000</td>\n",
       "      <td>1198.012500</td>\n",
       "    </tr>\n",
       "    <tr>\n",
       "      <th>50%</th>\n",
       "      <td>2003.000000</td>\n",
       "      <td>6.000000</td>\n",
       "      <td>1298.800000</td>\n",
       "    </tr>\n",
       "    <tr>\n",
       "      <th>75%</th>\n",
       "      <td>2010.000000</td>\n",
       "      <td>9.000000</td>\n",
       "      <td>1415.967500</td>\n",
       "    </tr>\n",
       "    <tr>\n",
       "      <th>max</th>\n",
       "      <td>2017.000000</td>\n",
       "      <td>12.000000</td>\n",
       "      <td>1678.980000</td>\n",
       "    </tr>\n",
       "  </tbody>\n",
       "</table>\n",
       "</div>"
      ],
      "text/plain": [
       "              year       month       volumn\n",
       "count   332.000000  332.000000   332.000000\n",
       "mean   2003.337349    6.451807  1309.801446\n",
       "std       8.000419    3.447592   159.087274\n",
       "min    1990.000000    1.000000   954.780000\n",
       "25%    1996.000000    3.000000  1198.012500\n",
       "50%    2003.000000    6.000000  1298.800000\n",
       "75%    2010.000000    9.000000  1415.967500\n",
       "max    2017.000000   12.000000  1678.980000"
      ]
     },
     "execution_count": 6,
     "metadata": {},
     "output_type": "execute_result"
    }
   ],
   "source": [
    "df.describe()"
   ]
  },
  {
   "cell_type": "markdown",
   "metadata": {},
   "source": [
    "### Sort by Values"
   ]
  },
  {
   "cell_type": "code",
   "execution_count": 7,
   "metadata": {
    "colab": {
     "base_uri": "https://localhost:8080/",
     "height": 423
    },
    "executionInfo": {
     "elapsed": 555,
     "status": "ok",
     "timestamp": 1725957147626,
     "user": {
      "displayName": "Park Chan Hee",
      "userId": "12253724632409422807"
     },
     "user_tz": -540
    },
    "id": "9VgIWwSACxFM",
    "outputId": "d83cfd0b-e776-42fe-e4e7-6c7e6dfc7b0a"
   },
   "outputs": [
    {
     "name": "stdout",
     "output_type": "stream",
     "text": [
      "     year  month   volumn\n",
      "331  2017      8  1368.74\n",
      "330  2017      7  1231.03\n",
      "329  2017      6  1250.43\n",
      "328  2017      5  1223.05\n",
      "327  2017      4  1289.15\n",
      "..    ...    ...      ...\n",
      "8    1990      9  1303.67\n",
      "9    1990     10  1493.49\n",
      "10   1990     11  1598.42\n",
      "11   1990     12  1613.31\n",
      "0    1990      1  1199.87\n",
      "\n",
      "[332 rows x 3 columns]\n"
     ]
    }
   ],
   "source": [
    "print(df.sort_values(by=\"year\", ascending=False))"
   ]
  },
  {
   "cell_type": "markdown",
   "metadata": {},
   "source": [
    "### Counts"
   ]
  },
  {
   "cell_type": "code",
   "execution_count": 8,
   "metadata": {},
   "outputs": [
    {
     "name": "stdout",
     "output_type": "stream",
     "text": [
      "year\n",
      "1990    12\n",
      "1991    12\n",
      "2016    12\n",
      "2015    12\n",
      "2014    12\n",
      "2013    12\n",
      "2012    12\n",
      "2011    12\n",
      "2010    12\n",
      "2009    12\n",
      "2008    12\n",
      "2007    12\n",
      "2006    12\n",
      "2005    12\n",
      "2004    12\n",
      "2003    12\n",
      "2002    12\n",
      "2001    12\n",
      "2000    12\n",
      "1999    12\n",
      "1998    12\n",
      "1997    12\n",
      "1996    12\n",
      "1995    12\n",
      "1994    12\n",
      "1993    12\n",
      "1992    12\n",
      "2017     8\n",
      "Name: count, dtype: int64\n"
     ]
    }
   ],
   "source": [
    "print(df.value_counts(\"year\"))"
   ]
  },
  {
   "cell_type": "code",
   "execution_count": 9,
   "metadata": {},
   "outputs": [
    {
     "name": "stdout",
     "output_type": "stream",
     "text": [
      "year\n",
      "1990    12\n",
      "1991    12\n",
      "1992    12\n",
      "1993    12\n",
      "1994    12\n",
      "1995    12\n",
      "1996    12\n",
      "1997    12\n",
      "1998    12\n",
      "1999    12\n",
      "2000    12\n",
      "2001    12\n",
      "2002    12\n",
      "2003    12\n",
      "2004    12\n",
      "2005    12\n",
      "2006    12\n",
      "2007    12\n",
      "2008    12\n",
      "2009    12\n",
      "2010    12\n",
      "2011    12\n",
      "2012    12\n",
      "2013    12\n",
      "2014    12\n",
      "2015    12\n",
      "2016    12\n",
      "2017     8\n",
      "Name: count, dtype: int64\n"
     ]
    }
   ],
   "source": [
    "print(df.value_counts(\"year\").sort_index(ascending=True))"
   ]
  },
  {
   "cell_type": "markdown",
   "metadata": {},
   "source": [
    "### loc"
   ]
  },
  {
   "cell_type": "code",
   "execution_count": 10,
   "metadata": {},
   "outputs": [
    {
     "name": "stdout",
     "output_type": "stream",
     "text": [
      "year      1990.00\n",
      "month        1.00\n",
      "volumn    1199.87\n",
      "Name: 0, dtype: float64\n"
     ]
    }
   ],
   "source": [
    "print(df.loc[0])\n",
    "# print(df[0])"
   ]
  },
  {
   "cell_type": "markdown",
   "metadata": {
    "id": "I5BuF4utC2qN"
   },
   "source": [
    "### groupby\n",
    "- 연도별 생산량 평균 구하기  \n",
    "1) .loc  \n",
    "2) for문   \n",
    "3) groupby   \n",
    "refer: https://datadoctorblog.com/2023/04/28/Py-Basic-Pandas-Groupby/"
   ]
  },
  {
   "cell_type": "code",
   "execution_count": 11,
   "metadata": {
    "id": "3JIlyO1DDEJA"
   },
   "outputs": [
    {
     "name": "stdout",
     "output_type": "stream",
     "text": [
      "[np.int64(1990), np.int64(1991), np.int64(1992), np.int64(1993), np.int64(1994), np.int64(1995), np.int64(1996), np.int64(1997), np.int64(1998), np.int64(1999), np.int64(2000), np.int64(2001), np.int64(2002), np.int64(2003), np.int64(2004), np.int64(2005), np.int64(2006), np.int64(2007), np.int64(2008), np.int64(2009), np.int64(2010), np.int64(2011), np.int64(2012), np.int64(2013), np.int64(2014), np.int64(2015), np.int64(2016), np.int64(2017)]\n"
     ]
    }
   ],
   "source": [
    "# df.sort_values(by='year').value_counts()\n",
    "list_year = list(df['year'].unique())\n",
    "print(list_year)"
   ]
  },
  {
   "cell_type": "markdown",
   "metadata": {},
   "source": [
    "#### Find Index"
   ]
  },
  {
   "cell_type": "code",
   "execution_count": 12,
   "metadata": {},
   "outputs": [
    {
     "data": {
      "application/vnd.microsoft.datawrangler.viewer.v0+json": {
       "columns": [
        {
         "name": "index",
         "rawType": "int64",
         "type": "integer"
        },
        {
         "name": "year",
         "rawType": "bool",
         "type": "boolean"
        }
       ],
       "ref": "c30c871c-fe20-4243-a1c7-a175c89acbf6",
       "rows": [
        [
         "0",
         "True"
        ],
        [
         "1",
         "True"
        ],
        [
         "2",
         "True"
        ],
        [
         "3",
         "True"
        ],
        [
         "4",
         "True"
        ],
        [
         "5",
         "True"
        ],
        [
         "6",
         "True"
        ],
        [
         "7",
         "True"
        ],
        [
         "8",
         "True"
        ],
        [
         "9",
         "True"
        ],
        [
         "10",
         "True"
        ],
        [
         "11",
         "True"
        ],
        [
         "12",
         "False"
        ],
        [
         "13",
         "False"
        ],
        [
         "14",
         "False"
        ],
        [
         "15",
         "False"
        ],
        [
         "16",
         "False"
        ],
        [
         "17",
         "False"
        ],
        [
         "18",
         "False"
        ],
        [
         "19",
         "False"
        ],
        [
         "20",
         "False"
        ],
        [
         "21",
         "False"
        ],
        [
         "22",
         "False"
        ],
        [
         "23",
         "False"
        ],
        [
         "24",
         "False"
        ],
        [
         "25",
         "False"
        ],
        [
         "26",
         "False"
        ],
        [
         "27",
         "False"
        ],
        [
         "28",
         "False"
        ],
        [
         "29",
         "False"
        ],
        [
         "30",
         "False"
        ],
        [
         "31",
         "False"
        ],
        [
         "32",
         "False"
        ],
        [
         "33",
         "False"
        ],
        [
         "34",
         "False"
        ],
        [
         "35",
         "False"
        ],
        [
         "36",
         "False"
        ],
        [
         "37",
         "False"
        ],
        [
         "38",
         "False"
        ],
        [
         "39",
         "False"
        ],
        [
         "40",
         "False"
        ],
        [
         "41",
         "False"
        ],
        [
         "42",
         "False"
        ],
        [
         "43",
         "False"
        ],
        [
         "44",
         "False"
        ],
        [
         "45",
         "False"
        ],
        [
         "46",
         "False"
        ],
        [
         "47",
         "False"
        ],
        [
         "48",
         "False"
        ],
        [
         "49",
         "False"
        ]
       ],
       "shape": {
        "columns": 1,
        "rows": 332
       }
      },
      "text/plain": [
       "0       True\n",
       "1       True\n",
       "2       True\n",
       "3       True\n",
       "4       True\n",
       "       ...  \n",
       "327    False\n",
       "328    False\n",
       "329    False\n",
       "330    False\n",
       "331    False\n",
       "Name: year, Length: 332, dtype: bool"
      ]
     },
     "execution_count": 12,
     "metadata": {},
     "output_type": "execute_result"
    }
   ],
   "source": [
    "df[\"year\"]==list_year[0]"
   ]
  },
  {
   "cell_type": "markdown",
   "metadata": {},
   "source": [
    "#### Extract Year from the index"
   ]
  },
  {
   "cell_type": "code",
   "execution_count": 13,
   "metadata": {},
   "outputs": [
    {
     "name": "stdout",
     "output_type": "stream",
     "text": [
      "    year  month   volumn\n",
      "0   1990      1  1199.87\n",
      "1   1990      2  1214.54\n",
      "2   1990      3  1138.17\n",
      "3   1990      4  1061.09\n",
      "4   1990      5  1064.13\n",
      "5   1990      6  1113.13\n",
      "6   1990      7  1163.86\n",
      "7   1990      8  1227.80\n",
      "8   1990      9  1303.67\n",
      "9   1990     10  1493.49\n",
      "10  1990     11  1598.42\n",
      "11  1990     12  1613.31\n"
     ]
    }
   ],
   "source": [
    "df_each_year = df.loc[df[\"year\"]==list_year[0]]\n",
    "print(df_each_year)"
   ]
  },
  {
   "cell_type": "markdown",
   "metadata": {},
   "source": [
    "#### Volume for each year"
   ]
  },
  {
   "cell_type": "code",
   "execution_count": 14,
   "metadata": {},
   "outputs": [
    {
     "name": "stdout",
     "output_type": "stream",
     "text": [
      "0     1199.87\n",
      "1     1214.54\n",
      "2     1138.17\n",
      "3     1061.09\n",
      "4     1064.13\n",
      "5     1113.13\n",
      "6     1163.86\n",
      "7     1227.80\n",
      "8     1303.67\n",
      "9     1493.49\n",
      "10    1598.42\n",
      "11    1613.31\n",
      "Name: volumn, dtype: float64\n"
     ]
    }
   ],
   "source": [
    "df_year_volumn = df.loc[df[\"year\"]==list_year[0]][\"volumn\"]\n",
    "print(df_year_volumn)"
   ]
  },
  {
   "cell_type": "markdown",
   "metadata": {},
   "source": [
    "#### Mean"
   ]
  },
  {
   "cell_type": "code",
   "execution_count": 15,
   "metadata": {},
   "outputs": [
    {
     "name": "stdout",
     "output_type": "stream",
     "text": [
      "1265.9566666666667\n"
     ]
    }
   ],
   "source": [
    "print(df_year_volumn.mean())"
   ]
  },
  {
   "cell_type": "markdown",
   "metadata": {},
   "source": [
    "#### Mean Volume for every year"
   ]
  },
  {
   "cell_type": "code",
   "execution_count": 16,
   "metadata": {
    "colab": {
     "base_uri": "https://localhost:8080/"
    },
    "executionInfo": {
     "elapsed": 401,
     "status": "ok",
     "timestamp": 1725957264831,
     "user": {
      "displayName": "Park Chan Hee",
      "userId": "12253724632409422807"
     },
     "user_tz": -540
    },
    "id": "5NmdWnqsx6PD",
    "outputId": "45af3130-8811-4827-871f-9ab90ef422af"
   },
   "outputs": [
    {
     "data": {
      "text/plain": [
       "[np.float64(1265.9566666666667),\n",
       " np.float64(1316.8275),\n",
       " np.float64(1231.8875),\n",
       " np.float64(1255.1999999999998),\n",
       " np.float64(1255.1266666666666),\n",
       " np.float64(1270.1575),\n",
       " np.float64(1322.3174999999999),\n",
       " np.float64(1347.9641666666666),\n",
       " np.float64(1425.135),\n",
       " np.float64(1396.5541666666666),\n",
       " np.float64(1462.28),\n",
       " np.float64(1446.6299999999999),\n",
       " np.float64(1385.381666666667),\n",
       " np.float64(1379.4608333333333),\n",
       " np.float64(1394.5916666666665),\n",
       " np.float64(1439.4350000000002),\n",
       " np.float64(1380.4625000000003),\n",
       " np.float64(1300.735),\n",
       " np.float64(1186.1866666666667),\n",
       " np.float64(1133.7708333333335),\n",
       " np.float64(1242.165),\n",
       " np.float64(1207.1499999999999),\n",
       " np.float64(1199.9991666666667),\n",
       " np.float64(1251.1333333333332),\n",
       " np.float64(1250.7891666666667),\n",
       " np.float64(1330.1916666666668),\n",
       " np.float64(1301.9941666666666),\n",
       " np.float64(1287.5349999999999)]"
      ]
     },
     "execution_count": 16,
     "metadata": {},
     "output_type": "execute_result"
    }
   ],
   "source": [
    "# 2)\n",
    "yr_volumn_mean = []\n",
    "for year in list_year:\n",
    "  yr_volumn_mean.append(df.loc[df[\"year\"]==year,\"volumn\"].mean())\n",
    "yr_volumn_mean"
   ]
  },
  {
   "cell_type": "markdown",
   "metadata": {},
   "source": [
    "#### Mean Volume for every year (Using group by)"
   ]
  },
  {
   "cell_type": "code",
   "execution_count": 17,
   "metadata": {},
   "outputs": [
    {
     "name": "stdout",
     "output_type": "stream",
     "text": [
      "<pandas.core.groupby.generic.SeriesGroupBy object at 0x1125416a0>\n"
     ]
    }
   ],
   "source": [
    "df_groupby_year_month = df.groupby([\"year\",\"month\"])[\"volumn\"]\n",
    "df_groupby_year = df.groupby([\"year\"])[\"volumn\"]\n",
    "print(df_groupby_year_month)"
   ]
  },
  {
   "cell_type": "code",
   "execution_count": 18,
   "metadata": {},
   "outputs": [
    {
     "name": "stdout",
     "output_type": "stream",
     "text": [
      "year  month\n",
      "1990  1        1199.87\n",
      "      2        1214.54\n",
      "      3        1138.17\n",
      "      4        1061.09\n",
      "      5        1064.13\n",
      "                ...   \n",
      "2017  4        1289.15\n",
      "      5        1223.05\n",
      "      6        1250.43\n",
      "      7        1231.03\n",
      "      8        1368.74\n",
      "Name: volumn, Length: 332, dtype: float64\n",
      "year\n",
      "1990    1265.956667\n",
      "1991    1316.827500\n",
      "1992    1231.887500\n",
      "1993    1255.200000\n",
      "1994    1255.126667\n",
      "1995    1270.157500\n",
      "1996    1322.317500\n",
      "1997    1347.964167\n",
      "1998    1425.135000\n",
      "1999    1396.554167\n",
      "2000    1462.280000\n",
      "2001    1446.630000\n",
      "2002    1385.381667\n",
      "2003    1379.460833\n",
      "2004    1394.591667\n",
      "2005    1439.435000\n",
      "2006    1380.462500\n",
      "2007    1300.735000\n",
      "2008    1186.186667\n",
      "2009    1133.770833\n",
      "2010    1242.165000\n",
      "2011    1207.150000\n",
      "2012    1199.999167\n",
      "2013    1251.133333\n",
      "2014    1250.789167\n",
      "2015    1330.191667\n",
      "2016    1301.994167\n",
      "2017    1287.535000\n",
      "Name: volumn, dtype: float64\n"
     ]
    }
   ],
   "source": [
    "print(df_groupby_year_month.mean())\n",
    "print(df_groupby_year.mean())"
   ]
  },
  {
   "cell_type": "markdown",
   "metadata": {},
   "source": [
    "#### agg"
   ]
  },
  {
   "cell_type": "code",
   "execution_count": 19,
   "metadata": {},
   "outputs": [
    {
     "name": "stdout",
     "output_type": "stream",
     "text": [
      "          min      max         mean\n",
      "year                               \n",
      "1990  1061.09  1613.31  1265.956667\n",
      "1991  1139.07  1551.77  1316.827500\n",
      "1992  1076.76  1466.11  1231.887500\n",
      "1993  1061.28  1497.98  1255.200000\n",
      "1994  1044.15  1499.80  1255.126667\n",
      "1995  1123.16  1546.87  1270.157500\n",
      "1996  1137.70  1633.81  1322.317500\n",
      "1997  1168.54  1632.32  1347.964167\n",
      "1998  1273.98  1643.83  1425.135000\n",
      "1999  1275.27  1614.78  1396.554167\n",
      "2000  1304.64  1664.45  1462.280000\n",
      "2001  1355.22  1555.92  1446.630000\n",
      "2002  1222.20  1542.89  1385.381667\n",
      "2003  1234.22  1593.49  1379.460833\n",
      "2004  1226.44  1597.74  1394.591667\n",
      "2005  1281.62  1678.98  1439.435000\n",
      "2006  1220.54  1584.31  1380.462500\n",
      "2007  1096.65  1460.84  1300.735000\n",
      "2008  1021.42  1390.49  1186.186667\n",
      "2009   954.78  1484.07  1133.770833\n",
      "2010  1073.90  1515.33  1242.165000\n",
      "2011  1075.52  1401.91  1207.150000\n",
      "2012  1024.21  1393.68  1199.999167\n",
      "2013  1101.10  1478.89  1251.133333\n",
      "2014  1057.14  1548.74  1250.789167\n",
      "2015  1161.36  1520.93  1330.191667\n",
      "2016  1224.98  1428.60  1301.994167\n",
      "2017  1223.05  1368.74  1287.535000\n"
     ]
    }
   ],
   "source": [
    "print(df_groupby_year.agg([\"min\", \"max\", \"mean\"]))"
   ]
  },
  {
   "cell_type": "markdown",
   "metadata": {
    "id": "kRRSCLluInK4"
   },
   "source": [
    "#### apply\n",
    "- apply(func=\"mean\", axis=1)\n",
    "- apply(lambda x: x.mean()+100, axis=1)\n",
    "- apply(사용자함수, axis=1)  \n",
    "ref: https://datadoctorblog.com/2023/05/01/Py-Basic-Pandas-Apply/"
   ]
  },
  {
   "cell_type": "code",
   "execution_count": 20,
   "metadata": {
    "colab": {
     "base_uri": "https://localhost:8080/",
     "height": 993
    },
    "executionInfo": {
     "elapsed": 367,
     "status": "ok",
     "timestamp": 1725957408509,
     "user": {
      "displayName": "Park Chan Hee",
      "userId": "12253724632409422807"
     },
     "user_tz": -540
    },
    "id": "sbydBZDCJexU",
    "outputId": "86a8e69b-9ae4-4f9d-dbbf-38cb38ddc8ce"
   },
   "outputs": [
    {
     "data": {
      "application/vnd.microsoft.datawrangler.viewer.v0+json": {
       "columns": [
        {
         "name": "year",
         "rawType": "int64",
         "type": "integer"
        },
        {
         "name": "volumn",
         "rawType": "float64",
         "type": "float"
        }
       ],
       "ref": "d4290c5a-f7af-471b-83d3-caae751c3e7e",
       "rows": [
        [
         "1990",
         "1265.9566666666667"
        ],
        [
         "1991",
         "1316.8275"
        ],
        [
         "1992",
         "1231.8875"
        ],
        [
         "1993",
         "1255.2"
        ],
        [
         "1994",
         "1255.1266666666668"
        ],
        [
         "1995",
         "1270.1575"
        ],
        [
         "1996",
         "1322.3174999999999"
        ],
        [
         "1997",
         "1347.9641666666666"
        ],
        [
         "1998",
         "1425.135"
        ],
        [
         "1999",
         "1396.5541666666668"
        ],
        [
         "2000",
         "1462.28"
        ],
        [
         "2001",
         "1446.63"
        ],
        [
         "2002",
         "1385.381666666667"
        ],
        [
         "2003",
         "1379.4608333333333"
        ],
        [
         "2004",
         "1394.5916666666665"
        ],
        [
         "2005",
         "1439.4350000000002"
        ],
        [
         "2006",
         "1380.4624999999999"
        ],
        [
         "2007",
         "1300.735"
        ],
        [
         "2008",
         "1186.1866666666667"
        ],
        [
         "2009",
         "1133.7708333333333"
        ],
        [
         "2010",
         "1242.165"
        ],
        [
         "2011",
         "1207.1499999999999"
        ],
        [
         "2012",
         "1199.9991666666667"
        ],
        [
         "2013",
         "1251.1333333333334"
        ],
        [
         "2014",
         "1250.7891666666667"
        ],
        [
         "2015",
         "1330.1916666666666"
        ],
        [
         "2016",
         "1301.9941666666666"
        ],
        [
         "2017",
         "1287.535"
        ]
       ],
       "shape": {
        "columns": 1,
        "rows": 28
       }
      },
      "text/plain": [
       "year\n",
       "1990    1265.956667\n",
       "1991    1316.827500\n",
       "1992    1231.887500\n",
       "1993    1255.200000\n",
       "1994    1255.126667\n",
       "1995    1270.157500\n",
       "1996    1322.317500\n",
       "1997    1347.964167\n",
       "1998    1425.135000\n",
       "1999    1396.554167\n",
       "2000    1462.280000\n",
       "2001    1446.630000\n",
       "2002    1385.381667\n",
       "2003    1379.460833\n",
       "2004    1394.591667\n",
       "2005    1439.435000\n",
       "2006    1380.462500\n",
       "2007    1300.735000\n",
       "2008    1186.186667\n",
       "2009    1133.770833\n",
       "2010    1242.165000\n",
       "2011    1207.150000\n",
       "2012    1199.999167\n",
       "2013    1251.133333\n",
       "2014    1250.789167\n",
       "2015    1330.191667\n",
       "2016    1301.994167\n",
       "2017    1287.535000\n",
       "Name: volumn, dtype: float64"
      ]
     },
     "execution_count": 20,
     "metadata": {},
     "output_type": "execute_result"
    }
   ],
   "source": [
    "df_groupby_year.apply(\"mean\")"
   ]
  },
  {
   "cell_type": "code",
   "execution_count": 21,
   "metadata": {
    "id": "-RVOFsfTJe5K"
   },
   "outputs": [],
   "source": [
    "def mean_add_100(x):\n",
    "  return x.mean()+100"
   ]
  },
  {
   "cell_type": "code",
   "execution_count": 22,
   "metadata": {
    "id": "wHc-TNXPFDco"
   },
   "outputs": [
    {
     "name": "stdout",
     "output_type": "stream",
     "text": [
      "year\n",
      "1990    1365.956667\n",
      "1991    1416.827500\n",
      "1992    1331.887500\n",
      "1993    1355.200000\n",
      "1994    1355.126667\n",
      "1995    1370.157500\n",
      "1996    1422.317500\n",
      "1997    1447.964167\n",
      "1998    1525.135000\n",
      "1999    1496.554167\n",
      "2000    1562.280000\n",
      "2001    1546.630000\n",
      "2002    1485.381667\n",
      "2003    1479.460833\n",
      "2004    1494.591667\n",
      "2005    1539.435000\n",
      "2006    1480.462500\n",
      "2007    1400.735000\n",
      "2008    1286.186667\n",
      "2009    1233.770833\n",
      "2010    1342.165000\n",
      "2011    1307.150000\n",
      "2012    1299.999167\n",
      "2013    1351.133333\n",
      "2014    1350.789167\n",
      "2015    1430.191667\n",
      "2016    1401.994167\n",
      "2017    1387.535000\n",
      "Name: volumn, dtype: float64\n"
     ]
    }
   ],
   "source": [
    "print(df_groupby_year.apply(mean_add_100))"
   ]
  },
  {
   "cell_type": "markdown",
   "metadata": {
    "id": "BOs-MceCx7Te"
   },
   "source": [
    "# 통계값 구하기\n",
    "- df 중 NaN 값은 제외하고, numeric column 만 계산\n",
    "- df기본 통계기능 .mean(), median(), var()\n",
    "- df.describe()"
   ]
  },
  {
   "cell_type": "markdown",
   "metadata": {},
   "source": [
    "#### Load data"
   ]
  },
  {
   "cell_type": "code",
   "execution_count": 23,
   "metadata": {
    "id": "EaWSHfXlP1bG"
   },
   "outputs": [
    {
     "name": "stdout",
     "output_type": "stream",
     "text": [
      "     Sepal.Length  Sepal.Width  Petal.Length  Petal.Width    Species\n",
      "0             5.1          NaN           NaN          0.2     setosa\n",
      "1             4.9          3.0           1.4          0.2     setosa\n",
      "2             4.7          3.2           1.3          0.2     setosa\n",
      "3             4.6          3.1           1.5          0.2     setosa\n",
      "4             5.0          3.6           1.4          0.2     setosa\n",
      "..            ...          ...           ...          ...        ...\n",
      "145           6.7          3.0           5.2          2.3  virginica\n",
      "146           NaN          2.5           NaN          NaN  virginica\n",
      "147           6.5          3.0           5.2          2.0  virginica\n",
      "148           6.2          3.4           5.4          2.3  virginica\n",
      "149           5.9          3.0           5.1          NaN  virginica\n",
      "\n",
      "[150 rows x 5 columns]\n"
     ]
    },
    {
     "data": {
      "application/vnd.microsoft.datawrangler.viewer.v0+json": {
       "columns": [
        {
         "name": "index",
         "rawType": "object",
         "type": "string"
        },
        {
         "name": "Sepal.Length",
         "rawType": "float64",
         "type": "float"
        },
        {
         "name": "Sepal.Width",
         "rawType": "float64",
         "type": "float"
        },
        {
         "name": "Petal.Length",
         "rawType": "float64",
         "type": "float"
        },
        {
         "name": "Petal.Width",
         "rawType": "float64",
         "type": "float"
        }
       ],
       "ref": "a36ce2be-f6fd-4ae0-8ebe-cd6fccf496b7",
       "rows": [
        [
         "count",
         "143.0",
         "137.0",
         "136.0",
         "144.0"
        ],
        [
         "mean",
         "5.8538461538461535",
         "3.07007299270073",
         "3.8117647058823527",
         "1.1909722222222223"
        ],
        [
         "std",
         "0.8235759566951737",
         "0.4386417812748215",
         "1.7499654525067971",
         "0.7682432229266004"
        ],
        [
         "min",
         "4.3",
         "2.0",
         "1.0",
         "0.1"
        ],
        [
         "25%",
         "5.1",
         "2.8",
         "1.6",
         "0.3"
        ],
        [
         "50%",
         "5.8",
         "3.0",
         "4.4",
         "1.3"
        ],
        [
         "75%",
         "6.4",
         "3.3",
         "5.1",
         "1.8"
        ],
        [
         "max",
         "7.9",
         "4.4",
         "6.9",
         "2.5"
        ]
       ],
       "shape": {
        "columns": 4,
        "rows": 8
       }
      },
      "text/html": [
       "<div>\n",
       "<style scoped>\n",
       "    .dataframe tbody tr th:only-of-type {\n",
       "        vertical-align: middle;\n",
       "    }\n",
       "\n",
       "    .dataframe tbody tr th {\n",
       "        vertical-align: top;\n",
       "    }\n",
       "\n",
       "    .dataframe thead th {\n",
       "        text-align: right;\n",
       "    }\n",
       "</style>\n",
       "<table border=\"1\" class=\"dataframe\">\n",
       "  <thead>\n",
       "    <tr style=\"text-align: right;\">\n",
       "      <th></th>\n",
       "      <th>Sepal.Length</th>\n",
       "      <th>Sepal.Width</th>\n",
       "      <th>Petal.Length</th>\n",
       "      <th>Petal.Width</th>\n",
       "    </tr>\n",
       "  </thead>\n",
       "  <tbody>\n",
       "    <tr>\n",
       "      <th>count</th>\n",
       "      <td>143.000000</td>\n",
       "      <td>137.000000</td>\n",
       "      <td>136.000000</td>\n",
       "      <td>144.000000</td>\n",
       "    </tr>\n",
       "    <tr>\n",
       "      <th>mean</th>\n",
       "      <td>5.853846</td>\n",
       "      <td>3.070073</td>\n",
       "      <td>3.811765</td>\n",
       "      <td>1.190972</td>\n",
       "    </tr>\n",
       "    <tr>\n",
       "      <th>std</th>\n",
       "      <td>0.823576</td>\n",
       "      <td>0.438642</td>\n",
       "      <td>1.749965</td>\n",
       "      <td>0.768243</td>\n",
       "    </tr>\n",
       "    <tr>\n",
       "      <th>min</th>\n",
       "      <td>4.300000</td>\n",
       "      <td>2.000000</td>\n",
       "      <td>1.000000</td>\n",
       "      <td>0.100000</td>\n",
       "    </tr>\n",
       "    <tr>\n",
       "      <th>25%</th>\n",
       "      <td>5.100000</td>\n",
       "      <td>2.800000</td>\n",
       "      <td>1.600000</td>\n",
       "      <td>0.300000</td>\n",
       "    </tr>\n",
       "    <tr>\n",
       "      <th>50%</th>\n",
       "      <td>5.800000</td>\n",
       "      <td>3.000000</td>\n",
       "      <td>4.400000</td>\n",
       "      <td>1.300000</td>\n",
       "    </tr>\n",
       "    <tr>\n",
       "      <th>75%</th>\n",
       "      <td>6.400000</td>\n",
       "      <td>3.300000</td>\n",
       "      <td>5.100000</td>\n",
       "      <td>1.800000</td>\n",
       "    </tr>\n",
       "    <tr>\n",
       "      <th>max</th>\n",
       "      <td>7.900000</td>\n",
       "      <td>4.400000</td>\n",
       "      <td>6.900000</td>\n",
       "      <td>2.500000</td>\n",
       "    </tr>\n",
       "  </tbody>\n",
       "</table>\n",
       "</div>"
      ],
      "text/plain": [
       "       Sepal.Length  Sepal.Width  Petal.Length  Petal.Width\n",
       "count    143.000000   137.000000    136.000000   144.000000\n",
       "mean       5.853846     3.070073      3.811765     1.190972\n",
       "std        0.823576     0.438642      1.749965     0.768243\n",
       "min        4.300000     2.000000      1.000000     0.100000\n",
       "25%        5.100000     2.800000      1.600000     0.300000\n",
       "50%        5.800000     3.000000      4.400000     1.300000\n",
       "75%        6.400000     3.300000      5.100000     1.800000\n",
       "max        7.900000     4.400000      6.900000     2.500000"
      ]
     },
     "execution_count": 23,
     "metadata": {},
     "output_type": "execute_result"
    }
   ],
   "source": [
    "s = 'https://raw.githubusercontent.com/jongmoonha/AI-ME-Practice/refs/heads/main/data/iris_missing.csv'\n",
    "df_iris = pd.read_csv(s)\n",
    "print(df_iris)\n",
    "df_iris.describe()"
   ]
  },
  {
   "cell_type": "markdown",
   "metadata": {},
   "source": [
    "#### Read column names"
   ]
  },
  {
   "cell_type": "code",
   "execution_count": 24,
   "metadata": {},
   "outputs": [
    {
     "data": {
      "text/plain": [
       "Index(['Sepal.Length', 'Sepal.Width', 'Petal.Length', 'Petal.Width',\n",
       "       'Species'],\n",
       "      dtype='object')"
      ]
     },
     "execution_count": 24,
     "metadata": {},
     "output_type": "execute_result"
    }
   ],
   "source": [
    "df_iris.columns"
   ]
  },
  {
   "cell_type": "markdown",
   "metadata": {},
   "source": [
    "#### Find NaN Rows"
   ]
  },
  {
   "cell_type": "code",
   "execution_count": 25,
   "metadata": {},
   "outputs": [
    {
     "name": "stdout",
     "output_type": "stream",
     "text": [
      "     Sepal.Length  Sepal.Width  Petal.Length  Petal.Width  Species\n",
      "0            True        False         False         True     True\n",
      "1            True         True          True         True     True\n",
      "2            True         True          True         True     True\n",
      "3            True         True          True         True     True\n",
      "4            True         True          True         True     True\n",
      "..            ...          ...           ...          ...      ...\n",
      "145          True         True          True         True     True\n",
      "146         False         True         False        False     True\n",
      "147          True         True          True         True     True\n",
      "148          True         True          True         True     True\n",
      "149          True         True          True        False     True\n",
      "\n",
      "[150 rows x 5 columns]\n",
      "0      False\n",
      "1       True\n",
      "2       True\n",
      "3       True\n",
      "4       True\n",
      "       ...  \n",
      "145     True\n",
      "146    False\n",
      "147     True\n",
      "148     True\n",
      "149    False\n",
      "Length: 150, dtype: bool\n",
      "\n",
      "\n",
      " True     126\n",
      "False     24\n",
      "Name: count, dtype: int64\n"
     ]
    }
   ],
   "source": [
    "df_iris_notna = df_iris.notna()\n",
    "df_iris_notna_rows = df_iris_notna.all(axis=1)\n",
    "\n",
    "print(df_iris_notna)\n",
    "print(df_iris_notna_rows)\n",
    "print(\"\\n\\n\", df_iris_notna_rows.value_counts())"
   ]
  },
  {
   "cell_type": "code",
   "execution_count": 26,
   "metadata": {},
   "outputs": [
    {
     "name": "stdout",
     "output_type": "stream",
     "text": [
      "     Sepal.Length  Sepal.Width  Petal.Length  Petal.Width    Species\n",
      "1             4.9          3.0           1.4          0.2     setosa\n",
      "2             4.7          3.2           1.3          0.2     setosa\n",
      "3             4.6          3.1           1.5          0.2     setosa\n",
      "4             5.0          3.6           1.4          0.2     setosa\n",
      "5             5.4          3.9           1.7          0.4     setosa\n",
      "..            ...          ...           ...          ...        ...\n",
      "143           6.8          3.2           5.9          2.3  virginica\n",
      "144           6.7          3.3           5.7          2.5  virginica\n",
      "145           6.7          3.0           5.2          2.3  virginica\n",
      "147           6.5          3.0           5.2          2.0  virginica\n",
      "148           6.2          3.4           5.4          2.3  virginica\n",
      "\n",
      "[126 rows x 5 columns]\n"
     ]
    }
   ],
   "source": [
    "df_iris_notna = df_iris.loc[df_iris_notna_rows]\n",
    "print(df_iris_notna)"
   ]
  },
  {
   "cell_type": "code",
   "execution_count": 27,
   "metadata": {},
   "outputs": [
    {
     "data": {
      "application/vnd.microsoft.datawrangler.viewer.v0+json": {
       "columns": [
        {
         "name": "index",
         "rawType": "int64",
         "type": "integer"
        },
        {
         "name": "Sepal.Length",
         "rawType": "float64",
         "type": "float"
        },
        {
         "name": "Sepal.Width",
         "rawType": "float64",
         "type": "float"
        },
        {
         "name": "Petal.Length",
         "rawType": "float64",
         "type": "float"
        },
        {
         "name": "Petal.Width",
         "rawType": "float64",
         "type": "float"
        }
       ],
       "ref": "cee017ff-ab8e-4fdf-921e-8b3a2b3438cd",
       "rows": [
        [
         "1",
         "4.9",
         "3.0",
         "1.4",
         "0.2"
        ],
        [
         "2",
         "4.7",
         "3.2",
         "1.3",
         "0.2"
        ],
        [
         "3",
         "4.6",
         "3.1",
         "1.5",
         "0.2"
        ],
        [
         "4",
         "5.0",
         "3.6",
         "1.4",
         "0.2"
        ],
        [
         "5",
         "5.4",
         "3.9",
         "1.7",
         "0.4"
        ],
        [
         "8",
         "4.4",
         "2.9",
         "1.4",
         "0.2"
        ],
        [
         "11",
         "4.8",
         "3.4",
         "1.6",
         "0.2"
        ],
        [
         "13",
         "4.3",
         "3.0",
         "1.1",
         "0.1"
        ],
        [
         "14",
         "5.8",
         "4.0",
         "1.2",
         "0.2"
        ],
        [
         "15",
         "5.7",
         "4.4",
         "1.5",
         "0.4"
        ],
        [
         "16",
         "5.4",
         "3.9",
         "1.3",
         "0.4"
        ],
        [
         "17",
         "5.1",
         "3.5",
         "1.4",
         "0.3"
        ],
        [
         "18",
         "5.7",
         "3.8",
         "1.7",
         "0.3"
        ],
        [
         "19",
         "5.1",
         "3.8",
         "1.5",
         "0.3"
        ],
        [
         "20",
         "5.4",
         "3.4",
         "1.7",
         "0.2"
        ],
        [
         "21",
         "5.1",
         "3.7",
         "1.5",
         "0.4"
        ],
        [
         "22",
         "4.6",
         "3.6",
         "1.0",
         "0.2"
        ],
        [
         "23",
         "5.1",
         "3.3",
         "1.7",
         "0.5"
        ],
        [
         "24",
         "4.8",
         "3.4",
         "1.9",
         "0.2"
        ],
        [
         "25",
         "5.0",
         "3.0",
         "1.6",
         "0.2"
        ],
        [
         "26",
         "5.0",
         "3.4",
         "1.6",
         "0.4"
        ],
        [
         "27",
         "5.2",
         "3.5",
         "1.5",
         "0.2"
        ],
        [
         "28",
         "5.2",
         "3.4",
         "1.4",
         "0.2"
        ],
        [
         "29",
         "4.7",
         "3.2",
         "1.6",
         "0.2"
        ],
        [
         "30",
         "4.8",
         "3.1",
         "1.6",
         "0.2"
        ],
        [
         "31",
         "5.4",
         "3.4",
         "1.5",
         "0.4"
        ],
        [
         "32",
         "5.2",
         "4.1",
         "1.5",
         "0.1"
        ],
        [
         "33",
         "5.5",
         "4.2",
         "1.4",
         "0.2"
        ],
        [
         "35",
         "5.0",
         "3.2",
         "1.2",
         "0.2"
        ],
        [
         "36",
         "5.5",
         "3.5",
         "1.3",
         "0.2"
        ],
        [
         "37",
         "4.9",
         "3.6",
         "1.4",
         "0.1"
        ],
        [
         "38",
         "4.4",
         "3.0",
         "1.3",
         "0.2"
        ],
        [
         "40",
         "5.0",
         "3.5",
         "1.3",
         "0.3"
        ],
        [
         "41",
         "4.5",
         "2.3",
         "1.3",
         "0.3"
        ],
        [
         "43",
         "5.0",
         "3.5",
         "1.6",
         "0.6"
        ],
        [
         "44",
         "5.1",
         "3.8",
         "1.9",
         "0.4"
        ],
        [
         "45",
         "4.8",
         "3.0",
         "1.4",
         "0.3"
        ],
        [
         "46",
         "5.1",
         "3.8",
         "1.6",
         "0.2"
        ],
        [
         "47",
         "4.6",
         "3.2",
         "1.4",
         "0.2"
        ],
        [
         "48",
         "5.3",
         "3.7",
         "1.5",
         "0.2"
        ],
        [
         "49",
         "5.0",
         "3.3",
         "1.4",
         "0.2"
        ],
        [
         "50",
         "7.0",
         "3.2",
         "4.7",
         "1.4"
        ],
        [
         "51",
         "6.4",
         "3.2",
         "4.5",
         "1.5"
        ],
        [
         "52",
         "6.9",
         "3.1",
         "4.9",
         "1.5"
        ],
        [
         "54",
         "6.5",
         "2.8",
         "4.6",
         "1.5"
        ],
        [
         "55",
         "5.7",
         "2.8",
         "4.5",
         "1.3"
        ],
        [
         "56",
         "6.3",
         "3.3",
         "4.7",
         "1.6"
        ],
        [
         "57",
         "4.9",
         "2.4",
         "3.3",
         "1.0"
        ],
        [
         "58",
         "6.6",
         "2.9",
         "4.6",
         "1.3"
        ],
        [
         "59",
         "5.2",
         "2.7",
         "3.9",
         "1.4"
        ]
       ],
       "shape": {
        "columns": 4,
        "rows": 126
       }
      },
      "text/html": [
       "<div>\n",
       "<style scoped>\n",
       "    .dataframe tbody tr th:only-of-type {\n",
       "        vertical-align: middle;\n",
       "    }\n",
       "\n",
       "    .dataframe tbody tr th {\n",
       "        vertical-align: top;\n",
       "    }\n",
       "\n",
       "    .dataframe thead th {\n",
       "        text-align: right;\n",
       "    }\n",
       "</style>\n",
       "<table border=\"1\" class=\"dataframe\">\n",
       "  <thead>\n",
       "    <tr style=\"text-align: right;\">\n",
       "      <th></th>\n",
       "      <th>Sepal.Length</th>\n",
       "      <th>Sepal.Width</th>\n",
       "      <th>Petal.Length</th>\n",
       "      <th>Petal.Width</th>\n",
       "    </tr>\n",
       "  </thead>\n",
       "  <tbody>\n",
       "    <tr>\n",
       "      <th>1</th>\n",
       "      <td>4.9</td>\n",
       "      <td>3.0</td>\n",
       "      <td>1.4</td>\n",
       "      <td>0.2</td>\n",
       "    </tr>\n",
       "    <tr>\n",
       "      <th>2</th>\n",
       "      <td>4.7</td>\n",
       "      <td>3.2</td>\n",
       "      <td>1.3</td>\n",
       "      <td>0.2</td>\n",
       "    </tr>\n",
       "    <tr>\n",
       "      <th>3</th>\n",
       "      <td>4.6</td>\n",
       "      <td>3.1</td>\n",
       "      <td>1.5</td>\n",
       "      <td>0.2</td>\n",
       "    </tr>\n",
       "    <tr>\n",
       "      <th>4</th>\n",
       "      <td>5.0</td>\n",
       "      <td>3.6</td>\n",
       "      <td>1.4</td>\n",
       "      <td>0.2</td>\n",
       "    </tr>\n",
       "    <tr>\n",
       "      <th>5</th>\n",
       "      <td>5.4</td>\n",
       "      <td>3.9</td>\n",
       "      <td>1.7</td>\n",
       "      <td>0.4</td>\n",
       "    </tr>\n",
       "    <tr>\n",
       "      <th>...</th>\n",
       "      <td>...</td>\n",
       "      <td>...</td>\n",
       "      <td>...</td>\n",
       "      <td>...</td>\n",
       "    </tr>\n",
       "    <tr>\n",
       "      <th>143</th>\n",
       "      <td>6.8</td>\n",
       "      <td>3.2</td>\n",
       "      <td>5.9</td>\n",
       "      <td>2.3</td>\n",
       "    </tr>\n",
       "    <tr>\n",
       "      <th>144</th>\n",
       "      <td>6.7</td>\n",
       "      <td>3.3</td>\n",
       "      <td>5.7</td>\n",
       "      <td>2.5</td>\n",
       "    </tr>\n",
       "    <tr>\n",
       "      <th>145</th>\n",
       "      <td>6.7</td>\n",
       "      <td>3.0</td>\n",
       "      <td>5.2</td>\n",
       "      <td>2.3</td>\n",
       "    </tr>\n",
       "    <tr>\n",
       "      <th>147</th>\n",
       "      <td>6.5</td>\n",
       "      <td>3.0</td>\n",
       "      <td>5.2</td>\n",
       "      <td>2.0</td>\n",
       "    </tr>\n",
       "    <tr>\n",
       "      <th>148</th>\n",
       "      <td>6.2</td>\n",
       "      <td>3.4</td>\n",
       "      <td>5.4</td>\n",
       "      <td>2.3</td>\n",
       "    </tr>\n",
       "  </tbody>\n",
       "</table>\n",
       "<p>126 rows × 4 columns</p>\n",
       "</div>"
      ],
      "text/plain": [
       "     Sepal.Length  Sepal.Width  Petal.Length  Petal.Width\n",
       "1             4.9          3.0           1.4          0.2\n",
       "2             4.7          3.2           1.3          0.2\n",
       "3             4.6          3.1           1.5          0.2\n",
       "4             5.0          3.6           1.4          0.2\n",
       "5             5.4          3.9           1.7          0.4\n",
       "..            ...          ...           ...          ...\n",
       "143           6.8          3.2           5.9          2.3\n",
       "144           6.7          3.3           5.7          2.5\n",
       "145           6.7          3.0           5.2          2.3\n",
       "147           6.5          3.0           5.2          2.0\n",
       "148           6.2          3.4           5.4          2.3\n",
       "\n",
       "[126 rows x 4 columns]"
      ]
     },
     "execution_count": 27,
     "metadata": {},
     "output_type": "execute_result"
    }
   ],
   "source": [
    "df_iris_notna_num = df_iris_notna[df_iris.columns[0:-1]]\n",
    "df_iris_notna_num"
   ]
  },
  {
   "cell_type": "code",
   "execution_count": 28,
   "metadata": {
    "colab": {
     "base_uri": "https://localhost:8080/",
     "height": 300
    },
    "executionInfo": {
     "elapsed": 323,
     "status": "ok",
     "timestamp": 1725957586276,
     "user": {
      "displayName": "Park Chan Hee",
      "userId": "12253724632409422807"
     },
     "user_tz": -540
    },
    "id": "nepQTTajQFPa",
    "outputId": "c80a31c9-57a4-40c4-f1b5-1135b5a0b151"
   },
   "outputs": [
    {
     "data": {
      "application/vnd.microsoft.datawrangler.viewer.v0+json": {
       "columns": [
        {
         "name": "index",
         "rawType": "object",
         "type": "string"
        },
        {
         "name": "Sepal.Length",
         "rawType": "float64",
         "type": "float"
        },
        {
         "name": "Sepal.Width",
         "rawType": "float64",
         "type": "float"
        },
        {
         "name": "Petal.Length",
         "rawType": "float64",
         "type": "float"
        },
        {
         "name": "Petal.Width",
         "rawType": "float64",
         "type": "float"
        }
       ],
       "ref": "603fd296-195f-4fea-b827-39daf7cafab4",
       "rows": [
        [
         "count",
         "126.0",
         "126.0",
         "126.0",
         "126.0"
        ],
        [
         "mean",
         "5.857936507936509",
         "3.08015873015873",
         "3.783333333333333",
         "1.2198412698412702"
        ],
        [
         "std",
         "0.8234904419217678",
         "0.4430837106046377",
         "1.7508283753697842",
         "0.7645149930532262"
        ],
        [
         "min",
         "4.3",
         "2.0",
         "1.0",
         "0.1"
        ],
        [
         "25%",
         "5.125",
         "2.8",
         "1.6",
         "0.325"
        ],
        [
         "50%",
         "5.8",
         "3.0",
         "4.4",
         "1.3"
        ],
        [
         "75%",
         "6.4",
         "3.375",
         "5.1",
         "1.8"
        ],
        [
         "max",
         "7.9",
         "4.4",
         "6.9",
         "2.5"
        ]
       ],
       "shape": {
        "columns": 4,
        "rows": 8
       }
      },
      "text/html": [
       "<div>\n",
       "<style scoped>\n",
       "    .dataframe tbody tr th:only-of-type {\n",
       "        vertical-align: middle;\n",
       "    }\n",
       "\n",
       "    .dataframe tbody tr th {\n",
       "        vertical-align: top;\n",
       "    }\n",
       "\n",
       "    .dataframe thead th {\n",
       "        text-align: right;\n",
       "    }\n",
       "</style>\n",
       "<table border=\"1\" class=\"dataframe\">\n",
       "  <thead>\n",
       "    <tr style=\"text-align: right;\">\n",
       "      <th></th>\n",
       "      <th>Sepal.Length</th>\n",
       "      <th>Sepal.Width</th>\n",
       "      <th>Petal.Length</th>\n",
       "      <th>Petal.Width</th>\n",
       "    </tr>\n",
       "  </thead>\n",
       "  <tbody>\n",
       "    <tr>\n",
       "      <th>count</th>\n",
       "      <td>126.000000</td>\n",
       "      <td>126.000000</td>\n",
       "      <td>126.000000</td>\n",
       "      <td>126.000000</td>\n",
       "    </tr>\n",
       "    <tr>\n",
       "      <th>mean</th>\n",
       "      <td>5.857937</td>\n",
       "      <td>3.080159</td>\n",
       "      <td>3.783333</td>\n",
       "      <td>1.219841</td>\n",
       "    </tr>\n",
       "    <tr>\n",
       "      <th>std</th>\n",
       "      <td>0.823490</td>\n",
       "      <td>0.443084</td>\n",
       "      <td>1.750828</td>\n",
       "      <td>0.764515</td>\n",
       "    </tr>\n",
       "    <tr>\n",
       "      <th>min</th>\n",
       "      <td>4.300000</td>\n",
       "      <td>2.000000</td>\n",
       "      <td>1.000000</td>\n",
       "      <td>0.100000</td>\n",
       "    </tr>\n",
       "    <tr>\n",
       "      <th>25%</th>\n",
       "      <td>5.125000</td>\n",
       "      <td>2.800000</td>\n",
       "      <td>1.600000</td>\n",
       "      <td>0.325000</td>\n",
       "    </tr>\n",
       "    <tr>\n",
       "      <th>50%</th>\n",
       "      <td>5.800000</td>\n",
       "      <td>3.000000</td>\n",
       "      <td>4.400000</td>\n",
       "      <td>1.300000</td>\n",
       "    </tr>\n",
       "    <tr>\n",
       "      <th>75%</th>\n",
       "      <td>6.400000</td>\n",
       "      <td>3.375000</td>\n",
       "      <td>5.100000</td>\n",
       "      <td>1.800000</td>\n",
       "    </tr>\n",
       "    <tr>\n",
       "      <th>max</th>\n",
       "      <td>7.900000</td>\n",
       "      <td>4.400000</td>\n",
       "      <td>6.900000</td>\n",
       "      <td>2.500000</td>\n",
       "    </tr>\n",
       "  </tbody>\n",
       "</table>\n",
       "</div>"
      ],
      "text/plain": [
       "       Sepal.Length  Sepal.Width  Petal.Length  Petal.Width\n",
       "count    126.000000   126.000000    126.000000   126.000000\n",
       "mean       5.857937     3.080159      3.783333     1.219841\n",
       "std        0.823490     0.443084      1.750828     0.764515\n",
       "min        4.300000     2.000000      1.000000     0.100000\n",
       "25%        5.125000     2.800000      1.600000     0.325000\n",
       "50%        5.800000     3.000000      4.400000     1.300000\n",
       "75%        6.400000     3.375000      5.100000     1.800000\n",
       "max        7.900000     4.400000      6.900000     2.500000"
      ]
     },
     "execution_count": 28,
     "metadata": {},
     "output_type": "execute_result"
    }
   ],
   "source": [
    "df_iris_notna_num.describe()"
   ]
  },
  {
   "cell_type": "markdown",
   "metadata": {},
   "source": [
    "# Correlation Analysis\n",
    "- .corr() for pandas (default: pearson, method=)\n",
    "- scipy.stats  library can!\n",
    "reference: https://datadoctorblog.com/2023/08/08/Py-Stat-correlation-analysis/"
   ]
  },
  {
   "cell_type": "code",
   "execution_count": 29,
   "metadata": {},
   "outputs": [
    {
     "name": "stdout",
     "output_type": "stream",
     "text": [
      "     Sepal.Length  Sepal.Width  Petal.Length  Petal.Width    Species\n",
      "0             5.1          NaN           NaN          0.2     setosa\n",
      "1             4.9          3.0           1.4          0.2     setosa\n",
      "2             4.7          3.2           1.3          0.2     setosa\n",
      "3             4.6          3.1           1.5          0.2     setosa\n",
      "4             5.0          3.6           1.4          0.2     setosa\n",
      "..            ...          ...           ...          ...        ...\n",
      "145           6.7          3.0           5.2          2.3  virginica\n",
      "146           NaN          2.5           NaN          NaN  virginica\n",
      "147           6.5          3.0           5.2          2.0  virginica\n",
      "148           6.2          3.4           5.4          2.3  virginica\n",
      "149           5.9          3.0           5.1          NaN  virginica\n",
      "\n",
      "[150 rows x 5 columns]\n"
     ]
    },
    {
     "data": {
      "application/vnd.microsoft.datawrangler.viewer.v0+json": {
       "columns": [
        {
         "name": "index",
         "rawType": "object",
         "type": "string"
        },
        {
         "name": "Sepal.Length",
         "rawType": "float64",
         "type": "float"
        },
        {
         "name": "Sepal.Width",
         "rawType": "float64",
         "type": "float"
        },
        {
         "name": "Petal.Length",
         "rawType": "float64",
         "type": "float"
        },
        {
         "name": "Petal.Width",
         "rawType": "float64",
         "type": "float"
        }
       ],
       "ref": "9ecfa1fd-f533-4428-8625-a25c734004b9",
       "rows": [
        [
         "Sepal.Length",
         "1.0",
         "-0.07137034743546122",
         "0.8602174805176671",
         "0.8087434778503563"
        ],
        [
         "Sepal.Width",
         "-0.07137034743546122",
         "1.0",
         "-0.4065328155297472",
         "-0.3386720568073044"
        ],
        [
         "Petal.Length",
         "0.8602174805176671",
         "-0.4065328155297472",
         "1.0",
         "0.9613598243232807"
        ],
        [
         "Petal.Width",
         "0.8087434778503563",
         "-0.3386720568073044",
         "0.9613598243232807",
         "1.0"
        ]
       ],
       "shape": {
        "columns": 4,
        "rows": 4
       }
      },
      "text/html": [
       "<div>\n",
       "<style scoped>\n",
       "    .dataframe tbody tr th:only-of-type {\n",
       "        vertical-align: middle;\n",
       "    }\n",
       "\n",
       "    .dataframe tbody tr th {\n",
       "        vertical-align: top;\n",
       "    }\n",
       "\n",
       "    .dataframe thead th {\n",
       "        text-align: right;\n",
       "    }\n",
       "</style>\n",
       "<table border=\"1\" class=\"dataframe\">\n",
       "  <thead>\n",
       "    <tr style=\"text-align: right;\">\n",
       "      <th></th>\n",
       "      <th>Sepal.Length</th>\n",
       "      <th>Sepal.Width</th>\n",
       "      <th>Petal.Length</th>\n",
       "      <th>Petal.Width</th>\n",
       "    </tr>\n",
       "  </thead>\n",
       "  <tbody>\n",
       "    <tr>\n",
       "      <th>Sepal.Length</th>\n",
       "      <td>1.000000</td>\n",
       "      <td>-0.071370</td>\n",
       "      <td>0.860217</td>\n",
       "      <td>0.808743</td>\n",
       "    </tr>\n",
       "    <tr>\n",
       "      <th>Sepal.Width</th>\n",
       "      <td>-0.071370</td>\n",
       "      <td>1.000000</td>\n",
       "      <td>-0.406533</td>\n",
       "      <td>-0.338672</td>\n",
       "    </tr>\n",
       "    <tr>\n",
       "      <th>Petal.Length</th>\n",
       "      <td>0.860217</td>\n",
       "      <td>-0.406533</td>\n",
       "      <td>1.000000</td>\n",
       "      <td>0.961360</td>\n",
       "    </tr>\n",
       "    <tr>\n",
       "      <th>Petal.Width</th>\n",
       "      <td>0.808743</td>\n",
       "      <td>-0.338672</td>\n",
       "      <td>0.961360</td>\n",
       "      <td>1.000000</td>\n",
       "    </tr>\n",
       "  </tbody>\n",
       "</table>\n",
       "</div>"
      ],
      "text/plain": [
       "              Sepal.Length  Sepal.Width  Petal.Length  Petal.Width\n",
       "Sepal.Length      1.000000    -0.071370      0.860217     0.808743\n",
       "Sepal.Width      -0.071370     1.000000     -0.406533    -0.338672\n",
       "Petal.Length      0.860217    -0.406533      1.000000     0.961360\n",
       "Petal.Width       0.808743    -0.338672      0.961360     1.000000"
      ]
     },
     "execution_count": 29,
     "metadata": {},
     "output_type": "execute_result"
    }
   ],
   "source": [
    "s = 'https://raw.githubusercontent.com/jongmoonha/AI-ME-Practice/refs/heads/main/data/iris_missing.csv'\n",
    "df_iris = pd.read_csv(s)\n",
    "\n",
    "print(df_iris)\n",
    "df_iris.describe()\n",
    "\n",
    "df_iris_notna = df_iris.notna()\n",
    "df_iris_notna_rows = df_iris_notna.all(axis=1)\n",
    "df_iris_notna = df_iris.loc[df_iris_notna_rows]\n",
    "df_iris_notna_num = df_iris_notna[df_iris.columns[0:-1]]\n",
    "\n",
    "df_iris_notna_num.corr()"
   ]
  },
  {
   "cell_type": "code",
   "execution_count": 30,
   "metadata": {},
   "outputs": [
    {
     "data": {
      "application/vnd.microsoft.datawrangler.viewer.v0+json": {
       "columns": [
        {
         "name": "index",
         "rawType": "object",
         "type": "string"
        },
        {
         "name": "Sepal.Length",
         "rawType": "float64",
         "type": "float"
        },
        {
         "name": "Sepal.Width",
         "rawType": "float64",
         "type": "float"
        },
        {
         "name": "Petal.Length",
         "rawType": "float64",
         "type": "float"
        },
        {
         "name": "Petal.Width",
         "rawType": "float64",
         "type": "float"
        }
       ],
       "ref": "0ad4ca52-c663-4c45-85db-9cdff4dfcfab",
       "rows": [
        [
         "Sepal.Length",
         "1.0",
         "-0.11358381161478952",
         "0.8730341892821037",
         "0.8239969406958548"
        ],
        [
         "Sepal.Width",
         "-0.11358381161478952",
         "1.0",
         "-0.2726511730822275",
         "-0.25935676567980437"
        ],
        [
         "Petal.Length",
         "0.8730341892821037",
         "-0.2726511730822275",
         "1.0",
         "0.9406002535516472"
        ],
        [
         "Petal.Width",
         "0.8239969406958548",
         "-0.25935676567980437",
         "0.9406002535516472",
         "1.0"
        ]
       ],
       "shape": {
        "columns": 4,
        "rows": 4
       }
      },
      "text/html": [
       "<div>\n",
       "<style scoped>\n",
       "    .dataframe tbody tr th:only-of-type {\n",
       "        vertical-align: middle;\n",
       "    }\n",
       "\n",
       "    .dataframe tbody tr th {\n",
       "        vertical-align: top;\n",
       "    }\n",
       "\n",
       "    .dataframe thead th {\n",
       "        text-align: right;\n",
       "    }\n",
       "</style>\n",
       "<table border=\"1\" class=\"dataframe\">\n",
       "  <thead>\n",
       "    <tr style=\"text-align: right;\">\n",
       "      <th></th>\n",
       "      <th>Sepal.Length</th>\n",
       "      <th>Sepal.Width</th>\n",
       "      <th>Petal.Length</th>\n",
       "      <th>Petal.Width</th>\n",
       "    </tr>\n",
       "  </thead>\n",
       "  <tbody>\n",
       "    <tr>\n",
       "      <th>Sepal.Length</th>\n",
       "      <td>1.000000</td>\n",
       "      <td>-0.113584</td>\n",
       "      <td>0.873034</td>\n",
       "      <td>0.823997</td>\n",
       "    </tr>\n",
       "    <tr>\n",
       "      <th>Sepal.Width</th>\n",
       "      <td>-0.113584</td>\n",
       "      <td>1.000000</td>\n",
       "      <td>-0.272651</td>\n",
       "      <td>-0.259357</td>\n",
       "    </tr>\n",
       "    <tr>\n",
       "      <th>Petal.Length</th>\n",
       "      <td>0.873034</td>\n",
       "      <td>-0.272651</td>\n",
       "      <td>1.000000</td>\n",
       "      <td>0.940600</td>\n",
       "    </tr>\n",
       "    <tr>\n",
       "      <th>Petal.Width</th>\n",
       "      <td>0.823997</td>\n",
       "      <td>-0.259357</td>\n",
       "      <td>0.940600</td>\n",
       "      <td>1.000000</td>\n",
       "    </tr>\n",
       "  </tbody>\n",
       "</table>\n",
       "</div>"
      ],
      "text/plain": [
       "              Sepal.Length  Sepal.Width  Petal.Length  Petal.Width\n",
       "Sepal.Length      1.000000    -0.113584      0.873034     0.823997\n",
       "Sepal.Width      -0.113584     1.000000     -0.272651    -0.259357\n",
       "Petal.Length      0.873034    -0.272651      1.000000     0.940600\n",
       "Petal.Width       0.823997    -0.259357      0.940600     1.000000"
      ]
     },
     "execution_count": 30,
     "metadata": {},
     "output_type": "execute_result"
    }
   ],
   "source": [
    "df_iris_notna_num.corr(method = \"spearman\")"
   ]
  },
  {
   "cell_type": "code",
   "execution_count": 31,
   "metadata": {},
   "outputs": [
    {
     "name": "stdout",
     "output_type": "stream",
     "text": [
      "PearsonRResult(statistic=np.float64(0.8602174805176663), pvalue=np.float64(4.46242199286702e-38))\n",
      "SignificanceResult(statistic=np.float64(0.8730341892821037), pvalue=np.float64(1.7324794500960308e-40))\n",
      "SignificanceResult(statistic=np.float64(0.7064455853595843), pvalue=np.float64(4.351505558359675e-30))\n"
     ]
    }
   ],
   "source": [
    "from scipy.stats import pearsonr, spearmanr, kendalltau\n",
    "print(pearsonr(df_iris_notna_num[\"Sepal.Length\"], df_iris_notna_num[\"Petal.Length\"]))\n",
    "print(spearmanr(df_iris_notna_num[\"Sepal.Length\"], df_iris_notna_num[\"Petal.Length\"]))\n",
    "print(kendalltau(df_iris_notna_num[\"Sepal.Length\"], df_iris_notna_num[\"Petal.Length\"]))"
   ]
  }
 ],
 "metadata": {
  "colab": {
   "authorship_tag": "ABX9TyNPsSFUJjFIpbYuXAUXXFkb",
   "provenance": [
    {
     "file_id": "1uHJOOtvv7mDySFQOWgokAiq1LphJz5Tu",
     "timestamp": 1725882857895
    }
   ]
  },
  "kernelspec": {
   "display_name": "base",
   "language": "python",
   "name": "python3"
  },
  "language_info": {
   "codemirror_mode": {
    "name": "ipython",
    "version": 3
   },
   "file_extension": ".py",
   "mimetype": "text/x-python",
   "name": "python",
   "nbconvert_exporter": "python",
   "pygments_lexer": "ipython3",
   "version": "3.13.5"
  }
 },
 "nbformat": 4,
 "nbformat_minor": 0
}
