{
 "cells": [
  {
   "cell_type": "markdown",
   "metadata": {
    "id": "_3dXzCKqtrJi"
   },
   "source": [
    "# Chapter1. Practice List\n",
    "1. Pandas - basic\n",
    "2. Calculate statistical values  \n",
    "3. Linear regression + Optimization(gradient descent)\n",
    "4. Correlation"
   ]
  },
  {
   "cell_type": "code",
   "execution_count": null,
   "metadata": {
    "colab": {
     "base_uri": "https://localhost:8080/",
     "height": 323
    },
    "executionInfo": {
     "elapsed": 121606,
     "status": "error",
     "timestamp": 1727341572494,
     "user": {
      "displayName": "Park Chan Hee",
      "userId": "12253724632409422807"
     },
     "user_tz": -540
    },
    "id": "AZTVyF1Uo55O",
    "outputId": "ec805774-794a-4ffe-c9b4-a37e5dcf910f"
   },
   "outputs": [
    {
     "name": "stdout",
     "output_type": "stream",
     "text": [
      "./data/\n"
     ]
    }
   ],
   "source": [
    "import os\n",
    "try:\n",
    "    from google.colab import drive\n",
    "    drive.mount('/content/drive')\n",
    "    try:\n",
    "      print('Set Directory to AI-ME-Practice Folder in Google Drive')\n",
    "      data_dir = os.getcwd()+\"/drive/MyDrive/AI-ME-Practice/data/\"\n",
    "      print(os.listdir(data_dir))\n",
    "    except:\n",
    "      print('Clone Git to /drive/')\n",
    "      !git clone https://github.com/jongmoonha/AI-ME-Practice.git\n",
    "      data_dir = \"./AI-ME-Practice/data/\"\n",
    "except:\n",
    "    data_dir = \"./data/\"\n",
    "print(data_dir)"
   ]
  },
  {
   "cell_type": "code",
   "execution_count": 2,
   "metadata": {
    "executionInfo": {
     "elapsed": 452,
     "status": "ok",
     "timestamp": 1727341450184,
     "user": {
      "displayName": "Park Chan Hee",
      "userId": "12253724632409422807"
     },
     "user_tz": -540
    },
    "id": "5YMzKpUepMzj"
   },
   "outputs": [],
   "source": [
    "import pandas as pd\n",
    "import numpy as np"
   ]
  },
  {
   "cell_type": "markdown",
   "metadata": {
    "id": "wZJLNltztdav"
   },
   "source": [
    "# 1. Pandas 기본\n",
    "> pd.DataFrame(데이터 프레임)\n",
    "- attribute: data, index, columns\n",
    "\n",
    "- pd.read_csv(): 파일 로드\n",
    "- df.info(): 변수 종류, 타입\n",
    "- df.columns: 칼럼 명\n",
    "- df.loc, df.iloc: 행, 열 조회 location - label, boolean, indexlocation - index\n",
    "- value_counts()\n",
    "- sort_values(by= )\n",
    "- groupby()\n",
    "- apply()\n",
    "\n",
    "(더 공부하고 싶다면)  \n",
    "https://datadoctorblog.com/2023/04/02/Py-Basic-Pandas-DataFrame/"
   ]
  },
  {
   "cell_type": "markdown",
   "metadata": {},
   "source": [
    "### Data Read"
   ]
  },
  {
   "cell_type": "code",
   "execution_count": 3,
   "metadata": {
    "colab": {
     "base_uri": "https://localhost:8080/",
     "height": 161
    },
    "executionInfo": {
     "elapsed": 395,
     "status": "ok",
     "timestamp": 1725956812637,
     "user": {
      "displayName": "Park Chan Hee",
      "userId": "12253724632409422807"
     },
     "user_tz": -540
    },
    "id": "CuYfgnQgtnZt",
    "outputId": "5dc51099-a9d8-48a2-ee0c-7f0e0649393d"
   },
   "outputs": [
    {
     "name": "stdout",
     "output_type": "stream",
     "text": [
      "(332, 3)\n"
     ]
    },
    {
     "data": {
      "text/html": [
       "<div>\n",
       "<style scoped>\n",
       "    .dataframe tbody tr th:only-of-type {\n",
       "        vertical-align: middle;\n",
       "    }\n",
       "\n",
       "    .dataframe tbody tr th {\n",
       "        vertical-align: top;\n",
       "    }\n",
       "\n",
       "    .dataframe thead th {\n",
       "        text-align: right;\n",
       "    }\n",
       "</style>\n",
       "<table border=\"1\" class=\"dataframe\">\n",
       "  <thead>\n",
       "    <tr style=\"text-align: right;\">\n",
       "      <th></th>\n",
       "      <th>year</th>\n",
       "      <th>month</th>\n",
       "      <th>volumn</th>\n",
       "    </tr>\n",
       "  </thead>\n",
       "  <tbody>\n",
       "    <tr>\n",
       "      <th>0</th>\n",
       "      <td>1990</td>\n",
       "      <td>1</td>\n",
       "      <td>1199.87</td>\n",
       "    </tr>\n",
       "    <tr>\n",
       "      <th>1</th>\n",
       "      <td>1990</td>\n",
       "      <td>2</td>\n",
       "      <td>1214.54</td>\n",
       "    </tr>\n",
       "    <tr>\n",
       "      <th>2</th>\n",
       "      <td>1990</td>\n",
       "      <td>3</td>\n",
       "      <td>1138.17</td>\n",
       "    </tr>\n",
       "  </tbody>\n",
       "</table>\n",
       "</div>"
      ],
      "text/plain": [
       "   year  month   volumn\n",
       "0  1990      1  1199.87\n",
       "1  1990      2  1214.54\n",
       "2  1990      3  1138.17"
      ]
     },
     "execution_count": 3,
     "metadata": {},
     "output_type": "execute_result"
    }
   ],
   "source": [
    "df = pd.read_csv(data_dir+\"production_monthly_1990.csv\") # volumn: 생산량\n",
    "print(df.shape)\n",
    "df.head(3)"
   ]
  },
  {
   "cell_type": "code",
   "execution_count": 4,
   "metadata": {},
   "outputs": [
    {
     "data": {
      "text/html": [
       "<div>\n",
       "<style scoped>\n",
       "    .dataframe tbody tr th:only-of-type {\n",
       "        vertical-align: middle;\n",
       "    }\n",
       "\n",
       "    .dataframe tbody tr th {\n",
       "        vertical-align: top;\n",
       "    }\n",
       "\n",
       "    .dataframe thead th {\n",
       "        text-align: right;\n",
       "    }\n",
       "</style>\n",
       "<table border=\"1\" class=\"dataframe\">\n",
       "  <thead>\n",
       "    <tr style=\"text-align: right;\">\n",
       "      <th></th>\n",
       "      <th>year</th>\n",
       "      <th>month</th>\n",
       "      <th>volumn</th>\n",
       "    </tr>\n",
       "  </thead>\n",
       "  <tbody>\n",
       "    <tr>\n",
       "      <th>count</th>\n",
       "      <td>332.000000</td>\n",
       "      <td>332.000000</td>\n",
       "      <td>332.000000</td>\n",
       "    </tr>\n",
       "    <tr>\n",
       "      <th>mean</th>\n",
       "      <td>2003.337349</td>\n",
       "      <td>6.451807</td>\n",
       "      <td>1309.801446</td>\n",
       "    </tr>\n",
       "    <tr>\n",
       "      <th>std</th>\n",
       "      <td>8.000419</td>\n",
       "      <td>3.447592</td>\n",
       "      <td>159.087274</td>\n",
       "    </tr>\n",
       "    <tr>\n",
       "      <th>min</th>\n",
       "      <td>1990.000000</td>\n",
       "      <td>1.000000</td>\n",
       "      <td>954.780000</td>\n",
       "    </tr>\n",
       "    <tr>\n",
       "      <th>25%</th>\n",
       "      <td>1996.000000</td>\n",
       "      <td>3.000000</td>\n",
       "      <td>1198.012500</td>\n",
       "    </tr>\n",
       "    <tr>\n",
       "      <th>50%</th>\n",
       "      <td>2003.000000</td>\n",
       "      <td>6.000000</td>\n",
       "      <td>1298.800000</td>\n",
       "    </tr>\n",
       "    <tr>\n",
       "      <th>75%</th>\n",
       "      <td>2010.000000</td>\n",
       "      <td>9.000000</td>\n",
       "      <td>1415.967500</td>\n",
       "    </tr>\n",
       "    <tr>\n",
       "      <th>max</th>\n",
       "      <td>2017.000000</td>\n",
       "      <td>12.000000</td>\n",
       "      <td>1678.980000</td>\n",
       "    </tr>\n",
       "  </tbody>\n",
       "</table>\n",
       "</div>"
      ],
      "text/plain": [
       "              year       month       volumn\n",
       "count   332.000000  332.000000   332.000000\n",
       "mean   2003.337349    6.451807  1309.801446\n",
       "std       8.000419    3.447592   159.087274\n",
       "min    1990.000000    1.000000   954.780000\n",
       "25%    1996.000000    3.000000  1198.012500\n",
       "50%    2003.000000    6.000000  1298.800000\n",
       "75%    2010.000000    9.000000  1415.967500\n",
       "max    2017.000000   12.000000  1678.980000"
      ]
     },
     "execution_count": 4,
     "metadata": {},
     "output_type": "execute_result"
    }
   ],
   "source": [
    "df.describe()"
   ]
  },
  {
   "cell_type": "markdown",
   "metadata": {},
   "source": [
    "### Sort by Values"
   ]
  },
  {
   "cell_type": "code",
   "execution_count": 5,
   "metadata": {
    "colab": {
     "base_uri": "https://localhost:8080/",
     "height": 423
    },
    "executionInfo": {
     "elapsed": 555,
     "status": "ok",
     "timestamp": 1725957147626,
     "user": {
      "displayName": "Park Chan Hee",
      "userId": "12253724632409422807"
     },
     "user_tz": -540
    },
    "id": "9VgIWwSACxFM",
    "outputId": "d83cfd0b-e776-42fe-e4e7-6c7e6dfc7b0a"
   },
   "outputs": [
    {
     "name": "stdout",
     "output_type": "stream",
     "text": [
      "     year  month   volumn\n",
      "331  2017      8  1368.74\n",
      "330  2017      7  1231.03\n",
      "329  2017      6  1250.43\n",
      "328  2017      5  1223.05\n",
      "327  2017      4  1289.15\n",
      "..    ...    ...      ...\n",
      "8    1990      9  1303.67\n",
      "9    1990     10  1493.49\n",
      "10   1990     11  1598.42\n",
      "11   1990     12  1613.31\n",
      "0    1990      1  1199.87\n",
      "\n",
      "[332 rows x 3 columns]\n"
     ]
    }
   ],
   "source": [
    "print(df.sort_values(by=\"year\", ascending=False))"
   ]
  },
  {
   "cell_type": "markdown",
   "metadata": {},
   "source": [
    "### Counts"
   ]
  },
  {
   "cell_type": "code",
   "execution_count": 6,
   "metadata": {},
   "outputs": [
    {
     "name": "stdout",
     "output_type": "stream",
     "text": [
      "year\n",
      "1990    12\n",
      "1991    12\n",
      "2016    12\n",
      "2015    12\n",
      "2014    12\n",
      "2013    12\n",
      "2012    12\n",
      "2011    12\n",
      "2010    12\n",
      "2009    12\n",
      "2008    12\n",
      "2007    12\n",
      "2006    12\n",
      "2005    12\n",
      "2004    12\n",
      "2003    12\n",
      "2002    12\n",
      "2001    12\n",
      "2000    12\n",
      "1999    12\n",
      "1998    12\n",
      "1997    12\n",
      "1996    12\n",
      "1995    12\n",
      "1994    12\n",
      "1993    12\n",
      "1992    12\n",
      "2017     8\n",
      "Name: count, dtype: int64\n"
     ]
    }
   ],
   "source": [
    "print(df.value_counts(\"year\"))"
   ]
  },
  {
   "cell_type": "code",
   "execution_count": 7,
   "metadata": {},
   "outputs": [
    {
     "name": "stdout",
     "output_type": "stream",
     "text": [
      "year\n",
      "1990    12\n",
      "1991    12\n",
      "1992    12\n",
      "1993    12\n",
      "1994    12\n",
      "1995    12\n",
      "1996    12\n",
      "1997    12\n",
      "1998    12\n",
      "1999    12\n",
      "2000    12\n",
      "2001    12\n",
      "2002    12\n",
      "2003    12\n",
      "2004    12\n",
      "2005    12\n",
      "2006    12\n",
      "2007    12\n",
      "2008    12\n",
      "2009    12\n",
      "2010    12\n",
      "2011    12\n",
      "2012    12\n",
      "2013    12\n",
      "2014    12\n",
      "2015    12\n",
      "2016    12\n",
      "2017     8\n",
      "Name: count, dtype: int64\n"
     ]
    }
   ],
   "source": [
    "print(df.value_counts(\"year\").sort_index(ascending=True))"
   ]
  },
  {
   "cell_type": "markdown",
   "metadata": {},
   "source": [
    "### loc"
   ]
  },
  {
   "cell_type": "code",
   "execution_count": 8,
   "metadata": {},
   "outputs": [
    {
     "name": "stdout",
     "output_type": "stream",
     "text": [
      "year      1990.00\n",
      "month        1.00\n",
      "volumn    1199.87\n",
      "Name: 0, dtype: float64\n"
     ]
    }
   ],
   "source": [
    "print(df.loc[0])\n",
    "# print(df[0])"
   ]
  },
  {
   "cell_type": "markdown",
   "metadata": {
    "id": "I5BuF4utC2qN"
   },
   "source": [
    "### groupby\n",
    "- 연도별 생산량 평균 구하기  \n",
    "1) .loc  \n",
    "2) for문   \n",
    "3) groupby   \n",
    "refer: https://datadoctorblog.com/2023/04/28/Py-Basic-Pandas-Groupby/"
   ]
  },
  {
   "cell_type": "code",
   "execution_count": 9,
   "metadata": {
    "id": "3JIlyO1DDEJA"
   },
   "outputs": [
    {
     "name": "stdout",
     "output_type": "stream",
     "text": [
      "[1990, 1991, 1992, 1993, 1994, 1995, 1996, 1997, 1998, 1999, 2000, 2001, 2002, 2003, 2004, 2005, 2006, 2007, 2008, 2009, 2010, 2011, 2012, 2013, 2014, 2015, 2016, 2017]\n"
     ]
    }
   ],
   "source": [
    "# df.sort_values(by='year').value_counts()\n",
    "list_year = list(df['year'].unique())\n",
    "print(list_year)"
   ]
  },
  {
   "cell_type": "markdown",
   "metadata": {},
   "source": [
    "#### Find Index"
   ]
  },
  {
   "cell_type": "code",
   "execution_count": 10,
   "metadata": {},
   "outputs": [
    {
     "data": {
      "text/plain": [
       "0       True\n",
       "1       True\n",
       "2       True\n",
       "3       True\n",
       "4       True\n",
       "       ...  \n",
       "327    False\n",
       "328    False\n",
       "329    False\n",
       "330    False\n",
       "331    False\n",
       "Name: year, Length: 332, dtype: bool"
      ]
     },
     "execution_count": 10,
     "metadata": {},
     "output_type": "execute_result"
    }
   ],
   "source": [
    "df[\"year\"]==list_year[0]"
   ]
  },
  {
   "cell_type": "markdown",
   "metadata": {},
   "source": [
    "#### Extract Year from the index"
   ]
  },
  {
   "cell_type": "code",
   "execution_count": 11,
   "metadata": {},
   "outputs": [
    {
     "name": "stdout",
     "output_type": "stream",
     "text": [
      "    year  month   volumn\n",
      "0   1990      1  1199.87\n",
      "1   1990      2  1214.54\n",
      "2   1990      3  1138.17\n",
      "3   1990      4  1061.09\n",
      "4   1990      5  1064.13\n",
      "5   1990      6  1113.13\n",
      "6   1990      7  1163.86\n",
      "7   1990      8  1227.80\n",
      "8   1990      9  1303.67\n",
      "9   1990     10  1493.49\n",
      "10  1990     11  1598.42\n",
      "11  1990     12  1613.31\n"
     ]
    }
   ],
   "source": [
    "df_each_year = df.loc[df[\"year\"]==list_year[0]]\n",
    "print(df_each_year)"
   ]
  },
  {
   "cell_type": "markdown",
   "metadata": {},
   "source": [
    "#### Volume for each year"
   ]
  },
  {
   "cell_type": "code",
   "execution_count": 12,
   "metadata": {},
   "outputs": [
    {
     "name": "stdout",
     "output_type": "stream",
     "text": [
      "0     1199.87\n",
      "1     1214.54\n",
      "2     1138.17\n",
      "3     1061.09\n",
      "4     1064.13\n",
      "5     1113.13\n",
      "6     1163.86\n",
      "7     1227.80\n",
      "8     1303.67\n",
      "9     1493.49\n",
      "10    1598.42\n",
      "11    1613.31\n",
      "Name: volumn, dtype: float64\n"
     ]
    }
   ],
   "source": [
    "df_year_volumn = df.loc[df[\"year\"]==list_year[0]][\"volumn\"]\n",
    "print(df_year_volumn)"
   ]
  },
  {
   "cell_type": "markdown",
   "metadata": {},
   "source": [
    "#### Mean"
   ]
  },
  {
   "cell_type": "code",
   "execution_count": 13,
   "metadata": {},
   "outputs": [
    {
     "name": "stdout",
     "output_type": "stream",
     "text": [
      "1265.9566666666667\n"
     ]
    }
   ],
   "source": [
    "print(df_year_volumn.mean())"
   ]
  },
  {
   "cell_type": "markdown",
   "metadata": {},
   "source": [
    "#### Mean Volume for every year"
   ]
  },
  {
   "cell_type": "code",
   "execution_count": 14,
   "metadata": {
    "colab": {
     "base_uri": "https://localhost:8080/"
    },
    "executionInfo": {
     "elapsed": 401,
     "status": "ok",
     "timestamp": 1725957264831,
     "user": {
      "displayName": "Park Chan Hee",
      "userId": "12253724632409422807"
     },
     "user_tz": -540
    },
    "id": "5NmdWnqsx6PD",
    "outputId": "45af3130-8811-4827-871f-9ab90ef422af"
   },
   "outputs": [
    {
     "data": {
      "text/plain": [
       "[1265.9566666666667,\n",
       " 1316.8275,\n",
       " 1231.8875,\n",
       " 1255.1999999999998,\n",
       " 1255.1266666666666,\n",
       " 1270.1575,\n",
       " 1322.3174999999999,\n",
       " 1347.9641666666666,\n",
       " 1425.135,\n",
       " 1396.5541666666666,\n",
       " 1462.28,\n",
       " 1446.6299999999999,\n",
       " 1385.381666666667,\n",
       " 1379.4608333333333,\n",
       " 1394.5916666666665,\n",
       " 1439.4350000000002,\n",
       " 1380.4625000000003,\n",
       " 1300.735,\n",
       " 1186.1866666666667,\n",
       " 1133.7708333333335,\n",
       " 1242.165,\n",
       " 1207.1499999999999,\n",
       " 1199.9991666666667,\n",
       " 1251.1333333333332,\n",
       " 1250.7891666666667,\n",
       " 1330.1916666666668,\n",
       " 1301.9941666666666,\n",
       " 1287.5349999999999]"
      ]
     },
     "execution_count": 14,
     "metadata": {},
     "output_type": "execute_result"
    }
   ],
   "source": [
    "# 2)\n",
    "yr_volumn_mean = []\n",
    "for year in list_year:\n",
    "  yr_volumn_mean.append(df.loc[df[\"year\"]==year,\"volumn\"].mean())\n",
    "yr_volumn_mean"
   ]
  },
  {
   "cell_type": "markdown",
   "metadata": {},
   "source": [
    "#### Mean Volume for every year (Using group by)"
   ]
  },
  {
   "cell_type": "code",
   "execution_count": 15,
   "metadata": {},
   "outputs": [
    {
     "name": "stdout",
     "output_type": "stream",
     "text": [
      "<pandas.core.groupby.generic.SeriesGroupBy object at 0x00000174AEAA0910>\n"
     ]
    }
   ],
   "source": [
    "df_groupby_year_month = df.groupby([\"year\",\"month\"])[\"volumn\"]\n",
    "df_groupby_year = df.groupby([\"year\"])[\"volumn\"]\n",
    "print(df_groupby_year_month)"
   ]
  },
  {
   "cell_type": "code",
   "execution_count": 16,
   "metadata": {},
   "outputs": [
    {
     "name": "stdout",
     "output_type": "stream",
     "text": [
      "year  month\n",
      "1990  1        1199.87\n",
      "      2        1214.54\n",
      "      3        1138.17\n",
      "      4        1061.09\n",
      "      5        1064.13\n",
      "                ...   \n",
      "2017  4        1289.15\n",
      "      5        1223.05\n",
      "      6        1250.43\n",
      "      7        1231.03\n",
      "      8        1368.74\n",
      "Name: volumn, Length: 332, dtype: float64\n",
      "year\n",
      "1990    1265.956667\n",
      "1991    1316.827500\n",
      "1992    1231.887500\n",
      "1993    1255.200000\n",
      "1994    1255.126667\n",
      "1995    1270.157500\n",
      "1996    1322.317500\n",
      "1997    1347.964167\n",
      "1998    1425.135000\n",
      "1999    1396.554167\n",
      "2000    1462.280000\n",
      "2001    1446.630000\n",
      "2002    1385.381667\n",
      "2003    1379.460833\n",
      "2004    1394.591667\n",
      "2005    1439.435000\n",
      "2006    1380.462500\n",
      "2007    1300.735000\n",
      "2008    1186.186667\n",
      "2009    1133.770833\n",
      "2010    1242.165000\n",
      "2011    1207.150000\n",
      "2012    1199.999167\n",
      "2013    1251.133333\n",
      "2014    1250.789167\n",
      "2015    1330.191667\n",
      "2016    1301.994167\n",
      "2017    1287.535000\n",
      "Name: volumn, dtype: float64\n"
     ]
    }
   ],
   "source": [
    "print(df_groupby_year_month.mean())\n",
    "print(df_groupby_year.mean())"
   ]
  },
  {
   "cell_type": "markdown",
   "metadata": {},
   "source": [
    "#### agg"
   ]
  },
  {
   "cell_type": "code",
   "execution_count": 17,
   "metadata": {},
   "outputs": [
    {
     "name": "stdout",
     "output_type": "stream",
     "text": [
      "          min      max         mean\n",
      "year                               \n",
      "1990  1061.09  1613.31  1265.956667\n",
      "1991  1139.07  1551.77  1316.827500\n",
      "1992  1076.76  1466.11  1231.887500\n",
      "1993  1061.28  1497.98  1255.200000\n",
      "1994  1044.15  1499.80  1255.126667\n",
      "1995  1123.16  1546.87  1270.157500\n",
      "1996  1137.70  1633.81  1322.317500\n",
      "1997  1168.54  1632.32  1347.964167\n",
      "1998  1273.98  1643.83  1425.135000\n",
      "1999  1275.27  1614.78  1396.554167\n",
      "2000  1304.64  1664.45  1462.280000\n",
      "2001  1355.22  1555.92  1446.630000\n",
      "2002  1222.20  1542.89  1385.381667\n",
      "2003  1234.22  1593.49  1379.460833\n",
      "2004  1226.44  1597.74  1394.591667\n",
      "2005  1281.62  1678.98  1439.435000\n",
      "2006  1220.54  1584.31  1380.462500\n",
      "2007  1096.65  1460.84  1300.735000\n",
      "2008  1021.42  1390.49  1186.186667\n",
      "2009   954.78  1484.07  1133.770833\n",
      "2010  1073.90  1515.33  1242.165000\n",
      "2011  1075.52  1401.91  1207.150000\n",
      "2012  1024.21  1393.68  1199.999167\n",
      "2013  1101.10  1478.89  1251.133333\n",
      "2014  1057.14  1548.74  1250.789167\n",
      "2015  1161.36  1520.93  1330.191667\n",
      "2016  1224.98  1428.60  1301.994167\n",
      "2017  1223.05  1368.74  1287.535000\n"
     ]
    }
   ],
   "source": [
    "print(df_groupby_year.agg([\"min\", \"max\", \"mean\"]))"
   ]
  },
  {
   "cell_type": "markdown",
   "metadata": {
    "id": "kRRSCLluInK4"
   },
   "source": [
    "#### apply\n",
    "- apply(func=\"mean\", axis=1)\n",
    "- apply(lambda x: x.mean()+100, axis=1)\n",
    "- apply(사용자함수, axis=1)  \n",
    "ref: https://datadoctorblog.com/2023/05/01/Py-Basic-Pandas-Apply/"
   ]
  },
  {
   "cell_type": "code",
   "execution_count": 18,
   "metadata": {
    "colab": {
     "base_uri": "https://localhost:8080/",
     "height": 993
    },
    "executionInfo": {
     "elapsed": 367,
     "status": "ok",
     "timestamp": 1725957408509,
     "user": {
      "displayName": "Park Chan Hee",
      "userId": "12253724632409422807"
     },
     "user_tz": -540
    },
    "id": "sbydBZDCJexU",
    "outputId": "86a8e69b-9ae4-4f9d-dbbf-38cb38ddc8ce"
   },
   "outputs": [
    {
     "data": {
      "text/plain": [
       "year\n",
       "1990    1265.956667\n",
       "1991    1316.827500\n",
       "1992    1231.887500\n",
       "1993    1255.200000\n",
       "1994    1255.126667\n",
       "1995    1270.157500\n",
       "1996    1322.317500\n",
       "1997    1347.964167\n",
       "1998    1425.135000\n",
       "1999    1396.554167\n",
       "2000    1462.280000\n",
       "2001    1446.630000\n",
       "2002    1385.381667\n",
       "2003    1379.460833\n",
       "2004    1394.591667\n",
       "2005    1439.435000\n",
       "2006    1380.462500\n",
       "2007    1300.735000\n",
       "2008    1186.186667\n",
       "2009    1133.770833\n",
       "2010    1242.165000\n",
       "2011    1207.150000\n",
       "2012    1199.999167\n",
       "2013    1251.133333\n",
       "2014    1250.789167\n",
       "2015    1330.191667\n",
       "2016    1301.994167\n",
       "2017    1287.535000\n",
       "Name: volumn, dtype: float64"
      ]
     },
     "execution_count": 18,
     "metadata": {},
     "output_type": "execute_result"
    }
   ],
   "source": [
    "df_groupby_year.apply(\"mean\")"
   ]
  },
  {
   "cell_type": "code",
   "execution_count": 19,
   "metadata": {
    "id": "-RVOFsfTJe5K"
   },
   "outputs": [],
   "source": [
    "def mean_add_100(x):\n",
    "  return x.mean()+100"
   ]
  },
  {
   "cell_type": "code",
   "execution_count": 20,
   "metadata": {
    "id": "wHc-TNXPFDco"
   },
   "outputs": [
    {
     "name": "stdout",
     "output_type": "stream",
     "text": [
      "year\n",
      "1990    1365.956667\n",
      "1991    1416.827500\n",
      "1992    1331.887500\n",
      "1993    1355.200000\n",
      "1994    1355.126667\n",
      "1995    1370.157500\n",
      "1996    1422.317500\n",
      "1997    1447.964167\n",
      "1998    1525.135000\n",
      "1999    1496.554167\n",
      "2000    1562.280000\n",
      "2001    1546.630000\n",
      "2002    1485.381667\n",
      "2003    1479.460833\n",
      "2004    1494.591667\n",
      "2005    1539.435000\n",
      "2006    1480.462500\n",
      "2007    1400.735000\n",
      "2008    1286.186667\n",
      "2009    1233.770833\n",
      "2010    1342.165000\n",
      "2011    1307.150000\n",
      "2012    1299.999167\n",
      "2013    1351.133333\n",
      "2014    1350.789167\n",
      "2015    1430.191667\n",
      "2016    1401.994167\n",
      "2017    1387.535000\n",
      "Name: volumn, dtype: float64\n"
     ]
    }
   ],
   "source": [
    "print(df_groupby_year.apply(mean_add_100))"
   ]
  },
  {
   "cell_type": "markdown",
   "metadata": {
    "id": "BOs-MceCx7Te"
   },
   "source": [
    "# 2. 통계값 구하기\n",
    "- df 중 NaN 값은 제외하고, numeric column 만 계산\n",
    "- df기본 통계기능 .mean(), median(), var()\n",
    "- df.describe()"
   ]
  },
  {
   "cell_type": "markdown",
   "metadata": {},
   "source": [
    "#### Load data"
   ]
  },
  {
   "cell_type": "code",
   "execution_count": 21,
   "metadata": {
    "id": "EaWSHfXlP1bG"
   },
   "outputs": [
    {
     "name": "stdout",
     "output_type": "stream",
     "text": [
      "     Sepal.Length  Sepal.Width  Petal.Length  Petal.Width    Species\n",
      "0             5.1          NaN           NaN          0.2     setosa\n",
      "1             4.9          3.0           1.4          0.2     setosa\n",
      "2             4.7          3.2           1.3          0.2     setosa\n",
      "3             4.6          3.1           1.5          0.2     setosa\n",
      "4             5.0          3.6           1.4          0.2     setosa\n",
      "..            ...          ...           ...          ...        ...\n",
      "145           6.7          3.0           5.2          2.3  virginica\n",
      "146           NaN          2.5           NaN          NaN  virginica\n",
      "147           6.5          3.0           5.2          2.0  virginica\n",
      "148           6.2          3.4           5.4          2.3  virginica\n",
      "149           5.9          3.0           5.1          NaN  virginica\n",
      "\n",
      "[150 rows x 5 columns]\n"
     ]
    },
    {
     "data": {
      "text/html": [
       "<div>\n",
       "<style scoped>\n",
       "    .dataframe tbody tr th:only-of-type {\n",
       "        vertical-align: middle;\n",
       "    }\n",
       "\n",
       "    .dataframe tbody tr th {\n",
       "        vertical-align: top;\n",
       "    }\n",
       "\n",
       "    .dataframe thead th {\n",
       "        text-align: right;\n",
       "    }\n",
       "</style>\n",
       "<table border=\"1\" class=\"dataframe\">\n",
       "  <thead>\n",
       "    <tr style=\"text-align: right;\">\n",
       "      <th></th>\n",
       "      <th>Sepal.Length</th>\n",
       "      <th>Sepal.Width</th>\n",
       "      <th>Petal.Length</th>\n",
       "      <th>Petal.Width</th>\n",
       "    </tr>\n",
       "  </thead>\n",
       "  <tbody>\n",
       "    <tr>\n",
       "      <th>count</th>\n",
       "      <td>143.000000</td>\n",
       "      <td>137.000000</td>\n",
       "      <td>136.000000</td>\n",
       "      <td>144.000000</td>\n",
       "    </tr>\n",
       "    <tr>\n",
       "      <th>mean</th>\n",
       "      <td>5.853846</td>\n",
       "      <td>3.070073</td>\n",
       "      <td>3.811765</td>\n",
       "      <td>1.190972</td>\n",
       "    </tr>\n",
       "    <tr>\n",
       "      <th>std</th>\n",
       "      <td>0.823576</td>\n",
       "      <td>0.438642</td>\n",
       "      <td>1.749965</td>\n",
       "      <td>0.768243</td>\n",
       "    </tr>\n",
       "    <tr>\n",
       "      <th>min</th>\n",
       "      <td>4.300000</td>\n",
       "      <td>2.000000</td>\n",
       "      <td>1.000000</td>\n",
       "      <td>0.100000</td>\n",
       "    </tr>\n",
       "    <tr>\n",
       "      <th>25%</th>\n",
       "      <td>5.100000</td>\n",
       "      <td>2.800000</td>\n",
       "      <td>1.600000</td>\n",
       "      <td>0.300000</td>\n",
       "    </tr>\n",
       "    <tr>\n",
       "      <th>50%</th>\n",
       "      <td>5.800000</td>\n",
       "      <td>3.000000</td>\n",
       "      <td>4.400000</td>\n",
       "      <td>1.300000</td>\n",
       "    </tr>\n",
       "    <tr>\n",
       "      <th>75%</th>\n",
       "      <td>6.400000</td>\n",
       "      <td>3.300000</td>\n",
       "      <td>5.100000</td>\n",
       "      <td>1.800000</td>\n",
       "    </tr>\n",
       "    <tr>\n",
       "      <th>max</th>\n",
       "      <td>7.900000</td>\n",
       "      <td>4.400000</td>\n",
       "      <td>6.900000</td>\n",
       "      <td>2.500000</td>\n",
       "    </tr>\n",
       "  </tbody>\n",
       "</table>\n",
       "</div>"
      ],
      "text/plain": [
       "       Sepal.Length  Sepal.Width  Petal.Length  Petal.Width\n",
       "count    143.000000   137.000000    136.000000   144.000000\n",
       "mean       5.853846     3.070073      3.811765     1.190972\n",
       "std        0.823576     0.438642      1.749965     0.768243\n",
       "min        4.300000     2.000000      1.000000     0.100000\n",
       "25%        5.100000     2.800000      1.600000     0.300000\n",
       "50%        5.800000     3.000000      4.400000     1.300000\n",
       "75%        6.400000     3.300000      5.100000     1.800000\n",
       "max        7.900000     4.400000      6.900000     2.500000"
      ]
     },
     "execution_count": 21,
     "metadata": {},
     "output_type": "execute_result"
    }
   ],
   "source": [
    "df_iris = pd.read_csv(data_dir+\"iris_missing.csv\")\n",
    "print(df_iris)\n",
    "df_iris.describe()"
   ]
  },
  {
   "cell_type": "markdown",
   "metadata": {},
   "source": [
    "#### Read column names"
   ]
  },
  {
   "cell_type": "code",
   "execution_count": 22,
   "metadata": {},
   "outputs": [
    {
     "data": {
      "text/plain": [
       "Index(['Sepal.Length', 'Sepal.Width', 'Petal.Length', 'Petal.Width',\n",
       "       'Species'],\n",
       "      dtype='object')"
      ]
     },
     "execution_count": 22,
     "metadata": {},
     "output_type": "execute_result"
    }
   ],
   "source": [
    "df_iris.columns"
   ]
  },
  {
   "cell_type": "markdown",
   "metadata": {},
   "source": [
    "#### Find NaN Rows"
   ]
  },
  {
   "cell_type": "code",
   "execution_count": 23,
   "metadata": {},
   "outputs": [
    {
     "name": "stdout",
     "output_type": "stream",
     "text": [
      "     Sepal.Length  Sepal.Width  Petal.Length  Petal.Width  Species\n",
      "0            True        False         False         True     True\n",
      "1            True         True          True         True     True\n",
      "2            True         True          True         True     True\n",
      "3            True         True          True         True     True\n",
      "4            True         True          True         True     True\n",
      "..            ...          ...           ...          ...      ...\n",
      "145          True         True          True         True     True\n",
      "146         False         True         False        False     True\n",
      "147          True         True          True         True     True\n",
      "148          True         True          True         True     True\n",
      "149          True         True          True        False     True\n",
      "\n",
      "[150 rows x 5 columns]\n",
      "0      False\n",
      "1       True\n",
      "2       True\n",
      "3       True\n",
      "4       True\n",
      "       ...  \n",
      "145     True\n",
      "146    False\n",
      "147     True\n",
      "148     True\n",
      "149    False\n",
      "Length: 150, dtype: bool\n",
      "\n",
      "\n",
      " True     126\n",
      "False     24\n",
      "Name: count, dtype: int64\n"
     ]
    }
   ],
   "source": [
    "df_iris_notna = df_iris.notna()\n",
    "df_iris_notna_rows = df_iris_notna.all(axis=1)\n",
    "\n",
    "print(df_iris_notna)\n",
    "print(df_iris_notna_rows)\n",
    "print(\"\\n\\n\", df_iris_notna_rows.value_counts())"
   ]
  },
  {
   "cell_type": "code",
   "execution_count": 24,
   "metadata": {},
   "outputs": [
    {
     "name": "stdout",
     "output_type": "stream",
     "text": [
      "     Sepal.Length  Sepal.Width  Petal.Length  Petal.Width    Species\n",
      "1             4.9          3.0           1.4          0.2     setosa\n",
      "2             4.7          3.2           1.3          0.2     setosa\n",
      "3             4.6          3.1           1.5          0.2     setosa\n",
      "4             5.0          3.6           1.4          0.2     setosa\n",
      "5             5.4          3.9           1.7          0.4     setosa\n",
      "..            ...          ...           ...          ...        ...\n",
      "143           6.8          3.2           5.9          2.3  virginica\n",
      "144           6.7          3.3           5.7          2.5  virginica\n",
      "145           6.7          3.0           5.2          2.3  virginica\n",
      "147           6.5          3.0           5.2          2.0  virginica\n",
      "148           6.2          3.4           5.4          2.3  virginica\n",
      "\n",
      "[126 rows x 5 columns]\n"
     ]
    }
   ],
   "source": [
    "df_iris_notna = df_iris.loc[df_iris_notna_rows]\n",
    "print(df_iris_notna)"
   ]
  },
  {
   "cell_type": "code",
   "execution_count": 25,
   "metadata": {},
   "outputs": [
    {
     "data": {
      "text/html": [
       "<div>\n",
       "<style scoped>\n",
       "    .dataframe tbody tr th:only-of-type {\n",
       "        vertical-align: middle;\n",
       "    }\n",
       "\n",
       "    .dataframe tbody tr th {\n",
       "        vertical-align: top;\n",
       "    }\n",
       "\n",
       "    .dataframe thead th {\n",
       "        text-align: right;\n",
       "    }\n",
       "</style>\n",
       "<table border=\"1\" class=\"dataframe\">\n",
       "  <thead>\n",
       "    <tr style=\"text-align: right;\">\n",
       "      <th></th>\n",
       "      <th>Sepal.Length</th>\n",
       "      <th>Sepal.Width</th>\n",
       "      <th>Petal.Length</th>\n",
       "      <th>Petal.Width</th>\n",
       "    </tr>\n",
       "  </thead>\n",
       "  <tbody>\n",
       "    <tr>\n",
       "      <th>1</th>\n",
       "      <td>4.9</td>\n",
       "      <td>3.0</td>\n",
       "      <td>1.4</td>\n",
       "      <td>0.2</td>\n",
       "    </tr>\n",
       "    <tr>\n",
       "      <th>2</th>\n",
       "      <td>4.7</td>\n",
       "      <td>3.2</td>\n",
       "      <td>1.3</td>\n",
       "      <td>0.2</td>\n",
       "    </tr>\n",
       "    <tr>\n",
       "      <th>3</th>\n",
       "      <td>4.6</td>\n",
       "      <td>3.1</td>\n",
       "      <td>1.5</td>\n",
       "      <td>0.2</td>\n",
       "    </tr>\n",
       "    <tr>\n",
       "      <th>4</th>\n",
       "      <td>5.0</td>\n",
       "      <td>3.6</td>\n",
       "      <td>1.4</td>\n",
       "      <td>0.2</td>\n",
       "    </tr>\n",
       "    <tr>\n",
       "      <th>5</th>\n",
       "      <td>5.4</td>\n",
       "      <td>3.9</td>\n",
       "      <td>1.7</td>\n",
       "      <td>0.4</td>\n",
       "    </tr>\n",
       "    <tr>\n",
       "      <th>...</th>\n",
       "      <td>...</td>\n",
       "      <td>...</td>\n",
       "      <td>...</td>\n",
       "      <td>...</td>\n",
       "    </tr>\n",
       "    <tr>\n",
       "      <th>143</th>\n",
       "      <td>6.8</td>\n",
       "      <td>3.2</td>\n",
       "      <td>5.9</td>\n",
       "      <td>2.3</td>\n",
       "    </tr>\n",
       "    <tr>\n",
       "      <th>144</th>\n",
       "      <td>6.7</td>\n",
       "      <td>3.3</td>\n",
       "      <td>5.7</td>\n",
       "      <td>2.5</td>\n",
       "    </tr>\n",
       "    <tr>\n",
       "      <th>145</th>\n",
       "      <td>6.7</td>\n",
       "      <td>3.0</td>\n",
       "      <td>5.2</td>\n",
       "      <td>2.3</td>\n",
       "    </tr>\n",
       "    <tr>\n",
       "      <th>147</th>\n",
       "      <td>6.5</td>\n",
       "      <td>3.0</td>\n",
       "      <td>5.2</td>\n",
       "      <td>2.0</td>\n",
       "    </tr>\n",
       "    <tr>\n",
       "      <th>148</th>\n",
       "      <td>6.2</td>\n",
       "      <td>3.4</td>\n",
       "      <td>5.4</td>\n",
       "      <td>2.3</td>\n",
       "    </tr>\n",
       "  </tbody>\n",
       "</table>\n",
       "<p>126 rows × 4 columns</p>\n",
       "</div>"
      ],
      "text/plain": [
       "     Sepal.Length  Sepal.Width  Petal.Length  Petal.Width\n",
       "1             4.9          3.0           1.4          0.2\n",
       "2             4.7          3.2           1.3          0.2\n",
       "3             4.6          3.1           1.5          0.2\n",
       "4             5.0          3.6           1.4          0.2\n",
       "5             5.4          3.9           1.7          0.4\n",
       "..            ...          ...           ...          ...\n",
       "143           6.8          3.2           5.9          2.3\n",
       "144           6.7          3.3           5.7          2.5\n",
       "145           6.7          3.0           5.2          2.3\n",
       "147           6.5          3.0           5.2          2.0\n",
       "148           6.2          3.4           5.4          2.3\n",
       "\n",
       "[126 rows x 4 columns]"
      ]
     },
     "execution_count": 25,
     "metadata": {},
     "output_type": "execute_result"
    }
   ],
   "source": [
    "df_iris_notna_num = df_iris_notna[df_iris.columns[0:-1]]\n",
    "df_iris_notna_num"
   ]
  },
  {
   "cell_type": "code",
   "execution_count": 26,
   "metadata": {
    "colab": {
     "base_uri": "https://localhost:8080/",
     "height": 300
    },
    "executionInfo": {
     "elapsed": 323,
     "status": "ok",
     "timestamp": 1725957586276,
     "user": {
      "displayName": "Park Chan Hee",
      "userId": "12253724632409422807"
     },
     "user_tz": -540
    },
    "id": "nepQTTajQFPa",
    "outputId": "c80a31c9-57a4-40c4-f1b5-1135b5a0b151"
   },
   "outputs": [
    {
     "data": {
      "text/html": [
       "<div>\n",
       "<style scoped>\n",
       "    .dataframe tbody tr th:only-of-type {\n",
       "        vertical-align: middle;\n",
       "    }\n",
       "\n",
       "    .dataframe tbody tr th {\n",
       "        vertical-align: top;\n",
       "    }\n",
       "\n",
       "    .dataframe thead th {\n",
       "        text-align: right;\n",
       "    }\n",
       "</style>\n",
       "<table border=\"1\" class=\"dataframe\">\n",
       "  <thead>\n",
       "    <tr style=\"text-align: right;\">\n",
       "      <th></th>\n",
       "      <th>Sepal.Length</th>\n",
       "      <th>Sepal.Width</th>\n",
       "      <th>Petal.Length</th>\n",
       "      <th>Petal.Width</th>\n",
       "    </tr>\n",
       "  </thead>\n",
       "  <tbody>\n",
       "    <tr>\n",
       "      <th>count</th>\n",
       "      <td>126.000000</td>\n",
       "      <td>126.000000</td>\n",
       "      <td>126.000000</td>\n",
       "      <td>126.000000</td>\n",
       "    </tr>\n",
       "    <tr>\n",
       "      <th>mean</th>\n",
       "      <td>5.857937</td>\n",
       "      <td>3.080159</td>\n",
       "      <td>3.783333</td>\n",
       "      <td>1.219841</td>\n",
       "    </tr>\n",
       "    <tr>\n",
       "      <th>std</th>\n",
       "      <td>0.823490</td>\n",
       "      <td>0.443084</td>\n",
       "      <td>1.750828</td>\n",
       "      <td>0.764515</td>\n",
       "    </tr>\n",
       "    <tr>\n",
       "      <th>min</th>\n",
       "      <td>4.300000</td>\n",
       "      <td>2.000000</td>\n",
       "      <td>1.000000</td>\n",
       "      <td>0.100000</td>\n",
       "    </tr>\n",
       "    <tr>\n",
       "      <th>25%</th>\n",
       "      <td>5.125000</td>\n",
       "      <td>2.800000</td>\n",
       "      <td>1.600000</td>\n",
       "      <td>0.325000</td>\n",
       "    </tr>\n",
       "    <tr>\n",
       "      <th>50%</th>\n",
       "      <td>5.800000</td>\n",
       "      <td>3.000000</td>\n",
       "      <td>4.400000</td>\n",
       "      <td>1.300000</td>\n",
       "    </tr>\n",
       "    <tr>\n",
       "      <th>75%</th>\n",
       "      <td>6.400000</td>\n",
       "      <td>3.375000</td>\n",
       "      <td>5.100000</td>\n",
       "      <td>1.800000</td>\n",
       "    </tr>\n",
       "    <tr>\n",
       "      <th>max</th>\n",
       "      <td>7.900000</td>\n",
       "      <td>4.400000</td>\n",
       "      <td>6.900000</td>\n",
       "      <td>2.500000</td>\n",
       "    </tr>\n",
       "  </tbody>\n",
       "</table>\n",
       "</div>"
      ],
      "text/plain": [
       "       Sepal.Length  Sepal.Width  Petal.Length  Petal.Width\n",
       "count    126.000000   126.000000    126.000000   126.000000\n",
       "mean       5.857937     3.080159      3.783333     1.219841\n",
       "std        0.823490     0.443084      1.750828     0.764515\n",
       "min        4.300000     2.000000      1.000000     0.100000\n",
       "25%        5.125000     2.800000      1.600000     0.325000\n",
       "50%        5.800000     3.000000      4.400000     1.300000\n",
       "75%        6.400000     3.375000      5.100000     1.800000\n",
       "max        7.900000     4.400000      6.900000     2.500000"
      ]
     },
     "execution_count": 26,
     "metadata": {},
     "output_type": "execute_result"
    }
   ],
   "source": [
    "df_iris_notna_num.describe()"
   ]
  },
  {
   "cell_type": "markdown",
   "metadata": {
    "id": "hD3jkuhyRV0Q"
   },
   "source": [
    "3 4. Optimization + Linear regression\n",
    "> Linear regression using optimization(Gradient Descent)  \n",
    "1) Generate random data of y = 0.1x + 0.3 + N(0, 0.3)   \n",
    "2) Set y=Wx+b  \n",
    "3) Find optimal W, b using gradient descent optimization  \n",
    "\n"
   ]
  },
  {
   "cell_type": "code",
   "execution_count": 27,
   "metadata": {
    "id": "W7YEYhjLRUEz"
   },
   "outputs": [],
   "source": [
    "import numpy as np\n",
    "import random as random\n",
    "import matplotlib.pyplot as plt"
   ]
  },
  {
   "cell_type": "code",
   "execution_count": 28,
   "metadata": {
    "colab": {
     "base_uri": "https://localhost:8080/",
     "height": 452
    },
    "executionInfo": {
     "elapsed": 679,
     "status": "ok",
     "timestamp": 1725957674832,
     "user": {
      "displayName": "Park Chan Hee",
      "userId": "12253724632409422807"
     },
     "user_tz": -540
    },
    "id": "vcxj-4zMRUG6",
    "outputId": "5dd4aeeb-805e-42cd-fa3a-d0dfc0664201"
   },
   "outputs": [
    {
     "name": "stdout",
     "output_type": "stream",
     "text": [
      "x shape is:  (100, 1)\n",
      "y shape is:  (100, 1)\n"
     ]
    },
    {
     "data": {
      "image/png": "[encoded data removed]",
      "text/plain": [
       "<Figure size 640x480 with 1 Axes>"
      ]
     },
     "metadata": {},
     "output_type": "display_data"
    }
   ],
   "source": [
    "N = 100\n",
    "theta0 = 0.1\n",
    "theta1 = 0.3\n",
    "\n",
    "x = np.random.normal(0.0, 1, N).reshape(-1, 1)\n",
    "y = theta0 + theta1 * x\n",
    "y = y + np.random.normal(0.0, 0.1, N).reshape(-1, 1)\n",
    "\n",
    "print('x shape is: ', x.shape)\n",
    "print('y shape is: ', y.shape)\n",
    "\n",
    "plt.figure()\n",
    "plt.plot(x, y, 'ro')\n",
    "plt.title('data')\n",
    "plt.xlabel('x'), plt.ylabel('y')\n",
    "plt.show()"
   ]
  },
  {
   "cell_type": "markdown",
   "metadata": {},
   "source": [
    "## Solving using Linear Algebra"
   ]
  },
  {
   "cell_type": "code",
   "execution_count": 29,
   "metadata": {},
   "outputs": [
    {
     "name": "stdout",
     "output_type": "stream",
     "text": [
      "(100, 2)\n",
      "[[0.10957892]\n",
      " [0.30928324]]\n"
     ]
    }
   ],
   "source": [
    "A = np.hstack([x**0, x])\n",
    "A = np.asmatrix(A)\n",
    "theta = np.array((A.T * A).I * A.T * y)\n",
    "\n",
    "print(A.shape)\n",
    "print(theta)"
   ]
  },
  {
   "cell_type": "code",
   "execution_count": 30,
   "metadata": {},
   "outputs": [
    {
     "data": {
      "image/png": "[encoded data removed]",
      "text/plain": [
       "<Figure size 640x480 with 1 Axes>"
      ]
     },
     "metadata": {},
     "output_type": "display_data"
    }
   ],
   "source": [
    "plt.figure()\n",
    "plt.plot(x, y, 'ro')\n",
    "plt.plot(x, theta[1,0]*x + theta[0,0])\n",
    "plt.xlabel('x'), plt.ylabel('y')\n",
    "plt.show()"
   ]
  },
  {
   "cell_type": "markdown",
   "metadata": {},
   "source": [
    "## Solving using Gradient Decent (1)"
   ]
  },
  {
   "cell_type": "code",
   "execution_count": 31,
   "metadata": {},
   "outputs": [
    {
     "name": "stdout",
     "output_type": "stream",
     "text": [
      "[[0.10772954]\n",
      " [0.30547719]]\n"
     ]
    }
   ],
   "source": [
    "import numpy as np\n",
    "\n",
    "# Initialize theta\n",
    "theta = np.random.randn(2, 1)\n",
    "theta = np.asmatrix(theta)\n",
    "\n",
    "# Learning rate\n",
    "alpha = 0.00001\n",
    "n_iter = 3000\n",
    "theta_history = []\n",
    "\n",
    "# Gradient descent\n",
    "for _ in range(n_iter):\n",
    "    df = 2 * (A.T * A * theta - A.T * y)\n",
    "    theta = theta - alpha * df\n",
    "    theta_history.append(np.array(theta)[:,0])\n",
    "\n",
    "print(theta)"
   ]
  },
  {
   "cell_type": "code",
   "execution_count": 32,
   "metadata": {},
   "outputs": [
    {
     "data": {
      "image/png": "[encoded data removed]",
      "text/plain": [
       "<Figure size 640x480 with 1 Axes>"
      ]
     },
     "metadata": {},
     "output_type": "display_data"
    }
   ],
   "source": [
    "plt.figure()\n",
    "plt.plot(x, y, 'ro')\n",
    "plt.plot(x, theta[1,0]*x + theta[0,0])\n",
    "plt.xlabel('x'), plt.ylabel('y')\n",
    "plt.show()"
   ]
  },
  {
   "cell_type": "code",
   "execution_count": 33,
   "metadata": {},
   "outputs": [
    {
     "data": {
      "image/png": "[encoded data removed]",
      "text/plain": [
       "<Figure size 1000x500 with 2 Axes>"
      ]
     },
     "metadata": {},
     "output_type": "display_data"
    }
   ],
   "source": [
    "theta_history = np.array(theta_history)\n",
    "plt.figure(figsize=(10,5))\n",
    "plt.subplot(1,2,1)\n",
    "plt.plot(np.arange(0,n_iter), np.ones(n_iter)*theta0)\n",
    "plt.plot(theta_history[:,0], 'r--')\n",
    "plt.title('theta0')\n",
    "plt.subplot(1,2,2)\n",
    "plt.plot(np.arange(0,n_iter), np.ones(n_iter)*theta1)\n",
    "plt.plot(theta_history[:,1], 'r--')\n",
    "plt.title('theta1')\n",
    "plt.show()"
   ]
  },
  {
   "cell_type": "markdown",
   "metadata": {},
   "source": [
    "## Solving using Gradient Decent (2)"
   ]
  },
  {
   "cell_type": "markdown",
   "metadata": {},
   "source": [
    "### Tensor Basics"
   ]
  },
  {
   "cell_type": "code",
   "execution_count": 34,
   "metadata": {},
   "outputs": [
    {
     "name": "stdout",
     "output_type": "stream",
     "text": [
      "tensor([[1., 2.],\n",
      "        [3., 4.]], requires_grad=True)\n",
      "tensor([[1., 2.],\n",
      "        [3., 4.]])\n",
      "10.0\n",
      "[[1. 2.]\n",
      " [3. 4.]]\n",
      "None\n",
      "tensor([[1., 1.],\n",
      "        [1., 1.]])\n"
     ]
    }
   ],
   "source": [
    "import torch\n",
    "# Enable autograd by GPU\n",
    "tensor = torch.tensor([[1, 2], [3, 4]], dtype=torch.float, requires_grad=True)\n",
    "print(tensor)\n",
    "\n",
    "# detach(): Returns a new Tensor, detached from the current graph (disabling autograd)\n",
    "detached_tensor = tensor.detach()\n",
    "print(detached_tensor)\n",
    "\n",
    "# item(): Returns the value of this tensor as a standard Python number (Valid only for one element tensor)\n",
    "print(tensor.sum().item())\n",
    "\n",
    "# numpy(): Returns the tensor as a NumPy ndarray\n",
    "print(tensor.detach().numpy())\n",
    "\n",
    "# grad: gradient of the tensor\n",
    "print(tensor.grad)\n",
    "\n",
    "# investigate how grad works\n",
    "output = tensor.sum()\n",
    "output.backward()\n",
    "print(tensor.grad)"
   ]
  },
  {
   "cell_type": "markdown",
   "metadata": {},
   "source": [
    "#### For more detailed explanation of autograd, let's see the following example\n",
    "$y = x^2 + 2x + 1$\n",
    "\n",
    "\n",
    "$dy = 2x + 2$\n"
   ]
  },
  {
   "cell_type": "code",
   "execution_count": 35,
   "metadata": {},
   "outputs": [
    {
     "name": "stdout",
     "output_type": "stream",
     "text": [
      "x:  tensor(2., dtype=torch.float64, requires_grad=True)\n",
      "y:  tensor(9., dtype=torch.float64, grad_fn=<AddBackward0>)\n",
      "grad:  tensor(6., dtype=torch.float64)\n"
     ]
    }
   ],
   "source": [
    "a = 2 # Try different values\n",
    "a_tensor = torch.tensor(a,dtype=float, requires_grad=True)\n",
    "b_tensor = a_tensor**2 + 2*a_tensor + 1\n",
    "print('x: ', a_tensor)\n",
    "print('y: ', b_tensor)\n",
    "\n",
    "# calculate the gradient\n",
    "b_tensor.backward()\n",
    "print('grad: ', a_tensor.grad)"
   ]
  },
  {
   "cell_type": "markdown",
   "metadata": {},
   "source": [
    "### Let's solve our problem!"
   ]
  },
  {
   "cell_type": "code",
   "execution_count": 36,
   "metadata": {
    "id": "eFJ2qNTSW2mC"
   },
   "outputs": [],
   "source": [
    "# Change the data format into pytorch format\n",
    "x_tensor = torch.tensor(x).float()\n",
    "y_tensor = torch.tensor(y).float()"
   ]
  },
  {
   "cell_type": "code",
   "execution_count": 37,
   "metadata": {},
   "outputs": [
    {
     "name": "stdout",
     "output_type": "stream",
     "text": [
      "iter= 0,\t theta0: 0.473820,\t theta1: 0.171610, \t loss: 25.336609\n",
      "iter= 10,\t theta0: 0.147613,\t theta1: 0.297731, \t loss: 1.106277\n",
      "iter= 20,\t theta0: 0.113575,\t theta1: 0.308378, \t loss: 0.855121\n",
      "iter= 30,\t theta0: 0.110001,\t theta1: 0.309221, \t loss: 0.852470\n",
      "iter= 40,\t theta0: 0.109624,\t theta1: 0.309280, \t loss: 0.852441\n",
      "iter= 50,\t theta0: 0.109584,\t theta1: 0.309283, \t loss: 0.852441\n",
      "iter= 60,\t theta0: 0.109579,\t theta1: 0.309283, \t loss: 0.852441\n",
      "iter= 70,\t theta0: 0.109579,\t theta1: 0.309283, \t loss: 0.852441\n",
      "iter= 80,\t theta0: 0.109579,\t theta1: 0.309283, \t loss: 0.852441\n",
      "iter= 90,\t theta0: 0.109579,\t theta1: 0.309283, \t loss: 0.852441\n"
     ]
    }
   ],
   "source": [
    "# parameters to optimize\n",
    "# Initial value is randomly set\n",
    "# requires_grad=True: take into account in the gradient\n",
    "import torch.optim.sgd\n",
    "\n",
    "t0 = torch.tensor(np.random.randn(1), dtype=float, requires_grad=True)\n",
    "t1 = torch.tensor(np.random.randn(1), dtype=float, requires_grad=True)\n",
    "\n",
    "step_size = 0.001\n",
    "optimizer = torch.optim.SGD([t1, t0], lr=step_size)\n",
    "\n",
    "# Gradient Descent\n",
    "n_iter = 100\n",
    "theta_history = []\n",
    "for t in range(0, n_iter):\n",
    "    # Calculate loss\n",
    "    loss = ((y_tensor - (t1*x_tensor + t0))**2).sum()\n",
    "    \n",
    "    # Calculate gradient\n",
    "    loss.backward()\n",
    "\n",
    "    # This is how the optimizer actually works (theta0 and 1 are updated)\n",
    "    optimizer.step()\n",
    "    optimizer.zero_grad()\n",
    "    \n",
    "    # Save Log\n",
    "    theta_history.append([t0.item(), t1.item()])\n",
    "    if (t%10==0):\n",
    "        print('iter= {},\\t theta0: {:3f},\\t theta1: {:3f}, \\t loss: {:3f}'\\\n",
    "              .format(t,t0.item(), t1.item(), loss.item()))\n",
    "theta_history = np.array(theta_history)\n",
    "opt = loss.item()"
   ]
  },
  {
   "cell_type": "code",
   "execution_count": 38,
   "metadata": {},
   "outputs": [
    {
     "data": {
      "image/png": "[encoded data removed]",
      "text/plain": [
       "<Figure size 640x480 with 1 Axes>"
      ]
     },
     "metadata": {},
     "output_type": "display_data"
    }
   ],
   "source": [
    "# check data and model\n",
    "plt.figure()\n",
    "plt.plot(x, y, 'ro')\n",
    "plt.plot(x, (t1.detach().numpy()*x + t0.detach().numpy()))\n",
    "plt.xlabel('x')\n",
    "plt.ylabel('y')\n",
    "plt.show()"
   ]
  },
  {
   "cell_type": "code",
   "execution_count": 39,
   "metadata": {},
   "outputs": [
    {
     "data": {
      "image/png": "[encoded data removed]",
      "text/plain": [
       "<Figure size 1000x500 with 2 Axes>"
      ]
     },
     "metadata": {},
     "output_type": "display_data"
    }
   ],
   "source": [
    "theta_history = np.array(theta_history)\n",
    "plt.figure(figsize=(10,5))\n",
    "plt.subplot(1,2,1)\n",
    "plt.plot(np.arange(0,n_iter), np.ones(n_iter)*theta0)\n",
    "plt.plot(theta_history[:,0], 'r--')\n",
    "plt.title('theta0')\n",
    "plt.subplot(1,2,2)\n",
    "plt.plot(np.arange(0,n_iter), np.ones(n_iter)*theta1)\n",
    "plt.plot(theta_history[:,1], 'r--')\n",
    "plt.title('theta1')\n",
    "plt.show()"
   ]
  },
  {
   "cell_type": "code",
   "execution_count": 40,
   "metadata": {},
   "outputs": [
    {
     "name": "stdout",
     "output_type": "stream",
     "text": [
      "iter= 0,\t t0 (manual 1, 2, optim): -1.044736, -1.044736, -1.044736,\t t0 (manual 1, 2, optim): -0.397334, -0.397334, -0.397334,\n",
      "iter= 10,\t t0 (manual 1, 2, optim): -0.020836, -0.020836, -0.020836,\t t0 (manual 1, 2, optim): 0.223852, 0.223852, 0.223852,\n",
      "iter= 20,\t t0 (manual 1, 2, optim): 0.094796, 0.094796, 0.094796,\t t0 (manual 1, 2, optim): 0.299034, 0.299034, 0.299034,\n",
      "iter= 30,\t t0 (manual 1, 2, optim): 0.107898, 0.107898, 0.107898,\t t0 (manual 1, 2, optim): 0.308061, 0.308061, 0.308061,\n",
      "iter= 40,\t t0 (manual 1, 2, optim): 0.109387, 0.109387, 0.109387,\t t0 (manual 1, 2, optim): 0.309138, 0.309138, 0.309138,\n",
      "iter= 50,\t t0 (manual 1, 2, optim): 0.109557, 0.109557, 0.109557,\t t0 (manual 1, 2, optim): 0.309266, 0.309266, 0.309266,\n",
      "iter= 60,\t t0 (manual 1, 2, optim): 0.109576, 0.109576, 0.109576,\t t0 (manual 1, 2, optim): 0.309281, 0.309281, 0.309281,\n",
      "iter= 70,\t t0 (manual 1, 2, optim): 0.109579, 0.109579, 0.109579,\t t0 (manual 1, 2, optim): 0.309283, 0.309283, 0.309283,\n",
      "iter= 80,\t t0 (manual 1, 2, optim): 0.109579, 0.109579, 0.109579,\t t0 (manual 1, 2, optim): 0.309283, 0.309283, 0.309283,\n",
      "iter= 90,\t t0 (manual 1, 2, optim): 0.109579, 0.109579, 0.109579,\t t0 (manual 1, 2, optim): 0.309283, 0.309283, 0.309283,\n"
     ]
    }
   ],
   "source": [
    "# parameters to optimize\n",
    "# Initial value is randomly set\n",
    "# requires_grad=True: take into account in the gradient\n",
    "import torch.optim.sgd\n",
    "\n",
    "t0 = torch.tensor(np.random.randn(1), dtype=float, requires_grad=True)\n",
    "t1 = torch.tensor(np.random.randn(1), dtype=float, requires_grad=True)\n",
    "\n",
    "# theta_math = np.asmatrix(np.concatenate([t0.detach().numpy(), t1.detach().numpy()]))\n",
    "\n",
    "step_size = 0.001\n",
    "optimizer = torch.optim.SGD([t1, t0], lr=step_size)\n",
    "\n",
    "# Gradient Descent\n",
    "n_iter = 100\n",
    "theta_history = []\n",
    "for t in range(0, n_iter):\n",
    "    # Calculate loss\n",
    "    loss = ((y_tensor - (t1*x_tensor + t0))**2).sum()\n",
    "    \n",
    "    # Calculate gradient\n",
    "    loss.backward()\n",
    "    \n",
    "    ##################################################################\n",
    "    # Investigate the manual gradient descent step\n",
    "    # Code within this block (###) is just for the investigation, not required for the optimizer\n",
    "    # Gradient using torch\n",
    "    theta0_grad = t0.grad\n",
    "    theta1_grad = t1.grad\n",
    "    t0_manual1 = t0.item() - step_size * theta0_grad\n",
    "    t1_manual1 = t1.item() - step_size * theta1_grad\n",
    "    \n",
    "    # Gradient using math\n",
    "    theta_math = np.asmatrix(np.concatenate([t0.detach().numpy(), t1.detach().numpy()])).T\n",
    "    df = 2 * (A.T * A * theta_math - A.T * y)\n",
    "    theta_math = theta_math - step_size * df\n",
    "    t0_manual2 = theta_math[0,0]\n",
    "    t1_manual2 = theta_math[1,0]\n",
    "    ##################################################################\n",
    "    \n",
    "    # This is how the optimizer actually works (theta0 and 1 are updated)\n",
    "    optimizer.step()\n",
    "    optimizer.zero_grad()\n",
    "    \n",
    "    # Save Log\n",
    "    theta_history.append([t0.item(), t1.item()])\n",
    "    if (t%10==0):\n",
    "        print('iter= {},\\t t0 (manual 1, 2, optim): {:3f}, {:3f}, {:3f},\\t t0 (manual 1, 2, optim): {:3f}, {:3f}, {:3f},'\\\n",
    "              .format(t,t0.item(), t0_manual1.item(),t0_manual2, t1.item(), t1_manual1.item(),t1_manual2))\n",
    "theta_history = np.array(theta_history)\n",
    "opt = loss.item()"
   ]
  },
  {
   "cell_type": "markdown",
   "metadata": {
    "id": "nh0h-tePUbuA"
   },
   "source": [
    "# 4. Correlation Analysis\n",
    "- .corr() for pandas (default: pearson, method=)\n",
    "- scipy.stats  library can!\n",
    "reference: https://datadoctorblog.com/2023/08/08/Py-Stat-correlation-analysis/"
   ]
  },
  {
   "cell_type": "code",
   "execution_count": 41,
   "metadata": {
    "colab": {
     "base_uri": "https://localhost:8080/",
     "height": 175
    },
    "executionInfo": {
     "elapsed": 298,
     "status": "ok",
     "timestamp": 1725957781724,
     "user": {
      "displayName": "Park Chan Hee",
      "userId": "12253724632409422807"
     },
     "user_tz": -540
    },
    "id": "ebOv8dbARUI6",
    "outputId": "77dfa6ed-8412-4db8-d1b7-d9adccc32301"
   },
   "outputs": [
    {
     "data": {
      "text/html": [
       "<div>\n",
       "<style scoped>\n",
       "    .dataframe tbody tr th:only-of-type {\n",
       "        vertical-align: middle;\n",
       "    }\n",
       "\n",
       "    .dataframe tbody tr th {\n",
       "        vertical-align: top;\n",
       "    }\n",
       "\n",
       "    .dataframe thead th {\n",
       "        text-align: right;\n",
       "    }\n",
       "</style>\n",
       "<table border=\"1\" class=\"dataframe\">\n",
       "  <thead>\n",
       "    <tr style=\"text-align: right;\">\n",
       "      <th></th>\n",
       "      <th>Sepal.Length</th>\n",
       "      <th>Sepal.Width</th>\n",
       "      <th>Petal.Length</th>\n",
       "      <th>Petal.Width</th>\n",
       "    </tr>\n",
       "  </thead>\n",
       "  <tbody>\n",
       "    <tr>\n",
       "      <th>Sepal.Length</th>\n",
       "      <td>1.000000</td>\n",
       "      <td>-0.071370</td>\n",
       "      <td>0.860217</td>\n",
       "      <td>0.808743</td>\n",
       "    </tr>\n",
       "    <tr>\n",
       "      <th>Sepal.Width</th>\n",
       "      <td>-0.071370</td>\n",
       "      <td>1.000000</td>\n",
       "      <td>-0.406533</td>\n",
       "      <td>-0.338672</td>\n",
       "    </tr>\n",
       "    <tr>\n",
       "      <th>Petal.Length</th>\n",
       "      <td>0.860217</td>\n",
       "      <td>-0.406533</td>\n",
       "      <td>1.000000</td>\n",
       "      <td>0.961360</td>\n",
       "    </tr>\n",
       "    <tr>\n",
       "      <th>Petal.Width</th>\n",
       "      <td>0.808743</td>\n",
       "      <td>-0.338672</td>\n",
       "      <td>0.961360</td>\n",
       "      <td>1.000000</td>\n",
       "    </tr>\n",
       "  </tbody>\n",
       "</table>\n",
       "</div>"
      ],
      "text/plain": [
       "              Sepal.Length  Sepal.Width  Petal.Length  Petal.Width\n",
       "Sepal.Length      1.000000    -0.071370      0.860217     0.808743\n",
       "Sepal.Width      -0.071370     1.000000     -0.406533    -0.338672\n",
       "Petal.Length      0.860217    -0.406533      1.000000     0.961360\n",
       "Petal.Width       0.808743    -0.338672      0.961360     1.000000"
      ]
     },
     "execution_count": 41,
     "metadata": {},
     "output_type": "execute_result"
    }
   ],
   "source": [
    "df_iris_notna_num.corr()"
   ]
  },
  {
   "cell_type": "code",
   "execution_count": 42,
   "metadata": {
    "colab": {
     "base_uri": "https://localhost:8080/"
    },
    "executionInfo": {
     "elapsed": 918,
     "status": "ok",
     "timestamp": 1725957809796,
     "user": {
      "displayName": "Park Chan Hee",
      "userId": "12253724632409422807"
     },
     "user_tz": -540
    },
    "id": "7NmIVDeUGf5A",
    "outputId": "0e3bffee-d6da-48de-9793-316b11b3dc58"
   },
   "outputs": [],
   "source": [
    "# help(pd.DataFrame)"
   ]
  },
  {
   "cell_type": "code",
   "execution_count": 43,
   "metadata": {
    "colab": {
     "base_uri": "https://localhost:8080/",
     "height": 175
    },
    "executionInfo": {
     "elapsed": 365,
     "status": "ok",
     "timestamp": 1725957799272,
     "user": {
      "displayName": "Park Chan Hee",
      "userId": "12253724632409422807"
     },
     "user_tz": -540
    },
    "id": "KTXhnmi7VG6P",
    "outputId": "94ae3c78-00cf-4446-e770-6d512821fc72"
   },
   "outputs": [
    {
     "data": {
      "text/html": [
       "<div>\n",
       "<style scoped>\n",
       "    .dataframe tbody tr th:only-of-type {\n",
       "        vertical-align: middle;\n",
       "    }\n",
       "\n",
       "    .dataframe tbody tr th {\n",
       "        vertical-align: top;\n",
       "    }\n",
       "\n",
       "    .dataframe thead th {\n",
       "        text-align: right;\n",
       "    }\n",
       "</style>\n",
       "<table border=\"1\" class=\"dataframe\">\n",
       "  <thead>\n",
       "    <tr style=\"text-align: right;\">\n",
       "      <th></th>\n",
       "      <th>Sepal.Length</th>\n",
       "      <th>Sepal.Width</th>\n",
       "      <th>Petal.Length</th>\n",
       "      <th>Petal.Width</th>\n",
       "    </tr>\n",
       "  </thead>\n",
       "  <tbody>\n",
       "    <tr>\n",
       "      <th>Sepal.Length</th>\n",
       "      <td>1.000000</td>\n",
       "      <td>-0.113584</td>\n",
       "      <td>0.873034</td>\n",
       "      <td>0.823997</td>\n",
       "    </tr>\n",
       "    <tr>\n",
       "      <th>Sepal.Width</th>\n",
       "      <td>-0.113584</td>\n",
       "      <td>1.000000</td>\n",
       "      <td>-0.272651</td>\n",
       "      <td>-0.259357</td>\n",
       "    </tr>\n",
       "    <tr>\n",
       "      <th>Petal.Length</th>\n",
       "      <td>0.873034</td>\n",
       "      <td>-0.272651</td>\n",
       "      <td>1.000000</td>\n",
       "      <td>0.940600</td>\n",
       "    </tr>\n",
       "    <tr>\n",
       "      <th>Petal.Width</th>\n",
       "      <td>0.823997</td>\n",
       "      <td>-0.259357</td>\n",
       "      <td>0.940600</td>\n",
       "      <td>1.000000</td>\n",
       "    </tr>\n",
       "  </tbody>\n",
       "</table>\n",
       "</div>"
      ],
      "text/plain": [
       "              Sepal.Length  Sepal.Width  Petal.Length  Petal.Width\n",
       "Sepal.Length      1.000000    -0.113584      0.873034     0.823997\n",
       "Sepal.Width      -0.113584     1.000000     -0.272651    -0.259357\n",
       "Petal.Length      0.873034    -0.272651      1.000000     0.940600\n",
       "Petal.Width       0.823997    -0.259357      0.940600     1.000000"
      ]
     },
     "execution_count": 43,
     "metadata": {},
     "output_type": "execute_result"
    }
   ],
   "source": [
    "df_iris_notna_num.corr(method = \"spearman\")"
   ]
  },
  {
   "cell_type": "code",
   "execution_count": 44,
   "metadata": {
    "colab": {
     "base_uri": "https://localhost:8080/"
    },
    "executionInfo": {
     "elapsed": 2,
     "status": "ok",
     "timestamp": 1725943352667,
     "user": {
      "displayName": "Park Chan Hee",
      "userId": "12253724632409422807"
     },
     "user_tz": -540
    },
    "id": "_c90QoDhVMbr",
    "outputId": "b08c7105-103b-4b4e-b19d-ed387a8e47c4"
   },
   "outputs": [
    {
     "name": "stdout",
     "output_type": "stream",
     "text": [
      "PearsonRResult(statistic=0.8602174805176663, pvalue=4.4624219928670217e-38)\n",
      "SignificanceResult(statistic=0.8730341892821037, pvalue=1.7324794500960063e-40)\n",
      "SignificanceResult(statistic=0.7064455853595843, pvalue=4.351505558359676e-30)\n"
     ]
    }
   ],
   "source": [
    "from scipy.stats import pearsonr, spearmanr, kendalltau\n",
    "print(pearsonr(df_iris_notna_num[\"Sepal.Length\"], df_iris_notna_num[\"Petal.Length\"]))\n",
    "print(spearmanr(df_iris_notna_num[\"Sepal.Length\"], df_iris_notna_num[\"Petal.Length\"]))\n",
    "print(kendalltau(df_iris_notna_num[\"Sepal.Length\"], df_iris_notna_num[\"Petal.Length\"]))"
   ]
  }
 ],
 "metadata": {
  "colab": {
   "authorship_tag": "ABX9TyNPsSFUJjFIpbYuXAUXXFkb",
   "provenance": [
    {
     "file_id": "1uHJOOtvv7mDySFQOWgokAiq1LphJz5Tu",
     "timestamp": 1725882857895
    }
   ]
  },
  "kernelspec": {
   "display_name": "torch",
   "language": "python",
   "name": "python3"
  },
  "language_info": {
   "codemirror_mode": {
    "name": "ipython",
    "version": 3
   },
   "file_extension": ".py",
   "mimetype": "text/x-python",
   "name": "python",
   "nbconvert_exporter": "python",
   "pygments_lexer": "ipython3",
   "version": "3.10.16"
  }
 },
 "nbformat": 4,
 "nbformat_minor": 0
}
