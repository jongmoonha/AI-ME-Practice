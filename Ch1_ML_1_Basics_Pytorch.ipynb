{
 "cells": [
  {
   "cell_type": "markdown",
   "metadata": {
    "id": "_3dXzCKqtrJi"
   },
   "source": [
    "# Chapter2. Machine Learning (1)\n",
    "Linear regression + Optimization(gradient descent)\n",
    "\n",
    "Correlation"
   ]
  },
  {
   "cell_type": "code",
   "execution_count": 16,
   "metadata": {
    "id": "W7YEYhjLRUEz"
   },
   "outputs": [],
   "source": [
    "import numpy as np\n",
    "import pandas as pd\n",
    "import random as random\n",
    "import matplotlib.pyplot as plt"
   ]
  },
  {
   "cell_type": "markdown",
   "metadata": {},
   "source": [
    "### Tensor Basics"
   ]
  },
  {
   "cell_type": "code",
   "execution_count": 23,
   "metadata": {},
   "outputs": [
    {
     "name": "stdout",
     "output_type": "stream",
     "text": [
      "tensor(2., dtype=torch.float64, requires_grad=True)\n"
     ]
    }
   ],
   "source": [
    "import torch\n",
    "x = 2 \n",
    "x_tensor = torch.tensor(x,dtype=float, requires_grad=True)\n",
    "print(x_tensor)"
   ]
  },
  {
   "cell_type": "code",
   "execution_count": 24,
   "metadata": {},
   "outputs": [
    {
     "name": "stdout",
     "output_type": "stream",
     "text": [
      "tensor(2., dtype=torch.float64)\n"
     ]
    }
   ],
   "source": [
    "# detach(): Returns a new Tensor, detached from the current graph (disabling autograd)\n",
    "detached_tensor = x_tensor.detach()\n",
    "print(detached_tensor)"
   ]
  },
  {
   "cell_type": "code",
   "execution_count": 25,
   "metadata": {},
   "outputs": [
    {
     "name": "stdout",
     "output_type": "stream",
     "text": [
      "2.0\n",
      "<class 'numpy.ndarray'>\n",
      "2.0\n",
      "<class 'float'>\n"
     ]
    }
   ],
   "source": [
    "# numpy(): Returns the tensor as a NumPy ndarray\n",
    "print(x_tensor.detach().numpy())\n",
    "print(type(x_tensor.detach().numpy()))\n",
    "\n",
    "# item(): Returns the value of a single-element tensor as a standard Python number\n",
    "print(x_tensor.item())\n",
    "print(type(x_tensor.item()))"
   ]
  },
  {
   "cell_type": "markdown",
   "metadata": {},
   "source": [
    "### Gradient using Pytorch\n",
    "#### let's see the following example\n",
    "$y = x^2 + 2x + 1$\n",
    "\n",
    "\n",
    "$dy = 2x + 2$\n"
   ]
  },
  {
   "cell_type": "code",
   "execution_count": 26,
   "metadata": {},
   "outputs": [
    {
     "name": "stdout",
     "output_type": "stream",
     "text": [
      "x:  tensor(2., dtype=torch.float64, requires_grad=True)\n",
      "y:  tensor(9., dtype=torch.float64, grad_fn=<AddBackward0>)\n",
      "grad:  tensor(6., dtype=torch.float64)\n"
     ]
    }
   ],
   "source": [
    "x = 2 # Try different values\n",
    "x_tensor = torch.tensor(x,dtype=float, requires_grad=True)\n",
    "y_tensor = x_tensor**2 + 2*x_tensor + 1\n",
    "print('x: ', x_tensor)\n",
    "print('y: ', y_tensor)\n",
    "\n",
    "# calculate the gradient\n",
    "y_tensor.backward()\n",
    "print('grad: ', x_tensor.grad)"
   ]
  },
  {
   "cell_type": "markdown",
   "metadata": {},
   "source": [
    "$Y = X^2 + 2X + 1$\n",
    "\n",
    "$dY = 2X + 2$"
   ]
  },
  {
   "cell_type": "code",
   "execution_count": 29,
   "metadata": {},
   "outputs": [
    {
     "name": "stdout",
     "output_type": "stream",
     "text": [
      "x:  tensor([0., 1.], dtype=torch.float64, requires_grad=True)\n",
      "y:  tensor([1., 4.], dtype=torch.float64, grad_fn=<AddBackward0>)\n",
      "grad:  tensor([2., 4.], dtype=torch.float64)\n"
     ]
    }
   ],
   "source": [
    "x = np.array((0, 1)) # Try different values\n",
    "x_tensor = torch.tensor(x,dtype=float, requires_grad=True)\n",
    "y_tensor = x_tensor**2 + 2*x_tensor + 1\n",
    "print('x: ', x_tensor)\n",
    "print('y: ', y_tensor)\n",
    "\n",
    "# calculate the gradient\n",
    "y_tensor.backward(torch.ones_like(y_tensor))\n",
    "print('grad: ', x_tensor.grad)"
   ]
  },
  {
   "cell_type": "markdown",
   "metadata": {},
   "source": [
    "$Y = X^2 + 2X + 1$\n",
    "\n",
    "$f = (Y-Y_{true})^2$\n",
    "\n",
    "$df/dX = dY/dX * df/dY$\n"
   ]
  },
  {
   "cell_type": "code",
   "execution_count": 30,
   "metadata": {},
   "outputs": [
    {
     "name": "stdout",
     "output_type": "stream",
     "text": [
      "x:  tensor([0., 1.], dtype=torch.float64, requires_grad=True)\n",
      "y:  tensor([1., 4.], dtype=torch.float64, grad_fn=<AddBackward0>)\n",
      "grad:  tensor([0., 8.], dtype=torch.float64)\n"
     ]
    }
   ],
   "source": [
    "x = np.array((0, 1)) # Try different values\n",
    "x_tensor = torch.tensor(x,dtype=float, requires_grad=True)\n",
    "y_tensor = x_tensor**2 + 2*x_tensor + 1\n",
    "print('x: ', x_tensor)\n",
    "print('y: ', y_tensor)\n",
    "\n",
    "y_true = torch.tensor(np.array((1, 3)))\n",
    "f = (y_tensor - y_true)**2\n",
    "\n",
    "# calculate the gradient\n",
    "f.backward(torch.ones_like(f))\n",
    "print('grad: ', x_tensor.grad)"
   ]
  },
  {
   "cell_type": "markdown",
   "metadata": {},
   "source": [
    "$Y = X^2 + 2X + 1$\n",
    "\n",
    "$f = (Y-Y_{true})^2$\n",
    "\n",
    "$df/dX = dY/dX * df/dY$\n"
   ]
  },
  {
   "cell_type": "code",
   "execution_count": 33,
   "metadata": {},
   "outputs": [
    {
     "name": "stdout",
     "output_type": "stream",
     "text": [
      "x:  tensor([0., 1.], dtype=torch.float64, requires_grad=True)\n",
      "y:  tensor([1., 4.], dtype=torch.float64, grad_fn=<AddBackward0>)\n",
      "grad:  tensor([0., 8.], dtype=torch.float64)\n"
     ]
    }
   ],
   "source": [
    "x = np.array((0, 1)) # Try different values\n",
    "x_tensor = torch.tensor(x,dtype=float, requires_grad=True)\n",
    "y_tensor = x_tensor**2 + 2*x_tensor + 1\n",
    "print('x: ', x_tensor)\n",
    "print('y: ', y_tensor)\n",
    "\n",
    "y_true = torch.tensor(np.array((1, 3)))\n",
    "f = ((y_tensor - y_true)**2).sum()\n",
    "\n",
    "# calculate the gradient\n",
    "f.backward()\n",
    "print('grad: ', x_tensor.grad)"
   ]
  }
 ],
 "metadata": {
  "colab": {
   "authorship_tag": "ABX9TyNPsSFUJjFIpbYuXAUXXFkb",
   "provenance": [
    {
     "file_id": "1uHJOOtvv7mDySFQOWgokAiq1LphJz5Tu",
     "timestamp": 1725882857895
    }
   ]
  },
  "kernelspec": {
   "display_name": "torch",
   "language": "python",
   "name": "python3"
  },
  "language_info": {
   "codemirror_mode": {
    "name": "ipython",
    "version": 3
   },
   "file_extension": ".py",
   "mimetype": "text/x-python",
   "name": "python",
   "nbconvert_exporter": "python",
   "pygments_lexer": "ipython3",
   "version": "3.9.21"
  }
 },
 "nbformat": 4,
 "nbformat_minor": 0
}
