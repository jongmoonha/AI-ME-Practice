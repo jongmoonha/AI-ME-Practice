{
 "cells": [
  {
   "cell_type": "markdown",
   "metadata": {
    "id": "_3dXzCKqtrJi"
   },
   "source": [
    "# Chapter2. Practice List\n",
    "\n",
    "2. Machine Learning models - unsupervised  \n",
    "\n",
    "  2-1. clustering\n",
    "   - hierarchical clustering\n",
    "   - k-means\n",
    "   - dbscan  \n",
    "   - evaluate clustering result\n",
    "\n",
    "  2-2. dimension reduction\n",
    "   - pca\n",
    "   - tsne\n",
    "\n",
    "\n",
    "3. Evaluation\n",
    " - (revisit) machine learning (1) result\n",
    " - confusion matrix\n",
    " - roc curve\n",
    " - regression errors\n",
    "\n",
    "\n",
    "#### + Pycaret Library - clustering, dimension reduction"
   ]
  },
  {
   "cell_type": "code",
   "execution_count": 2,
   "metadata": {
    "executionInfo": {
     "elapsed": 376,
     "status": "ok",
     "timestamp": 1728369951551,
     "user": {
      "displayName": "Park Chan Hee",
      "userId": "12253724632409422807"
     },
     "user_tz": -540
    },
    "id": "5YMzKpUepMzj"
   },
   "outputs": [],
   "source": [
    "# import module\n",
    "import pandas as pd\n",
    "import matplotlib.pyplot as plt"
   ]
  },
  {
   "cell_type": "markdown",
   "metadata": {
    "id": "fNPyxmvlmydm"
   },
   "source": [
    "# 2. Machine Learning models - unsupervised  "
   ]
  },
  {
   "cell_type": "markdown",
   "metadata": {
    "id": "5NCwV01ODK0W"
   },
   "source": [
    "## 2-1. Clustering"
   ]
  },
  {
   "cell_type": "code",
   "execution_count": 3,
   "metadata": {
    "executionInfo": {
     "elapsed": 403,
     "status": "ok",
     "timestamp": 1728369953213,
     "user": {
      "displayName": "Park Chan Hee",
      "userId": "12253724632409422807"
     },
     "user_tz": -540
    },
    "id": "CuYfgnQgtnZt"
   },
   "outputs": [],
   "source": [
    "from sklearn.datasets import load_iris\n",
    "\n",
    "iris = load_iris()\n",
    "iris_data = iris.data\n",
    "iris_label = iris.target\n",
    "df = pd.DataFrame(data = iris_data, columns = iris.feature_names)\n",
    "# df['label'] = iris.target"
   ]
  },
  {
   "cell_type": "code",
   "execution_count": 4,
   "metadata": {
    "colab": {
     "base_uri": "https://localhost:8080/"
    },
    "executionInfo": {
     "elapsed": 401,
     "status": "ok",
     "timestamp": 1728369959231,
     "user": {
      "displayName": "Park Chan Hee",
      "userId": "12253724632409422807"
     },
     "user_tz": -540
    },
    "id": "SvY9swLVcDAH",
    "outputId": "c85bf9c6-7571-48ad-f791-606f1a6bcbb2"
   },
   "outputs": [
    {
     "data": {
      "text/plain": [
       "Index(['sepal length (cm)', 'sepal width (cm)', 'petal length (cm)',\n",
       "       'petal width (cm)'],\n",
       "      dtype='object')"
      ]
     },
     "execution_count": 4,
     "metadata": {},
     "output_type": "execute_result"
    }
   ],
   "source": [
    "df.columns"
   ]
  },
  {
   "cell_type": "markdown",
   "metadata": {
    "id": "9Xqi96tdeELQ"
   },
   "source": [
    "## Hierarchical Clustering\n",
    "- dendrogram, linkage, fcluster (in scipy.cluster.hierarchy)\n",
    "  - linkage : 두 클러스터 사이의 거리를 측정해서 거리가 가까운 클러스터끼리 묶음 -> 두 클러스터의 거리를 측정할때 어디를 기준점으로 할것인가\n",
    "   - complete: 가장 먼 거리 기준\n",
    "   - single: 가장 가까운 거리 기준\n",
    "   - average: 평균 거리 기준\n",
    "   - ward: 군집 내 편차 제곱합 최소지점 기준\n",
    "   - centroid: 두 군집의 중심점을 정의한 다음, 두 줌심점의 거리\n",
    "- agglomerativeClustering\n",
    "  - n_cluster 선정이 필요함"
   ]
  },
  {
   "cell_type": "code",
   "execution_count": 5,
   "metadata": {
    "colab": {
     "base_uri": "https://localhost:8080/",
     "height": 452
    },
    "executionInfo": {
     "elapsed": 3688,
     "status": "ok",
     "timestamp": 1728369969462,
     "user": {
      "displayName": "Park Chan Hee",
      "userId": "12253724632409422807"
     },
     "user_tz": -540
    },
    "id": "BTQuNAtmeGkg",
    "outputId": "7ce2907a-a85f-492b-d4e5-0ec0f1f11f4e"
   },
   "outputs": [
    {
     "data": {
      "image/png": "[encoded data removed]",
      "text/plain": [
       "<Figure size 640x480 with 1 Axes>"
      ]
     },
     "metadata": {},
     "output_type": "display_data"
    }
   ],
   "source": [
    "from scipy.cluster.hierarchy import dendrogram, linkage, fcluster\n",
    "l_clu = linkage(df, method='ward')\n",
    "plt.figure()\n",
    "dendrogram(l_clu)\n",
    "plt.title('Dendrogram')\n",
    "plt.show()"
   ]
  },
  {
   "cell_type": "code",
   "execution_count": 6,
   "metadata": {
    "colab": {
     "base_uri": "https://localhost:8080/"
    },
    "executionInfo": {
     "elapsed": 417,
     "status": "ok",
     "timestamp": 1728370005198,
     "user": {
      "displayName": "Park Chan Hee",
      "userId": "12253724632409422807"
     },
     "user_tz": -540
    },
    "id": "cWpuiJ_Dlh1m",
    "outputId": "b24912b4-a0d9-40dc-dd4b-f56bd827ac3c"
   },
   "outputs": [
    {
     "data": {
      "text/plain": [
       "array([1, 1, 1, 1, 1, 1, 1, 1, 1, 1, 1, 1, 1, 1, 1, 1, 1, 1, 1, 1, 1, 1,\n",
       "       1, 1, 1, 1, 1, 1, 1, 1, 1, 1, 1, 1, 1, 1, 1, 1, 1, 1, 1, 1, 1, 1,\n",
       "       1, 1, 1, 1, 1, 1, 3, 3, 3, 3, 3, 3, 3, 3, 3, 3, 3, 3, 3, 3, 3, 3,\n",
       "       3, 3, 3, 3, 3, 3, 3, 3, 3, 3, 3, 2, 3, 3, 3, 3, 3, 3, 3, 3, 3, 3,\n",
       "       3, 3, 3, 3, 3, 3, 3, 3, 3, 3, 3, 3, 2, 3, 2, 2, 2, 2, 3, 2, 2, 2,\n",
       "       2, 2, 2, 3, 3, 2, 2, 2, 2, 3, 2, 3, 2, 3, 2, 2, 3, 3, 2, 2, 2, 2,\n",
       "       2, 3, 3, 2, 2, 2, 3, 2, 2, 2, 3, 2, 2, 2, 3, 2, 2, 3], dtype=int32)"
      ]
     },
     "execution_count": 6,
     "metadata": {},
     "output_type": "execute_result"
    }
   ],
   "source": [
    "dist_criteria = 7\n",
    "agg_clusters = fcluster(l_clu, dist_criteria, criterion='distance')\n",
    "agg_clusters"
   ]
  },
  {
   "cell_type": "code",
   "execution_count": 7,
   "metadata": {
    "executionInfo": {
     "elapsed": 395,
     "status": "ok",
     "timestamp": 1728369997957,
     "user": {
      "displayName": "Park Chan Hee",
      "userId": "12253724632409422807"
     },
     "user_tz": -540
    },
    "id": "qo3IbZafesyf"
   },
   "outputs": [],
   "source": [
    "# 군집화 결과 시각화\n",
    "import seaborn as sns\n",
    "def plot_clustering_result(df, clu_model_labels):\n",
    "  plt.figure(figsize=(20, 6))\n",
    "  plt.subplot(1,3,1)\n",
    "  sns.scatterplot(x=df.iloc[:,0], y=df.iloc[:,1], data = df, hue = clu_model_labels)\n",
    "  plt.subplot(1,3,2)\n",
    "  sns.scatterplot(x=df.iloc[:,1], y=df.iloc[:,2], data = df, hue = clu_model_labels)\n",
    "  plt.subplot(1,3,3)\n",
    "  sns.scatterplot(x=df.iloc[:,0], y=df.iloc[:,3], data = df, hue = clu_model_labels)"
   ]
  },
  {
   "cell_type": "code",
   "execution_count": 8,
   "metadata": {
    "colab": {
     "base_uri": "https://localhost:8080/",
     "height": 476
    },
    "executionInfo": {
     "elapsed": 1310,
     "status": "ok",
     "timestamp": 1728370009194,
     "user": {
      "displayName": "Park Chan Hee",
      "userId": "12253724632409422807"
     },
     "user_tz": -540
    },
    "id": "iNMRddeoe8Xs",
    "outputId": "0e3aa8a2-ec46-4992-de3a-52aeaec0c791"
   },
   "outputs": [
    {
     "data": {
      "image/png": "[encoded data removed]",
      "text/plain": [
       "<Figure size 2000x600 with 3 Axes>"
      ]
     },
     "metadata": {},
     "output_type": "display_data"
    }
   ],
   "source": [
    "plot_clustering_result(df, agg_clusters)"
   ]
  },
  {
   "cell_type": "code",
   "execution_count": 9,
   "metadata": {
    "colab": {
     "base_uri": "https://localhost:8080/"
    },
    "executionInfo": {
     "elapsed": 4,
     "status": "ok",
     "timestamp": 1728370009591,
     "user": {
      "displayName": "Park Chan Hee",
      "userId": "12253724632409422807"
     },
     "user_tz": -540
    },
    "id": "acRDIsZWd501",
    "outputId": "54956014-603c-4ed4-8a9a-c51e6e9c8de5"
   },
   "outputs": [
    {
     "data": {
      "text/plain": [
       "array([1, 1, 1, 1, 1, 1, 1, 1, 1, 1, 1, 1, 1, 1, 1, 1, 1, 1, 1, 1, 1, 1,\n",
       "       1, 1, 1, 1, 1, 1, 1, 1, 1, 1, 1, 1, 1, 1, 1, 1, 1, 1, 1, 1, 1, 1,\n",
       "       1, 1, 1, 1, 1, 1, 0, 0, 0, 0, 0, 0, 0, 0, 0, 0, 0, 0, 0, 0, 0, 0,\n",
       "       0, 0, 0, 0, 0, 0, 0, 0, 0, 0, 0, 2, 0, 0, 0, 0, 0, 0, 0, 0, 0, 0,\n",
       "       0, 0, 0, 0, 0, 0, 0, 0, 0, 0, 0, 0, 2, 0, 2, 2, 2, 2, 0, 2, 2, 2,\n",
       "       2, 2, 2, 0, 0, 2, 2, 2, 2, 0, 2, 0, 2, 0, 2, 2, 0, 0, 2, 2, 2, 2,\n",
       "       2, 0, 0, 2, 2, 2, 0, 2, 2, 2, 0, 2, 2, 2, 0, 2, 2, 0], dtype=int64)"
      ]
     },
     "execution_count": 9,
     "metadata": {},
     "output_type": "execute_result"
    }
   ],
   "source": [
    "from sklearn.cluster import AgglomerativeClustering\n",
    "# sckikit learn으로 할때는 cluster 수를 넣어줘야함\n",
    "model = AgglomerativeClustering(n_clusters=3,metric='euclidean', linkage='ward')\n",
    "\n",
    "df_clu_pred = model.fit_predict(df)\n",
    "df_clu_pred"
   ]
  },
  {
   "cell_type": "code",
   "execution_count": 10,
   "metadata": {
    "colab": {
     "base_uri": "https://localhost:8080/",
     "height": 476
    },
    "executionInfo": {
     "elapsed": 2450,
     "status": "ok",
     "timestamp": 1728370015359,
     "user": {
      "displayName": "Park Chan Hee",
      "userId": "12253724632409422807"
     },
     "user_tz": -540
    },
    "id": "b4QR3i1veybV",
    "outputId": "a1fa96bd-94ba-4caf-b2e9-24cd7f48cf89"
   },
   "outputs": [
    {
     "data": {
      "image/png": "[encoded data removed]",
      "text/plain": [
       "<Figure size 2000x600 with 3 Axes>"
      ]
     },
     "metadata": {},
     "output_type": "display_data"
    }
   ],
   "source": [
    "plot_clustering_result(df, df_clu_pred)"
   ]
  },
  {
   "cell_type": "markdown",
   "metadata": {
    "id": "pWWIZbyrbKRP"
   },
   "source": [
    "## K-means clustering"
   ]
  },
  {
   "cell_type": "code",
   "execution_count": 11,
   "metadata": {
    "executionInfo": {
     "elapsed": 397,
     "status": "ok",
     "timestamp": 1728370136789,
     "user": {
      "displayName": "Park Chan Hee",
      "userId": "12253724632409422807"
     },
     "user_tz": -540
    },
    "id": "NK4_yheWbeky"
   },
   "outputs": [],
   "source": [
    "from os import kill\n",
    "from sklearn.cluster import KMeans\n",
    "\n",
    "# find appropriate k - elbow method\n",
    "k_set = range(1,10)\n",
    "k_WSS =[] # 군집 내 거리제곱합 iniertia 로 대변됨 (작을수록 좋음)\n",
    "\n",
    "for k in k_set:\n",
    "  model = KMeans(n_clusters=k, n_init=10, random_state=7)\n",
    "  # n_init: initial center point trial number (시도 횟수 중 가장좋은값 선택)\n",
    "  # random_state: seed 고정\n",
    "  model.fit(df)\n",
    "  k_WSS.append(model.inertia_)"
   ]
  },
  {
   "cell_type": "code",
   "execution_count": 12,
   "metadata": {
    "colab": {
     "base_uri": "https://localhost:8080/",
     "height": 449
    },
    "executionInfo": {
     "elapsed": 6,
     "status": "ok",
     "timestamp": 1728370144116,
     "user": {
      "displayName": "Park Chan Hee",
      "userId": "12253724632409422807"
     },
     "user_tz": -540
    },
    "id": "LEpcNW_TcYg9",
    "outputId": "737ccf51-3327-48e3-f9e1-971274eab6eb"
   },
   "outputs": [
    {
     "data": {
      "image/png": "[encoded data removed]",
      "text/plain": [
       "<Figure size 640x480 with 1 Axes>"
      ]
     },
     "metadata": {},
     "output_type": "display_data"
    }
   ],
   "source": [
    "import matplotlib.pyplot as plt\n",
    "plt.figure()\n",
    "plt.plot(k_set, k_WSS, '-o')\n",
    "plt.xlabel('number of clusters, k')\n",
    "plt.ylabel('WSS')\n",
    "plt.xticks(k_set)\n",
    "plt.show()"
   ]
  },
  {
   "cell_type": "code",
   "execution_count": 13,
   "metadata": {
    "executionInfo": {
     "elapsed": 387,
     "status": "ok",
     "timestamp": 1728370158093,
     "user": {
      "displayName": "Park Chan Hee",
      "userId": "12253724632409422807"
     },
     "user_tz": -540
    },
    "id": "v-kwVA5Ocrnj"
   },
   "outputs": [],
   "source": [
    "# set k and\n",
    "opti_k = 3\n",
    "clu_model = KMeans(n_clusters=opti_k,n_init=10, random_state=7)\n",
    "clu_model.fit(df)\n",
    "\n",
    "# 학습한 kmeans 군집화 모델의 군집중심, 군집화 예측결과\n",
    "centers = clu_model.cluster_centers_\n",
    "pred = clu_model.predict(df)"
   ]
  },
  {
   "cell_type": "code",
   "execution_count": 14,
   "metadata": {
    "executionInfo": {
     "elapsed": 392,
     "status": "ok",
     "timestamp": 1728370161743,
     "user": {
      "displayName": "Park Chan Hee",
      "userId": "12253724632409422807"
     },
     "user_tz": -540
    },
    "id": "pWF6NOR1dDGO"
   },
   "outputs": [],
   "source": [
    "# 군집화 결과 시각화 with center\n",
    "import seaborn as sns\n",
    "def plot_clustering_result_w_center(df, clu_model_labels, centers):\n",
    "  plt.figure(figsize=(20, 6))\n",
    "  plt.subplot(1,3,1)\n",
    "  sns.scatterplot(x=df.iloc[:,0], y=df.iloc[:,1], data = df, hue = clu_model_labels)\n",
    "  plt.scatter(centers[:,0], centers[:,1], c='black', alpha=0.8, s=150)\n",
    "\n",
    "  plt.subplot(1,3,2)\n",
    "  sns.scatterplot(x=df.iloc[:,1], y=df.iloc[:,2], data = df, hue = clu_model.labels_)\n",
    "  plt.scatter(centers[:,1], centers[:,2], c='black', alpha=0.8, s=150)\n",
    "\n",
    "  plt.subplot(1,3,3)\n",
    "  sns.scatterplot(x=df.iloc[:,0], y=df.iloc[:,3], data = df, hue = clu_model.labels_)\n",
    "  plt.scatter(centers[:,0], centers[:,3], c='black', alpha=0.8, s=150)\n"
   ]
  },
  {
   "cell_type": "code",
   "execution_count": 15,
   "metadata": {
    "colab": {
     "base_uri": "https://localhost:8080/",
     "height": 476
    },
    "executionInfo": {
     "elapsed": 1994,
     "status": "ok",
     "timestamp": 1728370166984,
     "user": {
      "displayName": "Park Chan Hee",
      "userId": "12253724632409422807"
     },
     "user_tz": -540
    },
    "id": "MSMq7Nv_kvmp",
    "outputId": "bd721306-6c75-4117-d7a4-312dd49ddd1b"
   },
   "outputs": [
    {
     "data": {
      "image/png": "[encoded data removed]",
      "text/plain": [
       "<Figure size 2000x600 with 3 Axes>"
      ]
     },
     "metadata": {},
     "output_type": "display_data"
    }
   ],
   "source": [
    "plot_clustering_result_w_center(df, clu_model.labels_,centers)"
   ]
  },
  {
   "cell_type": "markdown",
   "metadata": {
    "id": "MY46k9KpoixZ"
   },
   "source": [
    "# DBSCAN\n",
    "- eps, default=0.5  \n",
    "The maximum distance between two samples\n",
    "- min_samples, default = 5  \n",
    "The number of samples in a neighborhood for a point to be considered as a core point.\n"
   ]
  },
  {
   "cell_type": "code",
   "execution_count": 16,
   "metadata": {
    "executionInfo": {
     "elapsed": 403,
     "status": "ok",
     "timestamp": 1728370181295,
     "user": {
      "displayName": "Park Chan Hee",
      "userId": "12253724632409422807"
     },
     "user_tz": -540
    },
    "id": "L-DMYG2qpJtV"
   },
   "outputs": [],
   "source": [
    "from sklearn.cluster import DBSCAN"
   ]
  },
  {
   "cell_type": "code",
   "execution_count": 17,
   "metadata": {
    "executionInfo": {
     "elapsed": 2,
     "status": "ok",
     "timestamp": 1728370181746,
     "user": {
      "displayName": "Park Chan Hee",
      "userId": "12253724632409422807"
     },
     "user_tz": -540
    },
    "id": "kERrqMAzohu7"
   },
   "outputs": [],
   "source": [
    "dbscan = DBSCAN(eps=0.5,min_samples=5)\n",
    "y_pred = dbscan.fit_predict(df)"
   ]
  },
  {
   "cell_type": "code",
   "execution_count": 18,
   "metadata": {
    "colab": {
     "base_uri": "https://localhost:8080/",
     "height": 476
    },
    "executionInfo": {
     "elapsed": 1947,
     "status": "ok",
     "timestamp": 1728370189411,
     "user": {
      "displayName": "Park Chan Hee",
      "userId": "12253724632409422807"
     },
     "user_tz": -540
    },
    "id": "fxeXpiKvpCEf",
    "outputId": "6faf5d5b-60b1-4446-d79f-38f6b49f673d"
   },
   "outputs": [
    {
     "data": {
      "image/png": "[encoded data removed]",
      "text/plain": [
       "<Figure size 2000x600 with 3 Axes>"
      ]
     },
     "metadata": {},
     "output_type": "display_data"
    }
   ],
   "source": [
    "plot_clustering_result(df,dbscan.labels_)"
   ]
  },
  {
   "cell_type": "markdown",
   "metadata": {
    "id": "I5BuF4utC2qN"
   },
   "source": [
    "# Evaluate clustering result\n",
    "- silhoutte score - 클수록 좋음\n",
    "- dunn index (패키지 없음)"
   ]
  },
  {
   "cell_type": "code",
   "execution_count": 19,
   "metadata": {
    "executionInfo": {
     "elapsed": 634,
     "status": "ok",
     "timestamp": 1728370216662,
     "user": {
      "displayName": "Park Chan Hee",
      "userId": "12253724632409422807"
     },
     "user_tz": -540
    },
    "id": "u9fa6So3HJ3C"
   },
   "outputs": [],
   "source": [
    "from sklearn.metrics import silhouette_score"
   ]
  },
  {
   "cell_type": "code",
   "execution_count": 20,
   "metadata": {
    "colab": {
     "base_uri": "https://localhost:8080/"
    },
    "executionInfo": {
     "elapsed": 387,
     "status": "ok",
     "timestamp": 1728370222811,
     "user": {
      "displayName": "Park Chan Hee",
      "userId": "12253724632409422807"
     },
     "user_tz": -540
    },
    "id": "p656OeIWp7kY",
    "outputId": "39cf85b3-d606-4f6a-96d4-38581083f754"
   },
   "outputs": [
    {
     "data": {
      "text/plain": [
       "0.503477440693296"
      ]
     },
     "execution_count": 20,
     "metadata": {},
     "output_type": "execute_result"
    }
   ],
   "source": [
    "real_ss = silhouette_score(X=df, labels=iris_label)\n",
    "real_ss"
   ]
  },
  {
   "cell_type": "code",
   "execution_count": 21,
   "metadata": {
    "colab": {
     "base_uri": "https://localhost:8080/"
    },
    "executionInfo": {
     "elapsed": 401,
     "status": "ok",
     "timestamp": 1728370234188,
     "user": {
      "displayName": "Park Chan Hee",
      "userId": "12253724632409422807"
     },
     "user_tz": -540
    },
    "id": "N3hPMxcKqT73",
    "outputId": "4a57b1b4-b520-470e-9743-beb881f3006c"
   },
   "outputs": [
    {
     "name": "stdout",
     "output_type": "stream",
     "text": [
      "0.5528190123564095 0.5543236611296419 0.48603419703456857\n"
     ]
    }
   ],
   "source": [
    "# hierarchical\n",
    "hierarchical_ss = silhouette_score(X=df, labels=agg_clusters)\n",
    "\n",
    "# kmeans\n",
    "kmeans_ss = silhouette_score(X=df, labels=clu_model.labels_)\n",
    "\n",
    "# dbscan\n",
    "dbscan_ss = silhouette_score(X=df, labels=dbscan.labels_)\n",
    "\n",
    "print(kmeans_ss, hierarchical_ss, dbscan_ss) # 클수록 좋음"
   ]
  },
  {
   "cell_type": "markdown",
   "metadata": {
    "id": "J_-b8CLGKDwe"
   },
   "source": [
    "# 2-2. Dimension Reduction"
   ]
  },
  {
   "cell_type": "code",
   "execution_count": 22,
   "metadata": {
    "executionInfo": {
     "elapsed": 364,
     "status": "ok",
     "timestamp": 1728370267765,
     "user": {
      "displayName": "Park Chan Hee",
      "userId": "12253724632409422807"
     },
     "user_tz": -540
    },
    "id": "5NmdWnqsx6PD"
   },
   "outputs": [],
   "source": [
    "# Iris dataset\n",
    "df = df.copy()"
   ]
  },
  {
   "cell_type": "markdown",
   "metadata": {
    "id": "YSQmQi3MspQy"
   },
   "source": [
    "# PCA"
   ]
  },
  {
   "cell_type": "code",
   "execution_count": 23,
   "metadata": {
    "executionInfo": {
     "elapsed": 401,
     "status": "ok",
     "timestamp": 1728370274769,
     "user": {
      "displayName": "Park Chan Hee",
      "userId": "12253724632409422807"
     },
     "user_tz": -540
    },
    "id": "5PaZadCmsqlD"
   },
   "outputs": [],
   "source": [
    "from sklearn.decomposition import PCA"
   ]
  },
  {
   "cell_type": "code",
   "execution_count": 24,
   "metadata": {
    "executionInfo": {
     "elapsed": 412,
     "status": "ok",
     "timestamp": 1728370276405,
     "user": {
      "displayName": "Park Chan Hee",
      "userId": "12253724632409422807"
     },
     "user_tz": -540
    },
    "id": "l2Zn1qorvS5E"
   },
   "outputs": [],
   "source": [
    "# data scaling 필수\n",
    "from sklearn.preprocessing import MinMaxScaler\n",
    "x_scaled = MinMaxScaler().fit_transform(df)\n"
   ]
  },
  {
   "cell_type": "code",
   "execution_count": 25,
   "metadata": {
    "executionInfo": {
     "elapsed": 3,
     "status": "ok",
     "timestamp": 1728370373819,
     "user": {
      "displayName": "Park Chan Hee",
      "userId": "12253724632409422807"
     },
     "user_tz": -540
    },
    "id": "eGZnCOsd5r3H"
   },
   "outputs": [],
   "source": [
    "pca = PCA()\n",
    "pca_feature = pca.fit_transform(x_scaled)"
   ]
  },
  {
   "cell_type": "code",
   "execution_count": 26,
   "metadata": {
    "colab": {
     "base_uri": "https://localhost:8080/"
    },
    "executionInfo": {
     "elapsed": 397,
     "status": "ok",
     "timestamp": 1728370396194,
     "user": {
      "displayName": "Park Chan Hee",
      "userId": "12253724632409422807"
     },
     "user_tz": -540
    },
    "id": "15ui8ygN5vet",
    "outputId": "6a131921-d57f-4e56-a2af-c72aa5cb8af8"
   },
   "outputs": [
    {
     "data": {
      "text/plain": [
       "array([0.84136038, 0.11751808, 0.03473561, 0.00638592])"
      ]
     },
     "execution_count": 26,
     "metadata": {},
     "output_type": "execute_result"
    }
   ],
   "source": [
    "pca_feature.shape\n",
    "pca.explained_variance_ratio_"
   ]
  },
  {
   "cell_type": "code",
   "execution_count": 27,
   "metadata": {
    "executionInfo": {
     "elapsed": 401,
     "status": "ok",
     "timestamp": 1728370312634,
     "user": {
      "displayName": "Park Chan Hee",
      "userId": "12253724632409422807"
     },
     "user_tz": -540
    },
    "id": "0d_h_wDas0Iq"
   },
   "outputs": [],
   "source": [
    "pca = PCA(n_components=2)\n",
    "pca_feature = pca.fit_transform(x_scaled)\n"
   ]
  },
  {
   "cell_type": "code",
   "execution_count": 28,
   "metadata": {
    "colab": {
     "base_uri": "https://localhost:8080/",
     "height": 489
    },
    "executionInfo": {
     "elapsed": 654,
     "status": "ok",
     "timestamp": 1728370315223,
     "user": {
      "displayName": "Park Chan Hee",
      "userId": "12253724632409422807"
     },
     "user_tz": -540
    },
    "id": "UfwZDXe7tFEb",
    "outputId": "863a682a-29ff-48aa-852f-2d7f08e117ee"
   },
   "outputs": [
    {
     "data": {
      "text/plain": [
       "Text(0, 0.5, 'pca-2nd component')"
      ]
     },
     "execution_count": 28,
     "metadata": {},
     "output_type": "execute_result"
    },
    {
     "data": {
      "image/png": "[encoded data removed]",
      "text/plain": [
       "<Figure size 640x480 with 1 Axes>"
      ]
     },
     "metadata": {},
     "output_type": "display_data"
    }
   ],
   "source": [
    "plt.scatter(pca_feature[:,0], pca_feature[:,1],    c=iris_label,    s=70)\n",
    "plt.title('pca result')\n",
    "plt.xlabel('pca-1st component')\n",
    "plt.ylabel('pca-2nd component')"
   ]
  },
  {
   "cell_type": "code",
   "execution_count": 29,
   "metadata": {
    "colab": {
     "base_uri": "https://localhost:8080/"
    },
    "executionInfo": {
     "elapsed": 422,
     "status": "ok",
     "timestamp": 1728370334118,
     "user": {
      "displayName": "Park Chan Hee",
      "userId": "12253724632409422807"
     },
     "user_tz": -540
    },
    "id": "AvBXtBawtlbp",
    "outputId": "23295f66-14c2-4163-c9a1-0f6c5bf39a1e"
   },
   "outputs": [
    {
     "data": {
      "text/plain": [
       "array([0.84136038, 0.11751808])"
      ]
     },
     "execution_count": 29,
     "metadata": {},
     "output_type": "execute_result"
    }
   ],
   "source": [
    "# explained variance\n",
    "explained_var_ratio = pca.explained_variance_ratio_\n",
    "explained_var_ratio"
   ]
  },
  {
   "cell_type": "markdown",
   "metadata": {
    "id": "9-gVUedissEg"
   },
   "source": [
    "# t-SNE\n"
   ]
  },
  {
   "cell_type": "code",
   "execution_count": 30,
   "metadata": {
    "executionInfo": {
     "elapsed": 428,
     "status": "ok",
     "timestamp": 1728370431629,
     "user": {
      "displayName": "Park Chan Hee",
      "userId": "12253724632409422807"
     },
     "user_tz": -540
    },
    "id": "tb1m9Ka-stlF"
   },
   "outputs": [],
   "source": [
    "from sklearn.manifold import TSNE\n"
   ]
  },
  {
   "cell_type": "code",
   "execution_count": 31,
   "metadata": {
    "colab": {
     "base_uri": "https://localhost:8080/"
    },
    "executionInfo": {
     "elapsed": 991,
     "status": "ok",
     "timestamp": 1728370488565,
     "user": {
      "displayName": "Park Chan Hee",
      "userId": "12253724632409422807"
     },
     "user_tz": -540
    },
    "id": "w38OHfDhsoPC",
    "outputId": "e3a7d9cd-f5ed-4598-c791-9995da7027cb"
   },
   "outputs": [],
   "source": [
    "tsne = TSNE(n_components=2, n_iter=1000, random_state=10)\n",
    "tsne_feature = tsne.fit_transform(x_scaled)"
   ]
  },
  {
   "cell_type": "code",
   "execution_count": 32,
   "metadata": {
    "colab": {
     "base_uri": "https://localhost:8080/",
     "height": 489
    },
    "executionInfo": {
     "elapsed": 604,
     "status": "ok",
     "timestamp": 1728370491625,
     "user": {
      "displayName": "Park Chan Hee",
      "userId": "12253724632409422807"
     },
     "user_tz": -540
    },
    "id": "_0w77Vo2tvZL",
    "outputId": "9514feb4-fcd0-4710-cd3d-947a2cf29748"
   },
   "outputs": [
    {
     "data": {
      "text/plain": [
       "Text(0, 0.5, '2nd component')"
      ]
     },
     "execution_count": 32,
     "metadata": {},
     "output_type": "execute_result"
    },
    {
     "data": {
      "image/png": "[encoded data removed]",
      "text/plain": [
       "<Figure size 640x480 with 1 Axes>"
      ]
     },
     "metadata": {},
     "output_type": "display_data"
    }
   ],
   "source": [
    "plt.scatter(tsne_feature[:,0], tsne_feature[:,1],    c=iris_label,    s=70)\n",
    "plt.title('tSNE result')\n",
    "plt.xlabel('1st component')\n",
    "plt.ylabel('2nd component')"
   ]
  },
  {
   "cell_type": "markdown",
   "metadata": {
    "id": "kRRSCLluInK4"
   },
   "source": [
    "# 3. Evaluation\n",
    "- (revisit) ML models in machine learning (1)\n",
    "- classification\n",
    "  - confusion matrix\n",
    "  - roc-curve\n",
    "- regression"
   ]
  },
  {
   "cell_type": "code",
   "execution_count": 33,
   "metadata": {
    "executionInfo": {
     "elapsed": 499,
     "status": "ok",
     "timestamp": 1728370613082,
     "user": {
      "displayName": "Park Chan Hee",
      "userId": "12253724632409422807"
     },
     "user_tz": -540
    },
    "id": "5xri3t5bOqDL"
   },
   "outputs": [],
   "source": [
    "# revisit ML models in machine learning (1)\n",
    "from sklearn.model_selection import train_test_split # datasplit\n",
    "test_size = 0.2\n",
    "X_train, X_test, y_train, y_test = train_test_split(iris_data, iris_label, test_size=test_size, stratify= iris_label)"
   ]
  },
  {
   "cell_type": "code",
   "execution_count": 34,
   "metadata": {
    "colab": {
     "base_uri": "https://localhost:8080/",
     "height": 209
    },
    "executionInfo": {
     "elapsed": 457,
     "status": "ok",
     "timestamp": 1728370598746,
     "user": {
      "displayName": "Park Chan Hee",
      "userId": "12253724632409422807"
     },
     "user_tz": -540
    },
    "id": "m4Hy9uTG6aKB",
    "outputId": "8e160ed3-79ce-4c8c-bbba-99771fc8df04"
   },
   "outputs": [
    {
     "data": {
      "text/plain": [
       "0    40\n",
       "1    40\n",
       "2    40\n",
       "Name: count, dtype: int64"
      ]
     },
     "execution_count": 34,
     "metadata": {},
     "output_type": "execute_result"
    }
   ],
   "source": [
    "pd.DataFrame(y_train).value_counts()"
   ]
  },
  {
   "cell_type": "code",
   "execution_count": 35,
   "metadata": {
    "executionInfo": {
     "elapsed": 415,
     "status": "ok",
     "timestamp": 1728370620045,
     "user": {
      "displayName": "Park Chan Hee",
      "userId": "12253724632409422807"
     },
     "user_tz": -540
    },
    "id": "VjL4S54yPdkl"
   },
   "outputs": [],
   "source": [
    "from sklearn.linear_model import LogisticRegression\n",
    "from sklearn.metrics import accuracy_score # performance measure\n",
    "lr_clf = LogisticRegression(random_state=0) # model 선언\n",
    "lr_clf.fit(X_train, y_train) # training\n",
    "y_pred = lr_clf.predict(X_test) # 모델 예측\n",
    "test_acc = accuracy_score(y_test, y_pred) # evaluate test_data"
   ]
  },
  {
   "cell_type": "markdown",
   "metadata": {
    "id": "3JMUbrJryM28"
   },
   "source": [
    "## confusion matrix"
   ]
  },
  {
   "cell_type": "code",
   "execution_count": 36,
   "metadata": {
    "executionInfo": {
     "elapsed": 422,
     "status": "ok",
     "timestamp": 1728370626906,
     "user": {
      "displayName": "Park Chan Hee",
      "userId": "12253724632409422807"
     },
     "user_tz": -540
    },
    "id": "e8ZesYV4x_yz"
   },
   "outputs": [],
   "source": [
    "# confusion matrix\n",
    "from sklearn.metrics import confusion_matrix\n",
    "cm = confusion_matrix(y_test, y_pred)"
   ]
  },
  {
   "cell_type": "code",
   "execution_count": 37,
   "metadata": {
    "colab": {
     "base_uri": "https://localhost:8080/"
    },
    "executionInfo": {
     "elapsed": 413,
     "status": "ok",
     "timestamp": 1728370636274,
     "user": {
      "displayName": "Park Chan Hee",
      "userId": "12253724632409422807"
     },
     "user_tz": -540
    },
    "id": "ZfUnhoQD6u1n",
    "outputId": "8e91290d-014b-4c77-9091-acd4ba144076"
   },
   "outputs": [
    {
     "data": {
      "text/plain": [
       "array([[10,  0,  0],\n",
       "       [ 0,  9,  1],\n",
       "       [ 0,  1,  9]], dtype=int64)"
      ]
     },
     "execution_count": 37,
     "metadata": {},
     "output_type": "execute_result"
    }
   ],
   "source": [
    "cm"
   ]
  },
  {
   "cell_type": "code",
   "execution_count": 38,
   "metadata": {
    "colab": {
     "base_uri": "https://localhost:8080/",
     "height": 455
    },
    "executionInfo": {
     "elapsed": 888,
     "status": "ok",
     "timestamp": 1728370641684,
     "user": {
      "displayName": "Park Chan Hee",
      "userId": "12253724632409422807"
     },
     "user_tz": -540
    },
    "id": "zC59LylryGUq",
    "outputId": "53a50878-befa-4b0b-aa6b-db10bd0348c9"
   },
   "outputs": [
    {
     "data": {
      "image/png": "[encoded data removed]",
      "text/plain": [
       "<Figure size 640x480 with 2 Axes>"
      ]
     },
     "metadata": {},
     "output_type": "display_data"
    }
   ],
   "source": [
    "# visualization\n",
    "import seaborn as sns\n",
    "import matplotlib.pyplot as plt\n",
    "sns.heatmap(cm, annot=True, cmap='Blues')\n",
    "plt.xlabel('Predicted')\n",
    "plt.ylabel('True')\n",
    "plt.show()"
   ]
  },
  {
   "cell_type": "code",
   "execution_count": 39,
   "metadata": {
    "colab": {
     "base_uri": "https://localhost:8080/"
    },
    "executionInfo": {
     "elapsed": 455,
     "status": "ok",
     "timestamp": 1728370652100,
     "user": {
      "displayName": "Park Chan Hee",
      "userId": "12253724632409422807"
     },
     "user_tz": -540
    },
    "id": "DojG0nQyydTr",
    "outputId": "07e2b645-f4a1-4075-d059-4180163089fe"
   },
   "outputs": [
    {
     "name": "stdout",
     "output_type": "stream",
     "text": [
      "precision :  0.9333\n",
      "recall :  0.9333\n",
      "f1-score :  0.9333\n"
     ]
    }
   ],
   "source": [
    "from sklearn.metrics import precision_score, recall_score, f1_score\n",
    "# for multiclass - average: macro\n",
    "# 각각 class에 따라 confusion matrix 그려서 score를 계산한 후, 값들의 평균을 사용\n",
    "\n",
    "p=precision_score(y_test, y_pred, average = \"macro\")\n",
    "print('precision : {0: .4f}'.format(p))\n",
    "r = recall_score(y_test, y_pred, average = \"macro\")\n",
    "print('recall : {0: .4f}'.format(r))\n",
    "f1 = f1_score(y_test, y_pred, average = \"macro\")\n",
    "print('f1-score : {0: .4f}'.format(f1))"
   ]
  },
  {
   "cell_type": "markdown",
   "metadata": {
    "id": "fOcDtoB0yQzx"
   },
   "source": [
    "## ROC curve"
   ]
  },
  {
   "cell_type": "code",
   "execution_count": 40,
   "metadata": {
    "colab": {
     "base_uri": "https://localhost:8080/"
    },
    "executionInfo": {
     "elapsed": 617,
     "status": "ok",
     "timestamp": 1728370661633,
     "user": {
      "displayName": "Park Chan Hee",
      "userId": "12253724632409422807"
     },
     "user_tz": -540
    },
    "id": "BXdCOw_bwMuG",
    "outputId": "1a8cba3c-689a-47c4-b543-5b95823b41b9"
   },
   "outputs": [
    {
     "data": {
      "text/plain": [
       "array([[1.20446356e-04, 5.06885889e-02, 9.49190965e-01],\n",
       "       [6.41046606e-06, 1.42512717e-02, 9.85742318e-01],\n",
       "       [1.17861312e-02, 9.74584526e-01, 1.36293425e-02],\n",
       "       [9.19250881e-05, 1.43521649e-01, 8.56386426e-01],\n",
       "       [9.81647705e-01, 1.83522705e-02, 2.40319245e-08],\n",
       "       [9.73324562e-01, 2.66754053e-02, 3.25907085e-08],\n",
       "       [9.53607660e-01, 4.63916671e-02, 6.72610871e-07],\n",
       "       [2.03214741e-02, 9.50110849e-01, 2.95676764e-02],\n",
       "       [8.58235422e-03, 9.37698802e-01, 5.37188435e-02],\n",
       "       [9.80327402e-01, 1.96725262e-02, 7.20040787e-08],\n",
       "       [2.96359468e-03, 4.27308255e-01, 5.69728150e-01],\n",
       "       [2.07072692e-05, 4.45108472e-02, 9.55468446e-01],\n",
       "       [9.75821074e-01, 2.41788389e-02, 8.66142525e-08],\n",
       "       [9.45602852e-01, 5.43969189e-02, 2.29017736e-07],\n",
       "       [7.35054443e-02, 9.19985923e-01, 6.50863241e-03],\n",
       "       [9.72579986e-01, 2.74199605e-02, 5.38042204e-08],\n",
       "       [3.75876752e-06, 1.58548084e-02, 9.84141433e-01],\n",
       "       [1.01315129e-08, 1.93444176e-03, 9.98065548e-01],\n",
       "       [2.04619382e-02, 9.59595615e-01, 1.99424470e-02],\n",
       "       [2.89530972e-05, 1.75776789e-01, 8.24194258e-01],\n",
       "       [1.48857317e-01, 8.47673500e-01, 3.46918358e-03],\n",
       "       [9.84812778e-01, 1.51871931e-02, 2.88057521e-08],\n",
       "       [9.74845228e-01, 2.51547153e-02, 5.65378908e-08],\n",
       "       [9.60475800e-04, 2.05375105e-01, 7.93664419e-01],\n",
       "       [1.87088340e-02, 9.12881215e-01, 6.84099509e-02],\n",
       "       [4.64829098e-02, 9.45349207e-01, 8.16788328e-03],\n",
       "       [5.89353854e-03, 8.20753278e-01, 1.73353183e-01],\n",
       "       [2.19872185e-03, 4.43205550e-01, 5.54595728e-01],\n",
       "       [6.77973929e-04, 5.23904938e-01, 4.75417088e-01],\n",
       "       [9.68004933e-01, 3.19949152e-02, 1.51448397e-07]])"
      ]
     },
     "execution_count": 40,
     "metadata": {},
     "output_type": "execute_result"
    }
   ],
   "source": [
    "y_pred_proba = lr_clf.predict_proba(X_test)\n",
    "y_pred_proba"
   ]
  },
  {
   "cell_type": "code",
   "execution_count": 41,
   "metadata": {
    "executionInfo": {
     "elapsed": 403,
     "status": "ok",
     "timestamp": 1728370722453,
     "user": {
      "displayName": "Park Chan Hee",
      "userId": "12253724632409422807"
     },
     "user_tz": -540
    },
    "id": "YeZ8ggfAQiDW"
   },
   "outputs": [],
   "source": [
    "from sklearn.metrics import roc_curve, roc_auc_score, auc, RocCurveDisplay\n",
    "# One-vs-Rest multiclass ROC\n",
    "from sklearn.preprocessing import label_binarize"
   ]
  },
  {
   "cell_type": "code",
   "execution_count": 42,
   "metadata": {
    "executionInfo": {
     "elapsed": 372,
     "status": "ok",
     "timestamp": 1728370751323,
     "user": {
      "displayName": "Park Chan Hee",
      "userId": "12253724632409422807"
     },
     "user_tz": -540
    },
    "id": "SPMH3pdz24I1"
   },
   "outputs": [],
   "source": [
    "binarize_y_test = label_binarize(y_test, classes=[0,1,2])"
   ]
  },
  {
   "cell_type": "code",
   "execution_count": 43,
   "metadata": {
    "colab": {
     "base_uri": "https://localhost:8080/"
    },
    "executionInfo": {
     "elapsed": 394,
     "status": "ok",
     "timestamp": 1728370770159,
     "user": {
      "displayName": "Park Chan Hee",
      "userId": "12253724632409422807"
     },
     "user_tz": -540
    },
    "id": "MSyrlMaHwbdU",
    "outputId": "2014974b-e497-490b-ed25-b61b2e93f9bc"
   },
   "outputs": [
    {
     "name": "stdout",
     "output_type": "stream",
     "text": [
      "auc score for class 0 :  1.0000\n",
      "auc score for class 1 :  0.9900\n",
      "auc score for class 2 :  0.9900\n"
     ]
    }
   ],
   "source": [
    "# roc-auc curve\n",
    "n_classes = 3\n",
    "fpr = dict()\n",
    "tpr = dict()\n",
    "roc_auc = dict()\n",
    "for i in range(n_classes):\n",
    "    fpr[i], tpr[i], _ = roc_curve(binarize_y_test[:, i], y_pred_proba[:, i])\n",
    "    area = roc_auc_score(binarize_y_test[:, i], y_pred_proba[:, i])\n",
    "    print('auc score for class {0} : {1: .4f}'.format(i, area))\n",
    "    roc_auc[i] = auc(fpr[i], tpr[i])\n"
   ]
  },
  {
   "cell_type": "code",
   "execution_count": 44,
   "metadata": {
    "colab": {
     "base_uri": "https://localhost:8080/",
     "height": 487
    },
    "executionInfo": {
     "elapsed": 1128,
     "status": "ok",
     "timestamp": 1728370790053,
     "user": {
      "displayName": "Park Chan Hee",
      "userId": "12253724632409422807"
     },
     "user_tz": -540
    },
    "id": "6OzJiINB2f22",
    "outputId": "406fbaa0-162e-4e07-e914-0f43dbeea88d"
   },
   "outputs": [
    {
     "data": {
      "image/png": "[encoded data removed]",
      "text/plain": [
       "<Figure size 1500x500 with 3 Axes>"
      ]
     },
     "metadata": {},
     "output_type": "display_data"
    }
   ],
   "source": [
    "# Plot of a ROC curve for a specific class\n",
    "plt.figure(figsize=(15, 5))\n",
    "for idx, i in enumerate(range(n_classes)):\n",
    "    plt.subplot(131+idx)\n",
    "    plt.plot(fpr[i], tpr[i], label='ROC curve (area = %0.2f)' % roc_auc[i])\n",
    "    plt.plot([0, 1], [0, 1], 'k--')\n",
    "    plt.xlim([0.0, 1.0])\n",
    "    plt.ylim([0.0, 1.05])\n",
    "    plt.xlabel('False Positive Rate')\n",
    "    plt.ylabel('True Positive Rate')\n",
    "    plt.title('Class %0.0f' % idx)\n",
    "    plt.legend(loc=\"lower right\")\n",
    "plt.show()"
   ]
  },
  {
   "cell_type": "markdown",
   "metadata": {
    "id": "nh0h-tePUbuA"
   },
   "source": [
    "# Pycaret library - unsupervised\n",
    "- Pycaret이란, Python 기반의 오픈 소스 머신러닝라이브러리\n",
    "- 머신 러닝 모델을 쉽게 구축하고 비교하며, 모델을 최적화하고 평가하는데 도움을 줌.\n",
    "- 이를 활용해서, 데이터 과학자는 최소한의 코드 작성으로 다양한 머신러닝 모델을 탐색하고 최적화 가능.\n",
    "- Pycaret을 활용해서 머신러닝을 통해 구현되는 a) 분류, b) 회귀, c) 클러스터링, d) 이상치 탐지 등 다양한 문제에 대한 모델을 쉽게 빠르게 구축할 수 있음   \n",
    "출처: https://medium.com/@HeCanThink/clustering-with-pycaret-a-hands-on-example-92999de0f69a\n",
    "https://pycaret.gitbook.io/docs"
   ]
  },
  {
   "cell_type": "markdown",
   "metadata": {
    "colab": {
     "base_uri": "https://localhost:8080/"
    },
    "executionInfo": {
     "elapsed": 3327,
     "status": "ok",
     "timestamp": 1727959849209,
     "user": {
      "displayName": "Park Chan Hee",
      "userId": "12253724632409422807"
     },
     "user_tz": -540
    },
    "id": "jlUnkd0Z_8z8",
    "outputId": "85da2c5a-37ba-4a52-dee0-9a84a254cf8e"
   },
   "source": [
    "!pip install pycaret"
   ]
  },
  {
   "cell_type": "code",
   "execution_count": 45,
   "metadata": {
    "colab": {
     "base_uri": "https://localhost:8080/",
     "height": 206
    },
    "executionInfo": {
     "elapsed": 1821,
     "status": "ok",
     "timestamp": 1727959851028,
     "user": {
      "displayName": "Park Chan Hee",
      "userId": "12253724632409422807"
     },
     "user_tz": -540
    },
    "id": "fIT94IM9AL7p",
    "outputId": "83cde643-fe34-46f4-8de3-c74b9e7b62e1"
   },
   "outputs": [
    {
     "data": {
      "text/html": [
       "<div>\n",
       "<style scoped>\n",
       "    .dataframe tbody tr th:only-of-type {\n",
       "        vertical-align: middle;\n",
       "    }\n",
       "\n",
       "    .dataframe tbody tr th {\n",
       "        vertical-align: top;\n",
       "    }\n",
       "\n",
       "    .dataframe thead th {\n",
       "        text-align: right;\n",
       "    }\n",
       "</style>\n",
       "<table border=\"1\" class=\"dataframe\">\n",
       "  <thead>\n",
       "    <tr style=\"text-align: right;\">\n",
       "      <th></th>\n",
       "      <th>#</th>\n",
       "      <th>Name</th>\n",
       "      <th>Type 1</th>\n",
       "      <th>Type 2</th>\n",
       "      <th>Total</th>\n",
       "      <th>HP</th>\n",
       "      <th>Attack</th>\n",
       "      <th>Defense</th>\n",
       "      <th>Sp. Atk</th>\n",
       "      <th>Sp. Def</th>\n",
       "      <th>Speed</th>\n",
       "      <th>Generation</th>\n",
       "      <th>Legendary</th>\n",
       "    </tr>\n",
       "  </thead>\n",
       "  <tbody>\n",
       "    <tr>\n",
       "      <th>0</th>\n",
       "      <td>1</td>\n",
       "      <td>Bulbasaur</td>\n",
       "      <td>Grass</td>\n",
       "      <td>Poison</td>\n",
       "      <td>318</td>\n",
       "      <td>45</td>\n",
       "      <td>49</td>\n",
       "      <td>49</td>\n",
       "      <td>65</td>\n",
       "      <td>65</td>\n",
       "      <td>45</td>\n",
       "      <td>1</td>\n",
       "      <td>False</td>\n",
       "    </tr>\n",
       "    <tr>\n",
       "      <th>1</th>\n",
       "      <td>2</td>\n",
       "      <td>Ivysaur</td>\n",
       "      <td>Grass</td>\n",
       "      <td>Poison</td>\n",
       "      <td>405</td>\n",
       "      <td>60</td>\n",
       "      <td>62</td>\n",
       "      <td>63</td>\n",
       "      <td>80</td>\n",
       "      <td>80</td>\n",
       "      <td>60</td>\n",
       "      <td>1</td>\n",
       "      <td>False</td>\n",
       "    </tr>\n",
       "    <tr>\n",
       "      <th>2</th>\n",
       "      <td>3</td>\n",
       "      <td>Venusaur</td>\n",
       "      <td>Grass</td>\n",
       "      <td>Poison</td>\n",
       "      <td>525</td>\n",
       "      <td>80</td>\n",
       "      <td>82</td>\n",
       "      <td>83</td>\n",
       "      <td>100</td>\n",
       "      <td>100</td>\n",
       "      <td>80</td>\n",
       "      <td>1</td>\n",
       "      <td>False</td>\n",
       "    </tr>\n",
       "    <tr>\n",
       "      <th>3</th>\n",
       "      <td>3</td>\n",
       "      <td>VenusaurMega Venusaur</td>\n",
       "      <td>Grass</td>\n",
       "      <td>Poison</td>\n",
       "      <td>625</td>\n",
       "      <td>80</td>\n",
       "      <td>100</td>\n",
       "      <td>123</td>\n",
       "      <td>122</td>\n",
       "      <td>120</td>\n",
       "      <td>80</td>\n",
       "      <td>1</td>\n",
       "      <td>False</td>\n",
       "    </tr>\n",
       "    <tr>\n",
       "      <th>4</th>\n",
       "      <td>4</td>\n",
       "      <td>Charmander</td>\n",
       "      <td>Fire</td>\n",
       "      <td>NaN</td>\n",
       "      <td>309</td>\n",
       "      <td>39</td>\n",
       "      <td>52</td>\n",
       "      <td>43</td>\n",
       "      <td>60</td>\n",
       "      <td>50</td>\n",
       "      <td>65</td>\n",
       "      <td>1</td>\n",
       "      <td>False</td>\n",
       "    </tr>\n",
       "  </tbody>\n",
       "</table>\n",
       "</div>"
      ],
      "text/plain": [
       "   #                   Name Type 1  Type 2  Total  HP  Attack  Defense  \\\n",
       "0  1              Bulbasaur  Grass  Poison    318  45      49       49   \n",
       "1  2                Ivysaur  Grass  Poison    405  60      62       63   \n",
       "2  3               Venusaur  Grass  Poison    525  80      82       83   \n",
       "3  3  VenusaurMega Venusaur  Grass  Poison    625  80     100      123   \n",
       "4  4             Charmander   Fire     NaN    309  39      52       43   \n",
       "\n",
       "   Sp. Atk  Sp. Def  Speed  Generation  Legendary  \n",
       "0       65       65     45           1      False  \n",
       "1       80       80     60           1      False  \n",
       "2      100      100     80           1      False  \n",
       "3      122      120     80           1      False  \n",
       "4       60       50     65           1      False  "
      ]
     },
     "metadata": {},
     "output_type": "display_data"
    }
   ],
   "source": [
    "from pycaret.datasets import get_data\n",
    "data = get_data('pokemon')\n",
    "\n",
    "from sklearn.model_selection import train_test_split\n",
    "test_size=0.2\n",
    "data_train, data_test = train_test_split(data, test_size=test_size)"
   ]
  },
  {
   "cell_type": "code",
   "execution_count": 76,
   "metadata": {
    "colab": {
     "base_uri": "https://localhost:8080/",
     "height": 582
    },
    "executionInfo": {
     "elapsed": 9788,
     "status": "ok",
     "timestamp": 1727959861582,
     "user": {
      "displayName": "Park Chan Hee",
      "userId": "12253724632409422807"
     },
     "user_tz": -540
    },
    "id": "g62wl-XuBMHs",
    "outputId": "c5e503da-1811-4515-de62-d38ccae47b5e"
   },
   "outputs": [
    {
     "data": {
      "text/html": [
       "<style type=\"text/css\">\n",
       "#T_21302_row7_col1 {\n",
       "  background-color: lightgreen;\n",
       "}\n",
       "</style>\n",
       "<table id=\"T_21302\">\n",
       "  <thead>\n",
       "    <tr>\n",
       "      <th class=\"blank level0\" >&nbsp;</th>\n",
       "      <th id=\"T_21302_level0_col0\" class=\"col_heading level0 col0\" >Description</th>\n",
       "      <th id=\"T_21302_level0_col1\" class=\"col_heading level0 col1\" >Value</th>\n",
       "    </tr>\n",
       "  </thead>\n",
       "  <tbody>\n",
       "    <tr>\n",
       "      <th id=\"T_21302_level0_row0\" class=\"row_heading level0 row0\" >0</th>\n",
       "      <td id=\"T_21302_row0_col0\" class=\"data row0 col0\" >Session id</td>\n",
       "      <td id=\"T_21302_row0_col1\" class=\"data row0 col1\" >123</td>\n",
       "    </tr>\n",
       "    <tr>\n",
       "      <th id=\"T_21302_level0_row1\" class=\"row_heading level0 row1\" >1</th>\n",
       "      <td id=\"T_21302_row1_col0\" class=\"data row1 col0\" >Original data shape</td>\n",
       "      <td id=\"T_21302_row1_col1\" class=\"data row1 col1\" >(640, 13)</td>\n",
       "    </tr>\n",
       "    <tr>\n",
       "      <th id=\"T_21302_level0_row2\" class=\"row_heading level0 row2\" >2</th>\n",
       "      <td id=\"T_21302_row2_col0\" class=\"data row2 col0\" >Transformed data shape</td>\n",
       "      <td id=\"T_21302_row2_col1\" class=\"data row2 col1\" >(640, 46)</td>\n",
       "    </tr>\n",
       "    <tr>\n",
       "      <th id=\"T_21302_level0_row3\" class=\"row_heading level0 row3\" >3</th>\n",
       "      <td id=\"T_21302_row3_col0\" class=\"data row3 col0\" >Ignore features</td>\n",
       "      <td id=\"T_21302_row3_col1\" class=\"data row3 col1\" >1</td>\n",
       "    </tr>\n",
       "    <tr>\n",
       "      <th id=\"T_21302_level0_row4\" class=\"row_heading level0 row4\" >4</th>\n",
       "      <td id=\"T_21302_row4_col0\" class=\"data row4 col0\" >Numeric features</td>\n",
       "      <td id=\"T_21302_row4_col1\" class=\"data row4 col1\" >9</td>\n",
       "    </tr>\n",
       "    <tr>\n",
       "      <th id=\"T_21302_level0_row5\" class=\"row_heading level0 row5\" >5</th>\n",
       "      <td id=\"T_21302_row5_col0\" class=\"data row5 col0\" >Categorical features</td>\n",
       "      <td id=\"T_21302_row5_col1\" class=\"data row5 col1\" >2</td>\n",
       "    </tr>\n",
       "    <tr>\n",
       "      <th id=\"T_21302_level0_row6\" class=\"row_heading level0 row6\" >6</th>\n",
       "      <td id=\"T_21302_row6_col0\" class=\"data row6 col0\" >Rows with missing values</td>\n",
       "      <td id=\"T_21302_row6_col1\" class=\"data row6 col1\" >48.8%</td>\n",
       "    </tr>\n",
       "    <tr>\n",
       "      <th id=\"T_21302_level0_row7\" class=\"row_heading level0 row7\" >7</th>\n",
       "      <td id=\"T_21302_row7_col0\" class=\"data row7 col0\" >Preprocess</td>\n",
       "      <td id=\"T_21302_row7_col1\" class=\"data row7 col1\" >True</td>\n",
       "    </tr>\n",
       "    <tr>\n",
       "      <th id=\"T_21302_level0_row8\" class=\"row_heading level0 row8\" >8</th>\n",
       "      <td id=\"T_21302_row8_col0\" class=\"data row8 col0\" >Imputation type</td>\n",
       "      <td id=\"T_21302_row8_col1\" class=\"data row8 col1\" >simple</td>\n",
       "    </tr>\n",
       "    <tr>\n",
       "      <th id=\"T_21302_level0_row9\" class=\"row_heading level0 row9\" >9</th>\n",
       "      <td id=\"T_21302_row9_col0\" class=\"data row9 col0\" >Numeric imputation</td>\n",
       "      <td id=\"T_21302_row9_col1\" class=\"data row9 col1\" >mean</td>\n",
       "    </tr>\n",
       "    <tr>\n",
       "      <th id=\"T_21302_level0_row10\" class=\"row_heading level0 row10\" >10</th>\n",
       "      <td id=\"T_21302_row10_col0\" class=\"data row10 col0\" >Categorical imputation</td>\n",
       "      <td id=\"T_21302_row10_col1\" class=\"data row10 col1\" >mode</td>\n",
       "    </tr>\n",
       "    <tr>\n",
       "      <th id=\"T_21302_level0_row11\" class=\"row_heading level0 row11\" >11</th>\n",
       "      <td id=\"T_21302_row11_col0\" class=\"data row11 col0\" >Maximum one-hot encoding</td>\n",
       "      <td id=\"T_21302_row11_col1\" class=\"data row11 col1\" >-1</td>\n",
       "    </tr>\n",
       "    <tr>\n",
       "      <th id=\"T_21302_level0_row12\" class=\"row_heading level0 row12\" >12</th>\n",
       "      <td id=\"T_21302_row12_col0\" class=\"data row12 col0\" >Encoding method</td>\n",
       "      <td id=\"T_21302_row12_col1\" class=\"data row12 col1\" >None</td>\n",
       "    </tr>\n",
       "    <tr>\n",
       "      <th id=\"T_21302_level0_row13\" class=\"row_heading level0 row13\" >13</th>\n",
       "      <td id=\"T_21302_row13_col0\" class=\"data row13 col0\" >CPU Jobs</td>\n",
       "      <td id=\"T_21302_row13_col1\" class=\"data row13 col1\" >-1</td>\n",
       "    </tr>\n",
       "    <tr>\n",
       "      <th id=\"T_21302_level0_row14\" class=\"row_heading level0 row14\" >14</th>\n",
       "      <td id=\"T_21302_row14_col0\" class=\"data row14 col0\" >Use GPU</td>\n",
       "      <td id=\"T_21302_row14_col1\" class=\"data row14 col1\" >False</td>\n",
       "    </tr>\n",
       "    <tr>\n",
       "      <th id=\"T_21302_level0_row15\" class=\"row_heading level0 row15\" >15</th>\n",
       "      <td id=\"T_21302_row15_col0\" class=\"data row15 col0\" >Log Experiment</td>\n",
       "      <td id=\"T_21302_row15_col1\" class=\"data row15 col1\" >False</td>\n",
       "    </tr>\n",
       "    <tr>\n",
       "      <th id=\"T_21302_level0_row16\" class=\"row_heading level0 row16\" >16</th>\n",
       "      <td id=\"T_21302_row16_col0\" class=\"data row16 col0\" >Experiment Name</td>\n",
       "      <td id=\"T_21302_row16_col1\" class=\"data row16 col1\" >poketmon</td>\n",
       "    </tr>\n",
       "    <tr>\n",
       "      <th id=\"T_21302_level0_row17\" class=\"row_heading level0 row17\" >17</th>\n",
       "      <td id=\"T_21302_row17_col0\" class=\"data row17 col0\" >USI</td>\n",
       "      <td id=\"T_21302_row17_col1\" class=\"data row17 col1\" >223c</td>\n",
       "    </tr>\n",
       "  </tbody>\n",
       "</table>\n"
      ],
      "text/plain": [
       "<pandas.io.formats.style.Styler at 0x2ad698f6f10>"
      ]
     },
     "metadata": {},
     "output_type": "display_data"
    }
   ],
   "source": [
    "from pycaret.clustering import *\n",
    "clu1 = setup(data_train, session_id=123,experiment_name='poketmon', ignore_features=['Name'])\n",
    "# One hot encoding for categorical features -> transformed data shape"
   ]
  },
  {
   "cell_type": "code",
   "execution_count": 68,
   "metadata": {
    "colab": {
     "base_uri": "https://localhost:8080/",
     "height": 331
    },
    "executionInfo": {
     "elapsed": 4,
     "status": "ok",
     "timestamp": 1727959861582,
     "user": {
      "displayName": "Park Chan Hee",
      "userId": "12253724632409422807"
     },
     "user_tz": -540
    },
    "id": "uYgdkPfS8Ecd",
    "outputId": "62f05555-96f0-4d97-b725-7af2886e0242"
   },
   "outputs": [
    {
     "data": {
      "text/html": [
       "<div>\n",
       "<style scoped>\n",
       "    .dataframe tbody tr th:only-of-type {\n",
       "        vertical-align: middle;\n",
       "    }\n",
       "\n",
       "    .dataframe tbody tr th {\n",
       "        vertical-align: top;\n",
       "    }\n",
       "\n",
       "    .dataframe thead th {\n",
       "        text-align: right;\n",
       "    }\n",
       "</style>\n",
       "<table border=\"1\" class=\"dataframe\">\n",
       "  <thead>\n",
       "    <tr style=\"text-align: right;\">\n",
       "      <th></th>\n",
       "      <th>Name</th>\n",
       "      <th>Reference</th>\n",
       "    </tr>\n",
       "    <tr>\n",
       "      <th>ID</th>\n",
       "      <th></th>\n",
       "      <th></th>\n",
       "    </tr>\n",
       "  </thead>\n",
       "  <tbody>\n",
       "    <tr>\n",
       "      <th>kmeans</th>\n",
       "      <td>K-Means Clustering</td>\n",
       "      <td>sklearn.cluster._kmeans.KMeans</td>\n",
       "    </tr>\n",
       "    <tr>\n",
       "      <th>ap</th>\n",
       "      <td>Affinity Propagation</td>\n",
       "      <td>sklearn.cluster._affinity_propagation.Affinity...</td>\n",
       "    </tr>\n",
       "    <tr>\n",
       "      <th>meanshift</th>\n",
       "      <td>Mean Shift Clustering</td>\n",
       "      <td>sklearn.cluster._mean_shift.MeanShift</td>\n",
       "    </tr>\n",
       "    <tr>\n",
       "      <th>sc</th>\n",
       "      <td>Spectral Clustering</td>\n",
       "      <td>sklearn.cluster._spectral.SpectralClustering</td>\n",
       "    </tr>\n",
       "    <tr>\n",
       "      <th>hclust</th>\n",
       "      <td>Agglomerative Clustering</td>\n",
       "      <td>sklearn.cluster._agglomerative.AgglomerativeCl...</td>\n",
       "    </tr>\n",
       "    <tr>\n",
       "      <th>dbscan</th>\n",
       "      <td>Density-Based Spatial Clustering</td>\n",
       "      <td>sklearn.cluster._dbscan.DBSCAN</td>\n",
       "    </tr>\n",
       "    <tr>\n",
       "      <th>optics</th>\n",
       "      <td>OPTICS Clustering</td>\n",
       "      <td>sklearn.cluster._optics.OPTICS</td>\n",
       "    </tr>\n",
       "    <tr>\n",
       "      <th>birch</th>\n",
       "      <td>Birch Clustering</td>\n",
       "      <td>sklearn.cluster._birch.Birch</td>\n",
       "    </tr>\n",
       "  </tbody>\n",
       "</table>\n",
       "</div>"
      ],
      "text/plain": [
       "                                       Name  \\\n",
       "ID                                            \n",
       "kmeans                   K-Means Clustering   \n",
       "ap                     Affinity Propagation   \n",
       "meanshift             Mean Shift Clustering   \n",
       "sc                      Spectral Clustering   \n",
       "hclust             Agglomerative Clustering   \n",
       "dbscan     Density-Based Spatial Clustering   \n",
       "optics                    OPTICS Clustering   \n",
       "birch                      Birch Clustering   \n",
       "\n",
       "                                                   Reference  \n",
       "ID                                                            \n",
       "kmeans                        sklearn.cluster._kmeans.KMeans  \n",
       "ap         sklearn.cluster._affinity_propagation.Affinity...  \n",
       "meanshift              sklearn.cluster._mean_shift.MeanShift  \n",
       "sc              sklearn.cluster._spectral.SpectralClustering  \n",
       "hclust     sklearn.cluster._agglomerative.AgglomerativeCl...  \n",
       "dbscan                        sklearn.cluster._dbscan.DBSCAN  \n",
       "optics                        sklearn.cluster._optics.OPTICS  \n",
       "birch                           sklearn.cluster._birch.Birch  "
      ]
     },
     "execution_count": 68,
     "metadata": {},
     "output_type": "execute_result"
    }
   ],
   "source": [
    "# to check all the available models\n",
    "models()"
   ]
  },
  {
   "cell_type": "code",
   "execution_count": 77,
   "metadata": {
    "colab": {
     "base_uri": "https://localhost:8080/",
     "height": 80,
     "referenced_widgets": [
      "8f5eac1669024650a5c87bbd87db4734",
      "ce260840569d433f897418ac2553a7c2",
      "24d4b8eebd854e04912a67515b6da62d",
      "40ad9fab17f64f6c8b8b12888106ff48",
      "5ab58e160e914158be32cc1925d4aa1c",
      "600177e93d554317a77158108718d0df",
      "f7414a72c9b745b9b0c8985c0c12ab0c",
      "10c3403469404b39badcd1ef23f7b0a6",
      "f44dd3c267ad4a8ba33a446f83acca2f",
      "1ae444473c8e46e497f17251ea2b87d6",
      "df2cc1fdd2d04fa39c98e0ba361164a3"
     ]
    },
    "executionInfo": {
     "elapsed": 1601,
     "status": "ok",
     "timestamp": 1727959863180,
     "user": {
      "displayName": "Park Chan Hee",
      "userId": "12253724632409422807"
     },
     "user_tz": -540
    },
    "id": "Dkwo6K-DBMON",
    "outputId": "2f3b06b2-9e82-42dc-8a9a-5b757371af7c"
   },
   "outputs": [
    {
     "data": {
      "text/html": [],
      "text/plain": [
       "<IPython.core.display.HTML object>"
      ]
     },
     "metadata": {},
     "output_type": "display_data"
    },
    {
     "data": {
      "text/html": [
       "<style type=\"text/css\">\n",
       "</style>\n",
       "<table id=\"T_31067\">\n",
       "  <thead>\n",
       "    <tr>\n",
       "      <th class=\"blank level0\" >&nbsp;</th>\n",
       "      <th id=\"T_31067_level0_col0\" class=\"col_heading level0 col0\" >Silhouette</th>\n",
       "      <th id=\"T_31067_level0_col1\" class=\"col_heading level0 col1\" >Calinski-Harabasz</th>\n",
       "      <th id=\"T_31067_level0_col2\" class=\"col_heading level0 col2\" >Davies-Bouldin</th>\n",
       "      <th id=\"T_31067_level0_col3\" class=\"col_heading level0 col3\" >Homogeneity</th>\n",
       "      <th id=\"T_31067_level0_col4\" class=\"col_heading level0 col4\" >Rand Index</th>\n",
       "      <th id=\"T_31067_level0_col5\" class=\"col_heading level0 col5\" >Completeness</th>\n",
       "    </tr>\n",
       "  </thead>\n",
       "  <tbody>\n",
       "    <tr>\n",
       "      <th id=\"T_31067_level0_row0\" class=\"row_heading level0 row0\" >0</th>\n",
       "      <td id=\"T_31067_row0_col0\" class=\"data row0 col0\" >0.2884</td>\n",
       "      <td id=\"T_31067_row0_col1\" class=\"data row0 col1\" >431.9236</td>\n",
       "      <td id=\"T_31067_row0_col2\" class=\"data row0 col2\" >1.1464</td>\n",
       "      <td id=\"T_31067_row0_col3\" class=\"data row0 col3\" >0</td>\n",
       "      <td id=\"T_31067_row0_col4\" class=\"data row0 col4\" >0</td>\n",
       "      <td id=\"T_31067_row0_col5\" class=\"data row0 col5\" >0</td>\n",
       "    </tr>\n",
       "  </tbody>\n",
       "</table>\n"
      ],
      "text/plain": [
       "<pandas.io.formats.style.Styler at 0x2ad66b761d0>"
      ]
     },
     "metadata": {},
     "output_type": "display_data"
    },
    {
     "data": {
      "text/html": [],
      "text/plain": [
       "<IPython.core.display.HTML object>"
      ]
     },
     "metadata": {},
     "output_type": "display_data"
    }
   ],
   "source": [
    "kmeans = create_model('kmeans', num_clusters = 5)"
   ]
  },
  {
   "cell_type": "code",
   "execution_count": 80,
   "metadata": {
    "colab": {
     "base_uri": "https://localhost:8080/",
     "height": 206
    },
    "executionInfo": {
     "elapsed": 5,
     "status": "ok",
     "timestamp": 1727959863808,
     "user": {
      "displayName": "Park Chan Hee",
      "userId": "12253724632409422807"
     },
     "user_tz": -540
    },
    "id": "CUno4VRZBMRU",
    "outputId": "4c1244b2-8a68-486f-f991-d5e14c8e32a5"
   },
   "outputs": [
    {
     "data": {
      "text/html": [
       "<div>\n",
       "<style scoped>\n",
       "    .dataframe tbody tr th:only-of-type {\n",
       "        vertical-align: middle;\n",
       "    }\n",
       "\n",
       "    .dataframe tbody tr th {\n",
       "        vertical-align: top;\n",
       "    }\n",
       "\n",
       "    .dataframe thead th {\n",
       "        text-align: right;\n",
       "    }\n",
       "</style>\n",
       "<table border=\"1\" class=\"dataframe\">\n",
       "  <thead>\n",
       "    <tr style=\"text-align: right;\">\n",
       "      <th></th>\n",
       "      <th>Name</th>\n",
       "      <th>#</th>\n",
       "      <th>Type 1</th>\n",
       "      <th>Type 2</th>\n",
       "      <th>Total</th>\n",
       "      <th>HP</th>\n",
       "      <th>Attack</th>\n",
       "      <th>Defense</th>\n",
       "      <th>Sp. Atk</th>\n",
       "      <th>Sp. Def</th>\n",
       "      <th>Speed</th>\n",
       "      <th>Generation</th>\n",
       "      <th>Legendary</th>\n",
       "      <th>Cluster</th>\n",
       "    </tr>\n",
       "  </thead>\n",
       "  <tbody>\n",
       "    <tr>\n",
       "      <th>170</th>\n",
       "      <td>Quilava</td>\n",
       "      <td>156</td>\n",
       "      <td>Fire</td>\n",
       "      <td>NaN</td>\n",
       "      <td>405</td>\n",
       "      <td>58</td>\n",
       "      <td>64</td>\n",
       "      <td>58</td>\n",
       "      <td>80</td>\n",
       "      <td>65</td>\n",
       "      <td>80</td>\n",
       "      <td>2</td>\n",
       "      <td>False</td>\n",
       "      <td>Cluster 2</td>\n",
       "    </tr>\n",
       "    <tr>\n",
       "      <th>276</th>\n",
       "      <td>Torchic</td>\n",
       "      <td>255</td>\n",
       "      <td>Fire</td>\n",
       "      <td>NaN</td>\n",
       "      <td>310</td>\n",
       "      <td>45</td>\n",
       "      <td>60</td>\n",
       "      <td>40</td>\n",
       "      <td>70</td>\n",
       "      <td>50</td>\n",
       "      <td>45</td>\n",
       "      <td>3</td>\n",
       "      <td>False</td>\n",
       "      <td>Cluster 1</td>\n",
       "    </tr>\n",
       "    <tr>\n",
       "      <th>211</th>\n",
       "      <td>Espeon</td>\n",
       "      <td>196</td>\n",
       "      <td>Psychic</td>\n",
       "      <td>NaN</td>\n",
       "      <td>525</td>\n",
       "      <td>65</td>\n",
       "      <td>65</td>\n",
       "      <td>60</td>\n",
       "      <td>130</td>\n",
       "      <td>95</td>\n",
       "      <td>110</td>\n",
       "      <td>2</td>\n",
       "      <td>False</td>\n",
       "      <td>Cluster 2</td>\n",
       "    </tr>\n",
       "    <tr>\n",
       "      <th>469</th>\n",
       "      <td>Shellos</td>\n",
       "      <td>422</td>\n",
       "      <td>Water</td>\n",
       "      <td>NaN</td>\n",
       "      <td>325</td>\n",
       "      <td>76</td>\n",
       "      <td>48</td>\n",
       "      <td>48</td>\n",
       "      <td>57</td>\n",
       "      <td>62</td>\n",
       "      <td>34</td>\n",
       "      <td>4</td>\n",
       "      <td>False</td>\n",
       "      <td>Cluster 1</td>\n",
       "    </tr>\n",
       "    <tr>\n",
       "      <th>727</th>\n",
       "      <td>Bunnelby</td>\n",
       "      <td>659</td>\n",
       "      <td>Normal</td>\n",
       "      <td>NaN</td>\n",
       "      <td>237</td>\n",
       "      <td>38</td>\n",
       "      <td>36</td>\n",
       "      <td>38</td>\n",
       "      <td>32</td>\n",
       "      <td>36</td>\n",
       "      <td>57</td>\n",
       "      <td>6</td>\n",
       "      <td>False</td>\n",
       "      <td>Cluster 0</td>\n",
       "    </tr>\n",
       "    <tr>\n",
       "      <th>59</th>\n",
       "      <td>Psyduck</td>\n",
       "      <td>54</td>\n",
       "      <td>Water</td>\n",
       "      <td>NaN</td>\n",
       "      <td>320</td>\n",
       "      <td>50</td>\n",
       "      <td>52</td>\n",
       "      <td>48</td>\n",
       "      <td>65</td>\n",
       "      <td>50</td>\n",
       "      <td>55</td>\n",
       "      <td>1</td>\n",
       "      <td>False</td>\n",
       "      <td>Cluster 2</td>\n",
       "    </tr>\n",
       "    <tr>\n",
       "      <th>99</th>\n",
       "      <td>Gastly</td>\n",
       "      <td>92</td>\n",
       "      <td>Ghost</td>\n",
       "      <td>Poison</td>\n",
       "      <td>310</td>\n",
       "      <td>30</td>\n",
       "      <td>35</td>\n",
       "      <td>30</td>\n",
       "      <td>100</td>\n",
       "      <td>35</td>\n",
       "      <td>80</td>\n",
       "      <td>1</td>\n",
       "      <td>False</td>\n",
       "      <td>Cluster 2</td>\n",
       "    </tr>\n",
       "    <tr>\n",
       "      <th>186</th>\n",
       "      <td>Pichu</td>\n",
       "      <td>172</td>\n",
       "      <td>Electric</td>\n",
       "      <td>NaN</td>\n",
       "      <td>205</td>\n",
       "      <td>20</td>\n",
       "      <td>40</td>\n",
       "      <td>15</td>\n",
       "      <td>35</td>\n",
       "      <td>35</td>\n",
       "      <td>60</td>\n",
       "      <td>2</td>\n",
       "      <td>False</td>\n",
       "      <td>Cluster 1</td>\n",
       "    </tr>\n",
       "    <tr>\n",
       "      <th>337</th>\n",
       "      <td>Electrike</td>\n",
       "      <td>309</td>\n",
       "      <td>Electric</td>\n",
       "      <td>NaN</td>\n",
       "      <td>295</td>\n",
       "      <td>40</td>\n",
       "      <td>45</td>\n",
       "      <td>40</td>\n",
       "      <td>65</td>\n",
       "      <td>40</td>\n",
       "      <td>65</td>\n",
       "      <td>3</td>\n",
       "      <td>False</td>\n",
       "      <td>Cluster 1</td>\n",
       "    </tr>\n",
       "    <tr>\n",
       "      <th>366</th>\n",
       "      <td>AltariaMega Altaria</td>\n",
       "      <td>334</td>\n",
       "      <td>Dragon</td>\n",
       "      <td>Fairy</td>\n",
       "      <td>590</td>\n",
       "      <td>75</td>\n",
       "      <td>110</td>\n",
       "      <td>110</td>\n",
       "      <td>110</td>\n",
       "      <td>105</td>\n",
       "      <td>80</td>\n",
       "      <td>3</td>\n",
       "      <td>False</td>\n",
       "      <td>Cluster 4</td>\n",
       "    </tr>\n",
       "  </tbody>\n",
       "</table>\n",
       "</div>"
      ],
      "text/plain": [
       "                    Name    #    Type 1  Type 2  Total  HP  Attack  Defense  \\\n",
       "170              Quilava  156      Fire     NaN    405  58      64       58   \n",
       "276              Torchic  255      Fire     NaN    310  45      60       40   \n",
       "211               Espeon  196   Psychic     NaN    525  65      65       60   \n",
       "469              Shellos  422     Water     NaN    325  76      48       48   \n",
       "727             Bunnelby  659    Normal     NaN    237  38      36       38   \n",
       "59               Psyduck   54     Water     NaN    320  50      52       48   \n",
       "99                Gastly   92     Ghost  Poison    310  30      35       30   \n",
       "186                Pichu  172  Electric     NaN    205  20      40       15   \n",
       "337            Electrike  309  Electric     NaN    295  40      45       40   \n",
       "366  AltariaMega Altaria  334    Dragon   Fairy    590  75     110      110   \n",
       "\n",
       "     Sp. Atk  Sp. Def  Speed  Generation  Legendary    Cluster  \n",
       "170       80       65     80           2      False  Cluster 2  \n",
       "276       70       50     45           3      False  Cluster 1  \n",
       "211      130       95    110           2      False  Cluster 2  \n",
       "469       57       62     34           4      False  Cluster 1  \n",
       "727       32       36     57           6      False  Cluster 0  \n",
       "59        65       50     55           1      False  Cluster 2  \n",
       "99       100       35     80           1      False  Cluster 2  \n",
       "186       35       35     60           2      False  Cluster 1  \n",
       "337       65       40     65           3      False  Cluster 1  \n",
       "366      110      105     80           3      False  Cluster 4  "
      ]
     },
     "execution_count": 80,
     "metadata": {},
     "output_type": "execute_result"
    }
   ],
   "source": [
    "kmeans_results = assign_model(kmeans)\n",
    "kmeans_results.insert(0, 'Name', data_train['Name'])\n",
    "kmeans_results.head(10)"
   ]
  },
  {
   "cell_type": "code",
   "execution_count": 71,
   "metadata": {
    "colab": {
     "base_uri": "https://localhost:8080/",
     "height": 617
    },
    "executionInfo": {
     "elapsed": 2912,
     "status": "ok",
     "timestamp": 1727959866716,
     "user": {
      "displayName": "Park Chan Hee",
      "userId": "12253724632409422807"
     },
     "user_tz": -540
    },
    "id": "jF9yiW4EBMUw",
    "outputId": "5ea9caa6-bc48-4445-f9cd-4d0ed8f97719"
   },
   "outputs": [
    {
     "data": {
      "text/html": [],
      "text/plain": [
       "<IPython.core.display.HTML object>"
      ]
     },
     "metadata": {},
     "output_type": "display_data"
    },
    {
     "data": {
      "application/vnd.plotly.v1+json": {
       "config": {
        "plotlyServerURL": "https://plot.ly"
       },
       "data": [
        {
         "customdata": [
          [
           578
          ],
          [
           175
          ],
          [
           179
          ],
          [
           null
          ],
          [
           182
          ],
          [
           null
          ],
          [
           185
          ],
          [
           186
          ],
          [
           null
          ],
          [
           191
          ],
          [
           null
          ],
          [
           null
          ],
          [
           197
          ],
          [
           168
          ],
          [
           448
          ],
          [
           208
          ],
          [
           439
          ],
          [
           438
          ],
          [
           213
          ],
          [
           435
          ],
          [
           216
          ],
          [
           218
          ],
          [
           219
          ],
          [
           null
          ],
          [
           429
          ],
          [
           227
          ],
          [
           null
          ],
          [
           202
          ],
          [
           167
          ],
          [
           165
          ],
          [
           465
          ],
          [
           null
          ],
          [
           486
          ],
          [
           118
          ],
          [
           121
          ],
          [
           122
          ],
          [
           483
          ],
          [
           null
          ],
          [
           null
          ],
          [
           127
          ],
          [
           127
          ],
          [
           480
          ],
          [
           134
          ],
          [
           138
          ],
          [
           139
          ],
          [
           478
          ],
          [
           477
          ],
          [
           144
          ],
          [
           145
          ],
          [
           149
          ],
          [
           473
          ],
          [
           150
          ],
          [
           471
          ],
          [
           470
          ],
          [
           469
          ],
          [
           157
          ],
          [
           159
          ],
          [
           160
          ],
          [
           417
          ],
          [
           487
          ],
          [
           null
          ],
          [
           244
          ],
          [
           302
          ],
          [
           302
          ],
          [
           305
          ],
          [
           375
          ],
          [
           306
          ],
          [
           307
          ],
          [
           310
          ],
          [
           311
          ],
          [
           313
          ],
          [
           314
          ],
          [
           315
          ],
          [
           316
          ],
          [
           null
          ],
          [
           319
          ],
          [
           null
          ],
          [
           null
          ],
          [
           357
          ],
          [
           null
          ],
          [
           353
          ],
          [
           null
          ],
          [
           null
          ],
          [
           334
          ],
          [
           350
          ],
          [
           null
          ],
          [
           348
          ],
          [
           null
          ],
          [
           362
          ],
          [
           null
          ],
          [
           577
          ],
          [
           382
          ],
          [
           null
          ],
          [
           413
          ],
          [
           250
          ],
          [
           409
          ],
          [
           407
          ],
          [
           405
          ],
          [
           257
          ],
          [
           260
          ],
          [
           400
          ],
          [
           268
          ],
          [
           null
          ],
          [
           271
          ],
          [
           392
          ],
          [
           274
          ],
          [
           275
          ],
          [
           276
          ],
          [
           387
          ],
          [
           null
          ],
          [
           281
          ],
          [
           386
          ],
          [
           null
          ],
          [
           null
          ],
          [
           288
          ],
          [
           383
          ],
          [
           290
          ],
          [
           291
          ],
          [
           292
          ],
          [
           414
          ],
          [
           113
          ],
          [
           343
          ],
          [
           111
          ],
          [
           37
          ],
          [
           36
          ],
          [
           79
          ],
          [
           null
          ],
          [
           552
          ],
          [
           510
          ],
          [
           553
          ],
          [
           31
          ],
          [
           554
          ],
          [
           509
          ],
          [
           null
          ],
          [
           28
          ],
          [
           26
          ],
          [
           507
          ],
          [
           null
          ],
          [
           null
          ],
          [
           88
          ],
          [
           null
          ],
          [
           null
          ],
          [
           null
          ],
          [
           513
          ],
          [
           58
          ],
          [
           529
          ],
          [
           535
          ],
          [
           null
          ],
          [
           536
          ],
          [
           54
          ],
          [
           53
          ],
          [
           537
          ],
          [
           89
          ],
          [
           49
          ],
          [
           521
          ],
          [
           47
          ],
          [
           69
          ],
          [
           45
          ],
          [
           71
          ],
          [
           517
          ],
          [
           43
          ],
          [
           514
          ],
          [
           542
          ],
          [
           null
          ],
          [
           82
          ],
          [
           20
          ],
          [
           494
          ],
          [
           100
          ],
          [
           572
          ],
          [
           null
          ],
          [
           569
          ],
          [
           99
          ],
          [
           null
          ],
          [
           11
          ],
          [
           null
          ],
          [
           null
          ],
          [
           497
          ],
          [
           568
          ],
          [
           15
          ],
          [
           4
          ],
          [
           95
          ],
          [
           492
          ],
          [
           500
          ],
          [
           92
          ],
          [
           490
          ],
          [
           18
          ],
          [
           101
          ]
         ],
         "hovertemplate": "Cluster=Cluster 0<br>PCA1=%{x}<br>PCA2=%{y}<br>Feature=%{customdata[0]}<extra></extra>",
         "legendgroup": "Cluster 0",
         "marker": {
          "color": "#636efa",
          "opacity": 0.5,
          "symbol": "circle"
         },
         "mode": "markers",
         "name": "Cluster 0",
         "orientation": "v",
         "showlegend": true,
         "textposition": "top center",
         "type": "scatter",
         "x": [
          165.89685303635073,
          296.43066712978214,
          297.96780855322254,
          132.3428862691835,
          175.51585612941176,
          270.81116170527537,
          321.6900940032094,
          182.25892793378057,
          175.1044312808322,
          299.07618789192026,
          339.0960212503336,
          301.5644969151427,
          191.19388317582087,
          314.27903179912266,
          229.5642313566026,
          315.15153866598837,
          216.2387555644591,
          316.05363293530553,
          165.91012713632054,
          289.79664313367897,
          189.99518569214516,
          301.55543954316363,
          169.66801432091813,
          183.75093976717338,
          297.6155408229911,
          378.4024458275613,
          176.71868329970135,
          342.27672769925607,
          178.32352107064773,
          185.82587937586496,
          196.23941983706064,
          243.04847285396272,
          265.8058800363687,
          228.43744570335528,
          217.59596278150224,
          241.93813761379727,
          323.2863465809351,
          300.28287891376027,
          311.54025355856874,
          218.71057909669256,
          277.70789995514906,
          270.8375396120033,
          332.8092675370775,
          355.0562873076445,
          371.22417825964993,
          255.4955828035198,
          265.22264518529107,
          134.3335608201258,
          379.21498321344825,
          153.9206570780866,
          252.85952774214593,
          288.4817972112855,
          218.0069305982825,
          288.8013150618727,
          233.12988596126203,
          199.83233310041234,
          350.36913848168416,
          349.91034996400435,
          246.09957298701005,
          332.0161297453095,
          231.52441341648833,
          327.0543514387483,
          215.2140319736729,
          208.9885885941551,
          285.88743000568206,
          252.69096135507058,
          302.3958634802808,
          370.03817259764344,
          305.7548970268929,
          195.9572166456888,
          227.78925266137813,
          276.3800897224164,
          209.38383559945854,
          192.5862677242533,
          142.41623860665769,
          319.3427713011212,
          313.62307957766365,
          291.5951346431046,
          306.56626856588304,
          175.29217321141255,
          119.32737802600676,
          323.0616154498131,
          233.67219006751034,
          342.8945609023291,
          296.3418275928384,
          236.29177785877798,
          158.46916966598224,
          243.47410901197006,
          269.4572834500498,
          322.6520225377686,
          234.2017623138425,
          151.49579044103837,
          186.96318218992985,
          367.7451192961144,
          313.6230795776637,
          159.91213775509573,
          369.45492434779976,
          297.8744132637584,
          350.1397442228441,
          374.10409919419124,
          255.3444997534379,
          343.4694126423968,
          261.564007759521,
          339.9990992697356,
          203.87319506124612,
          286.5163388380477,
          136.3241871721295,
          311.47869284938196,
          170.09407069807907,
          169.26712767733304,
          219.17936779067034,
          182.12953339855287,
          261.50022874674374,
          140.93647509706133,
          195.0950758830346,
          301.8990474749725,
          234.66602820599545,
          135.22019614693227,
          136.2992410072646,
          184.59923846441416,
          224.22829553291066,
          349.6809557051645,
          346.1799569131061,
          160.92999492183952,
          154.93123415251353,
          332.66925685838436,
          315.9841077920938,
          323.533990533443,
          255.49445931842442,
          209.47376520917868,
          293.04953939881267,
          115.57303945892515,
          192.96009194306035,
          247.53078721243713,
          331.83126195337235,
          289.29348687932963,
          252.52118525642337,
          205.18538286709293,
          275.36030308477655,
          190.4016067313861,
          231.08263071029697,
          206.50710735070442,
          134.10546298919738,
          330.4383195221562,
          286.85206738744256,
          268.96949122461604,
          294.71339354697574,
          218.7392074839384,
          303.8983282289436,
          281.64187322655937,
          289.9399353045318,
          264.1572268072388,
          307.71250302141516,
          272.76733938332194,
          202.165299823046,
          164.0687600482587,
          244.98655246176122,
          308.01221944731634,
          328.87333381437014,
          298.3381277709764,
          218.80828842184,
          272.9268827713504,
          164.27327299972654,
          251.4612689383099,
          123.2156751347712,
          231.02526841725415,
          211.91186157980246,
          199.26121222584396,
          287.63945511088417,
          237.80573047285884,
          281.2445229332555,
          332.5992515190378,
          259.8963172867351,
          306.69681388644005,
          121.85012053338934,
          163.33476390974107,
          205.57948692055876,
          126.663007427341,
          202.1795186626999,
          271.464005399189,
          199.9621567024663,
          227.97788731306244,
          199.6443377812385,
          296.1777822121175,
          294.71339354697574,
          192.4604508453022,
          332.73926219773097
         ],
         "xaxis": "x",
         "y": [
          -182.44268355454952,
          -96.87665153008014,
          151.15718625977598,
          -141.18246677901968,
          60.40485635979218,
          52.96182379291147,
          -108.73670120542764,
          -160.05622780645768,
          14.364419127365768,
          152.92682613352818,
          61.91602911522522,
          -115.52549156997705,
          -164.99717054220707,
          -142.99731565017268,
          45.805800175931346,
          -14.820053541048685,
          -146.05698381566734,
          74.50584614925474,
          -6.223239454669269,
          131.99295059602986,
          -103.3649603546612,
          239.50732374794782,
          -170.57809505324394,
          -111.36426152035172,
          150.29067713297496,
          235.50259650566232,
          -107.34592937846654,
          65.5963116503468,
          63.570195695845,
          10.31402330810276,
          25.556584220055864,
          69.5214864077844,
          -40.72683192395508,
          -128.03512923659704,
          -161.66630408633048,
          -165.35794104499962,
          68.08211605201099,
          75.41527781459453,
          -187.50038278737378,
          -193.35360244549508,
          -196.4875155677817,
          -157.349388583362,
          -139.70123431008946,
          51.67775479055538,
          146.19669249552996,
          -95.6446241314811,
          33.956035549068304,
          -141.37242673951965,
          256.5778612168051,
          -167.14933111682973,
          31.195392900275994,
          -169.76543603378772,
          21.223703862788348,
          132.08799648298358,
          -161.3778029750269,
          40.8321143635733,
          30.654345311109203,
          30.329324515886878,
          66.12083535207816,
          18.853788068776254,
          -145.83267910855193,
          -237.02660912646,
          -128.35911433092483,
          -149.1915953075687,
          129.31680104779738,
          29.91522451938483,
          216.71109727171208,
          147.4743502369499,
          -130.540510443035,
          -173.01861656057622,
          88.69949376701608,
          -156.43342493475592,
          -171.73370393399264,
          -129.9387817309863,
          -180.746586352756,
          0.05494087321755557,
          2.7049695459061533,
          -42.46600892088932,
          260.7223690007137,
          -146.81847918213347,
          -205.7875643393743,
          -176.05874321354366,
          -52.892713197189586,
          36.39821036801725,
          -119.59197941196882,
          -163.54986047662587,
          -204.70261140153625,
          -113.72426930371876,
          29.601803851047368,
          18.5464519566209,
          -15.812529873430087,
          -130.10951970841526,
          31.865249091033224,
          142.8567102461987,
          2.704969545906154,
          -26.55825070052573,
          145.68864431997633,
          79.6087965092692,
          30.49183491349805,
          231.36550623189476,
          40.42365787431872,
          6.167036049123785,
          28.192994097073914,
          37.81032706639543,
          -67.89565656036312,
          -59.05239706639805,
          -141.56271221901883,
          -152.8922172837141,
          -97.56562596390853,
          -75.47085864173145,
          -27.882784543113424,
          53.65528049458516,
          -105.09545921473824,
          -164.47005011421214,
          72.68277852154263,
          39.82543063719044,
          -91.67376230943862,
          -197.77584750109423,
          -167.91206909355512,
          30.727318309015647,
          -193.7994894704177,
          30.166814118275727,
          10.402097398777576,
          -150.53366397891088,
          -61.786168838715085,
          -139.59052087823434,
          97.46582954490758,
          -109.48592104870993,
          14.519436541598044,
          17.903966772745864,
          -99.21291003390886,
          -148.7384473691905,
          30.085368461960304,
          -125.54260584685409,
          -173.146963325182,
          -84.86500198736398,
          -169.3894806078627,
          -87.22982050971372,
          -267.46265950646546,
          -133.48618744529662,
          26.317065697233353,
          22.72218187797582,
          -83.30915697787482,
          34.120260899835024,
          130.18515222441894,
          55.91924101838401,
          129.63450251854545,
          40.39376042821999,
          -188.16191071077327,
          98.7772512191629,
          132.61346148084525,
          36.024217159475924,
          -168.98956205703433,
          -163.8444790995968,
          -158.5985472646292,
          -47.57022035268412,
          33.661452744158694,
          48.96915698369015,
          39.34262891677287,
          -121.89933583316065,
          -166.20384450979725,
          -280.5375043259914,
          -70.7862501999178,
          -115.92154397770068,
          -185.0980114660201,
          12.327544976211584,
          64.08047663186663,
          38.186545456981634,
          129.44385388911303,
          36.45029479375364,
          -58.837838112233044,
          -139.53516416230676,
          30.95518942770859,
          260.48151518746386,
          -148.08578126951357,
          -184.4556425408936,
          47.56346987283775,
          -178.32722939083672,
          33.60314277766034,
          -240.6514195210619,
          -160.40865005101497,
          10.494168496806095,
          94.9045860536307,
          -54.19569790084024,
          129.63450251854545,
          12.140659377620793,
          -139.64587759416196
         ],
         "yaxis": "y"
        },
        {
         "customdata": [
          [
           6
          ],
          [
           3
          ],
          [
           345
          ],
          [
           null
          ],
          [
           259
          ],
          [
           null
          ],
          [
           null
          ],
          [
           573
          ],
          [
           231
          ],
          [
           333
          ],
          [
           null
          ],
          [
           236
          ],
          [
           335
          ],
          [
           null
          ],
          [
           419
          ],
          [
           2
          ],
          [
           51
          ],
          [
           240
          ],
          [
           413
          ],
          [
           246
          ],
          [
           260
          ],
          [
           416
          ],
          [
           422
          ],
          [
           42
          ],
          [
           265
          ],
          [
           564
          ],
          [
           301
          ],
          [
           null
          ],
          [
           299
          ],
          [
           561
          ],
          [
           null
          ],
          [
           null
          ],
          [
           null
          ],
          [
           294
          ],
          [
           558
          ],
          [
           370
          ],
          [
           27
          ],
          [
           null
          ],
          [
           401
          ],
          [
           556
          ],
          [
           285
          ],
          [
           14
          ],
          [
           13
          ],
          [
           386
          ],
          [
           550
          ],
          [
           318
          ],
          [
           null
          ],
          [
           362
          ],
          [
           570
          ],
          [
           393
          ],
          [
           563
          ],
          [
           6
          ],
          [
           397
          ],
          [
           null
          ],
          [
           533
          ],
          [
           534
          ],
          [
           null
          ],
          [
           133
          ],
          [
           447
          ],
          [
           136
          ],
          [
           451
          ],
          [
           140
          ],
          [
           453
          ],
          [
           188
          ],
          [
           141
          ],
          [
           511
          ],
          [
           143
          ],
          [
           94
          ],
          [
           null
          ],
          [
           456
          ],
          [
           181
          ],
          [
           null
          ],
          [
           178
          ],
          [
           460
          ],
          [
           466
          ],
          [
           155
          ],
          [
           156
          ],
          [
           505
          ],
          [
           158
          ],
          [
           162
          ],
          [
           132
          ],
          [
           163
          ],
          [
           508
          ],
          [
           166
          ],
          [
           null
          ],
          [
           461
          ],
          [
           172
          ],
          [
           474
          ],
          [
           164
          ],
          [
           445
          ],
          [
           194
          ],
          [
           null
          ],
          [
           null
          ],
          [
           201
          ],
          [
           102
          ],
          [
           215
          ],
          [
           128
          ],
          [
           208
          ],
          [
           526
          ],
          [
           531
          ],
          [
           65
          ],
          [
           117
          ],
          [
           217
          ],
          [
           61
          ],
          [
           445
          ],
          [
           204
          ],
          [
           null
          ],
          [
           null
          ]
         ],
         "hovertemplate": "Cluster=Cluster 1<br>PCA1=%{x}<br>PCA2=%{y}<br>Feature=%{customdata[0]}<extra></extra>",
         "legendgroup": "Cluster 1",
         "marker": {
          "color": "#EF553B",
          "opacity": 0.5,
          "symbol": "circle"
         },
         "mode": "markers",
         "name": "Cluster 1",
         "orientation": "v",
         "showlegend": true,
         "textposition": "top center",
         "type": "scatter",
         "x": [
          -216.70585688536448,
          45.07501846157464,
          -199.7818645243579,
          -117.17579690973442,
          -222.77102332682034,
          -26.89316427807949,
          -219.63966715605352,
          -186.9798165337113,
          -126.22797448669915,
          -216.44635735953463,
          -120.35869043792981,
          -100.97270355144738,
          -102.21834463630952,
          35.921489356832204,
          -165.5578642510244,
          -122.80234674128884,
          -41.75525024638155,
          73.17625127968081,
          -175.0971696831841,
          10.598979140185959,
          -46.36574394410724,
          -173.83513291257304,
          10.504194039956603,
          -45.33290229824823,
          -17.167209832918402,
          -94.43638188114839,
          -218.87299015716792,
          24.52786384159461,
          -201.5010057201622,
          -213.58259587794365,
          -134.28120557004672,
          -57.01473186385131,
          -108.91629595506703,
          -151.03245213016348,
          -71.91523482623796,
          15.030726453141847,
          -104.6313909409871,
          -103.18977687240789,
          -60.8237895837789,
          -152.09042699264324,
          -205.78254596512159,
          -71.57145062830428,
          -51.59519130141976,
          -60.13220507494611,
          56.52042682622581,
          -74.45046143756294,
          -37.137781024286646,
          -200.83407825093124,
          -36.49436647665354,
          -68.70697918124469,
          -119.71694604772999,
          -70.9430519949238,
          -120.41464769690309,
          -140.7077538642713,
          -54.007073071707,
          -115.62072542772692,
          37.86117686071281,
          -83.33443736423142,
          24.07020162353005,
          51.79675367298396,
          11.236332798034361,
          -122.47333275419683,
          -106.71207990693767,
          -55.3524217385591,
          -149.6104874565086,
          -124.54600233341597,
          59.9848732065491,
          -7.141745020063286,
          -70.0662103719688,
          -132.54410196258783,
          -78.79684013102518,
          -147.908721599389,
          -103.89110212978908,
          -28.266471830641645,
          -159.423610030962,
          -111.94316611353047,
          51.70039853720689,
          -93.4854008217056,
          -144.54991033047895,
          -193.5555379564935,
          -199.95368337385008,
          -92.40280344041682,
          57.913893982432384,
          -114.08856270266075,
          -83.3509051519141,
          56.913506288166744,
          -213.74970091920716,
          -196.9405039935206,
          -26.765237700993705,
          9.667291637614177,
          65.49372909832728,
          -182.88016791191114,
          14.408355311540351,
          -208.95645231073053,
          -24.57190177406745,
          -56.30165761070294,
          -225.98501716700648,
          21.193126587346743,
          -100.42847966526483,
          -217.46119802187945,
          -57.973846178735386,
          -126.09360106646903,
          -169.3634651353731,
          -51.449897848947124,
          -8.352257956526014,
          19.611379826947836,
          -62.92553218328563,
          -132.74983431389674
         ],
         "xaxis": "x",
         "y": [
          -227.64779452196683,
          -123.35769709502163,
          -104.3503499389995,
          -221.27556220987103,
          -114.23028896474656,
          -82.92616588191089,
          -167.291326898263,
          -85.89196766921957,
          -122.50951825010705,
          -178.3477646460857,
          -14.469950424753836,
          -92.49754062865543,
          -31.286417665959295,
          -95.48011269935576,
          -182.53994551930094,
          -121.76636381691144,
          -155.11283301174387,
          -151.7748963630257,
          -139.4929961591296,
          -262.22157751325267,
          -97.82666784559925,
          -88.49757947100224,
          -206.50513110478175,
          -131.42180352354333,
          -155.2095039707262,
          -143.03644081658447,
          -109.41686732306435,
          -231.19529596832277,
          -147.66124882286258,
          -223.8482853346169,
          -67.74200882540745,
          -27.589611906434133,
          -21.107794834295895,
          -98.47269960415207,
          -58.08660189771701,
          -131.55957440551987,
          -5.505639689957399,
          -7.538249768142835,
          -132.35229623810903,
          -228.70777231044715,
          -94.92562258131115,
          -106.1901351765183,
          -149.041312397603,
          -21.633242290426978,
          -153.22918199465332,
          -160.7013035120348,
          -132.07947577607814,
          -183.29081561186518,
          -142.96418012653402,
          -51.548391417349315,
          -122.62400636392168,
          -143.89099530256604,
          -237.71229586012214,
          -126.18997558142664,
          -30.60174402075949,
          -20.289372154123754,
          -175.9981458477047,
          -14.112386186345587,
          -170.1591693785777,
          -240.95270020813587,
          -136.50954861496345,
          -200.16912272353753,
          -168.8021573851334,
          -32.935218255094824,
          -188.3053968791378,
          -247.7606368056688,
          -140.21113290593587,
          -114.64309568942605,
          -53.06821427461345,
          -61.631447037572094,
          -72.74746859361481,
          -97.68482800824482,
          -92.61291352596344,
          -83.82491252592754,
          -97.1608181793928,
          -19.515788440394527,
          -166.81212379281473,
          -203.5782804022065,
          -100.65125486939405,
          -225.02740769282815,
          -256.6181162451102,
          -174.1645722802432,
          -162.17537320676797,
          -221.70983025143795,
          -181.7308629585211,
          -120.60683307496876,
          -214.18705334998737,
          -181.6134104177635,
          -146.76006584015713,
          -126.71140969917928,
          -167.91581241921003,
          -64.08316428617569,
          -201.7345069889585,
          -185.83996251588093,
          -149.04477057619215,
          -32.93640830830066,
          -215.56796996251617,
          -104.82021832292598,
          -159.44229918174528,
          -164.03605214526348,
          -26.62749393107695,
          -219.84907917552613,
          -128.7861501504405,
          -109.04306690452825,
          -94.40670626429451,
          -187.0617617847005,
          -138.57881171597856,
          -132.6164731391061
         ],
         "yaxis": "y"
        },
        {
         "customdata": [
          [
           null
          ],
          [
           484
          ],
          [
           null
          ],
          [
           346
          ],
          [
           347
          ],
          [
           376
          ],
          [
           565
          ],
          [
           485
          ],
          [
           491
          ],
          [
           501
          ],
          [
           null
          ],
          [
           null
          ],
          [
           479
          ],
          [
           373
          ],
          [
           363
          ],
          [
           479
          ],
          [
           359
          ],
          [
           null
          ],
          [
           364
          ],
          [
           479
          ],
          [
           358
          ],
          [
           null
          ],
          [
           571
          ],
          [
           355
          ],
          [
           null
          ],
          [
           354
          ],
          [
           368
          ],
          [
           354
          ],
          [
           null
          ],
          [
           476
          ],
          [
           493
          ],
          [
           475
          ],
          [
           379
          ],
          [
           430
          ],
          [
           472
          ],
          [
           410
          ],
          [
           411
          ],
          [
           540
          ],
          [
           412
          ],
          [
           413
          ],
          [
           null
          ],
          [
           442
          ],
          [
           441
          ],
          [
           440
          ],
          [
           444
          ],
          [
           null
          ],
          [
           436
          ],
          [
           420
          ],
          [
           421
          ],
          [
           null
          ],
          [
           531
          ],
          [
           424
          ],
          [
           426
          ],
          [
           433
          ],
          [
           432
          ],
          [
           437
          ],
          [
           null
          ],
          [
           406
          ],
          [
           403
          ],
          [
           382
          ],
          [
           560
          ],
          [
           null
          ],
          [
           null
          ],
          [
           385
          ],
          [
           459
          ],
          [
           457
          ],
          [
           390
          ],
          [
           546
          ],
          [
           404
          ],
          [
           455
          ],
          [
           null
          ],
          [
           null
          ],
          [
           396
          ],
          [
           518
          ],
          [
           398
          ],
          [
           544
          ],
          [
           null
          ],
          [
           448
          ],
          [
           519
          ],
          [
           391
          ],
          [
           460
          ],
          [
           1
          ],
          [
           295
          ],
          [
           235
          ],
          [
           239
          ],
          [
           98
          ],
          [
           97
          ],
          [
           247
          ],
          [
           null
          ],
          [
           251
          ],
          [
           null
          ],
          [
           254
          ],
          [
           256
          ],
          [
           234
          ],
          [
           null
          ],
          [
           262
          ],
          [
           263
          ],
          [
           264
          ],
          [
           81
          ],
          [
           77
          ],
          [
           null
          ],
          [
           270
          ],
          [
           73
          ],
          [
           null
          ],
          [
           null
          ],
          [
           261
          ],
          [
           null
          ],
          [
           null
          ],
          [
           228
          ],
          [
           154
          ],
          [
           177
          ],
          [
           153
          ],
          [
           null
          ],
          [
           null
          ],
          [
           190
          ],
          [
           150
          ],
          [
           193
          ],
          [
           142
          ],
          [
           135
          ],
          [
           112
          ],
          [
           131
          ],
          [
           209
          ],
          [
           null
          ],
          [
           null
          ],
          [
           null
          ],
          [
           214
          ],
          [
           null
          ],
          [
           119
          ],
          [
           225
          ],
          [
           115
          ],
          [
           null
          ],
          [
           130
          ],
          [
           67
          ],
          [
           170
          ],
          [
           321
          ],
          [
           18
          ],
          [
           null
          ],
          [
           33
          ],
          [
           328
          ],
          [
           44
          ],
          [
           306
          ],
          [
           312
          ],
          [
           25
          ],
          [
           282
          ],
          [
           null
          ],
          [
           50
          ],
          [
           303
          ],
          [
           19
          ],
          [
           52
          ],
          [
           324
          ],
          [
           null
          ],
          [
           null
          ],
          [
           null
          ],
          [
           317
          ],
          [
           null
          ],
          [
           3
          ],
          [
           63
          ],
          [
           330
          ],
          [
           29
          ],
          [
           null
          ],
          [
           334
          ],
          [
           6
          ],
          [
           59
          ],
          [
           30
          ],
          [
           5
          ]
         ],
         "hovertemplate": "Cluster=Cluster 2<br>PCA1=%{x}<br>PCA2=%{y}<br>Feature=%{customdata[0]}<extra></extra>",
         "legendgroup": "Cluster 2",
         "marker": {
          "color": "#00cc96",
          "opacity": 0.5,
          "symbol": "circle"
         },
         "mode": "markers",
         "name": "Cluster 2",
         "orientation": "v",
         "showlegend": true,
         "textposition": "top center",
         "type": "scatter",
         "x": [
          -287.40778086424865,
          -331.6604556198852,
          -198.35801376565288,
          -373.5849398189634,
          -181.63666066913794,
          -200.12988632832642,
          -319.6041648047019,
          -327.7001603976998,
          -210.10547011438916,
          -264.7159813386954,
          -293.2743139095393,
          -247.04408879008867,
          -290.16348681254567,
          -218.9890672721954,
          -128.02701959439543,
          -222.97830652797902,
          -332.35373348649523,
          -311.2659612138166,
          -205.07228777747937,
          -297.0158129781016,
          -232.55800323708377,
          -314.92311938082184,
          -214.63094189709577,
          -169.76860356297635,
          -203.8387815745354,
          -341.85986136090656,
          -204.84256888517632,
          -255.40408599556227,
          -231.28023353047598,
          -305.41070845301425,
          -231.30757727007364,
          -362.24574972145626,
          -274.41761409155396,
          -369.24375752553334,
          -246.51082105301842,
          -274.87844845115325,
          -373.0771286445822,
          -235.23402479149243,
          -176.68317315822952,
          -289.855504590855,
          -218.94335528169898,
          -258.3808338868974,
          -197.70582711115264,
          -201.34624711715045,
          -317.0512839207193,
          -176.9027481038643,
          -262.0399549716921,
          -205.67870196382353,
          -250.2097489459767,
          -240.30351223532034,
          -194.73315104866109,
          -203.63297443718093,
          -332.58200398701564,
          -244.01739048823973,
          -283.47680397191715,
          -247.62693934845765,
          -322.9669516075863,
          -294.320727960755,
          -338.3157544417146,
          -299.923468769463,
          -234.32661164390498,
          -374.848086291708,
          -223.65660192499743,
          -125.90283586141634,
          -358.92895801380314,
          -356.0381070448304,
          -134.6865811491573,
          -364.10329585475023,
          -361.13895187657965,
          -259.80888246508044,
          -342.8310384878541,
          -235.1413209784097,
          -151.1128606568913,
          -351.3942236763536,
          -334.24639795749755,
          -253.96714532401134,
          -147.8805512668539,
          -294.40941439369095,
          -325.80020471752164,
          -230.74719648204868,
          -200.88307511800127,
          -211.93964440369425,
          -314.72343363033355,
          -165.13001610156584,
          -221.1865019374368,
          -351.406957628722,
          -375.85643770633214,
          -323.85591073505134,
          -159.5385589627675,
          -204.82796325128288,
          -165.70777651780992,
          -364.95681635186145,
          -221.10107699760908,
          -337.34565446916474,
          -262.41576092677263,
          -160.6174502976522,
          -277.34185755303196,
          -350.60342809282497,
          -175.67174742700303,
          -313.03574619292567,
          -320.3293376417624,
          -271.86456850633544,
          -304.51107420577034,
          -148.13530941156836,
          -252.16182678770681,
          -308.8569005850429,
          -191.5137946483463,
          -215.0825246360823,
          -288.5749169794603,
          -281.3833155460125,
          -378.7756058314783,
          -319.2713621051585,
          -337.5211908376089,
          -262.8889184895822,
          -141.99626047356983,
          -260.9848274177045,
          -143.76371155893045,
          -273.44942619966986,
          -135.7560736888409,
          -341.3512307234295,
          -313.9168293096788,
          -145.84383114449403,
          -353.30108504686893,
          -356.2073279976376,
          -376.5041079441095,
          -183.4248343890305,
          -242.89362554970108,
          -311.3431302623723,
          -348.7413656100024,
          -334.55760551280827,
          -218.14491357694965,
          -279.07678513003134,
          -140.76255484759722,
          -208.55400486074242,
          -220.50724073114276,
          -264.1538885907562,
          -351.67212157191597,
          -268.2463219649089,
          -172.03310454270144,
          -302.5763891168132,
          -275.9201697735922,
          -346.72186484775494,
          -254.66365422676384,
          -217.26000381909887,
          -292.9247502232039,
          -287.1643542794059,
          -158.56096259665398,
          -341.1080351853854,
          -341.18186425179044,
          -238.92391115388375,
          -279.30008134687586,
          -308.73572810978806,
          -267.24023053130963,
          -343.7760620420432,
          -348.01193242891446,
          -160.0546901918545,
          -303.4520487411514,
          -191.18426824511857,
          -261.121952708165,
          -158.4449331147243,
          -273.20489767576277,
          -285.60300831155047,
          -333.3965723095735,
          -243.87037069349134,
          -322.00575460752265
         ],
         "xaxis": "x",
         "y": [
          89.42385695328777,
          189.01420041808439,
          199.93558090155955,
          -214.09811946840253,
          -9.356116965156517,
          25.732206127448535,
          -0.025466177762746435,
          -126.2179307295749,
          133.13977748613974,
          -76.09632367566458,
          100.01487641570642,
          30.180465926551953,
          1.7378752020789028,
          121.87491393575411,
          46.17641620193428,
          129.0731410280374,
          -151.75501046611237,
          -110.4103883176109,
          -3.201181179215487,
          -101.64408904250777,
          -62.68250784713513,
          -60.477968822249785,
          -11.735301303671063,
          11.360729876318167,
          -30.465648803836906,
          79.84922569629587,
          214.61788710001017,
          46.515455398933575,
          80.59506240929385,
          51.72865168407258,
          -19.79274151897648,
          2.99663520977516,
          -29.556306361126733,
          -95.30355982864461,
          78.3188491794716,
          -4.244097735057089,
          -99.86977381529351,
          115.24613526789184,
          77.7610278920407,
          -61.397842306787,
          87.36432986644144,
          -99.6719706629069,
          127.28841346151617,
          116.92734738023658,
          -2.0025318175466786,
          -31.42478958832024,
          -72.36722636474222,
          176.87130123472014,
          32.16158359912942,
          50.98677786945666,
          122.31225451723056,
          178.5105724379972,
          -90.94761977388923,
          81.22979052171034,
          113.24107747913348,
          -135.12425797557827,
          83.42146691700994,
          109.53410525258846,
          -42.95512229753036,
          -2.8813685657872994,
          -62.42839237045971,
          -89.75726071121994,
          135.60955961529464,
          33.771191817702444,
          2.2371960883529534,
          -59.329548957167106,
          44.37342913013853,
          -162.23261844459162,
          -152.61585686375685,
          72.31472181505036,
          -173.07785322304403,
          93.067500891603,
          8.546173192733226,
          -139.6855464279537,
          48.248124638838256,
          205.5878069134811,
          -11.891277058040888,
          -88.73799356589552,
          107.18889462498146,
          93.61006745929373,
          -28.113527122315816,
          -11.363879939677966,
          -103.60697493170656,
          16.390597062423577,
          118.42972120238676,
          -90.70542471845617,
          -224.4959431170496,
          -10.619984097447453,
          76.23791616923035,
          178.08695067693455,
          -21.74734708810966,
          3.441465176579782,
          119.05425345077599,
          250.8916591851841,
          76.97923513630765,
          -6.490755531623678,
          -90.94041092396273,
          -112.60395925115671,
          99.64498528167815,
          91.6947716370245,
          52.15310107912563,
          -98.67076321153333,
          -7.133761453886261,
          95.08302366883494,
          118.80317031569807,
          -114.19799439412523,
          -13.627254565569825,
          106.70800296400263,
          105.09049617129483,
          92.994463974118,
          -224.48790701813925,
          106.30153826388153,
          251.29837525040892,
          -125.33390576755683,
          30.2616694084671,
          69.91167296603223,
          86.17313609035928,
          -92.94717251127797,
          64.8870417979529,
          -114.48957394171637,
          46.82045897827643,
          85.903395077715,
          -9.116838075673154,
          -124.37208535239414,
          -214.0900833694921,
          56.501733950995465,
          -95.88818599876933,
          34.63415316042008,
          -141.5522815039965,
          245.77561211050065,
          5.801166487612025,
          61.438665932327076,
          86.03428008111688,
          -11.881680980921088,
          201.5199515953012,
          97.56682793864941,
          132.10411386048742,
          96.49036358550994,
          87.25040909699972,
          100.20653182433159,
          -88.26769362456886,
          9.29488983717573,
          -77.79599238071826,
          87.1657194348245,
          159.39675747756294,
          -91.05028128391602,
          8.461389715936265,
          240.26564127937272,
          -43.2123329501334,
          45.70102679878942,
          -89.42265137440201,
          -25.300596006468286,
          195.02531180581354,
          97.57266975785414,
          141.64892861096922,
          114.41914143009399,
          -115.94979573810465,
          43.92101177658641,
          -29.50809966767425,
          110.98287098508568,
          68.90840272135135,
          -106.05502340876362,
          87.31856123004982,
          40.2013313558196,
          -92.83498727175075
         ],
         "yaxis": "y"
        },
        {
         "customdata": [
          [
           124
          ],
          [
           23
          ],
          [
           null
          ],
          [
           123
          ],
          [
           66
          ],
          [
           null
          ],
          [
           479
          ],
          [
           479
          ],
          [
           137
          ],
          [
           142
          ],
          [
           146
          ],
          [
           null
          ],
          [
           148
          ],
          [
           8
          ],
          [
           575
          ],
          [
           null
          ],
          [
           467
          ],
          [
           21
          ],
          [
           15
          ],
          [
           107
          ],
          [
           559
          ],
          [
           528
          ],
          [
           524
          ],
          [
           522
          ],
          [
           64
          ],
          [
           62
          ],
          [
           515
          ],
          [
           74
          ],
          [
           null
          ],
          [
           57
          ],
          [
           161
          ],
          [
           null
          ],
          [
           506
          ],
          [
           87
          ],
          [
           504
          ],
          [
           116
          ],
          [
           543
          ],
          [
           93
          ],
          [
           96
          ],
          [
           41
          ],
          [
           547
          ],
          [
           548
          ],
          [
           null
          ],
          [
           551
          ],
          [
           null
          ],
          [
           495
          ],
          [
           104
          ],
          [
           492
          ],
          [
           108
          ],
          [
           null
          ],
          [
           null
          ],
          [
           503
          ],
          [
           83
          ],
          [
           458
          ],
          [
           273
          ],
          [
           310
          ],
          [
           267
          ],
          [
           367
          ],
          [
           null
          ],
          [
           258
          ],
          [
           257
          ],
          [
           372
          ],
          [
           255
          ],
          [
           253
          ],
          [
           249
          ],
          [
           366
          ],
          [
           377
          ],
          [
           null
          ],
          [
           323
          ],
          [
           254
          ],
          [
           237
          ],
          [
           308
          ],
          [
           373
          ],
          [
           300
          ],
          [
           381
          ],
          [
           null
          ],
          [
           297
          ],
          [
           289
          ],
          [
           284
          ],
          [
           389
          ],
          [
           376
          ],
          [
           384
          ],
          [
           282
          ],
          [
           386
          ],
          [
           304
          ],
          [
           null
          ],
          [
           null
          ],
          [
           384
          ],
          [
           230
          ],
          [
           null
          ],
          [
           null
          ],
          [
           195
          ],
          [
           446
          ],
          [
           351
          ],
          [
           325
          ],
          [
           452
          ],
          [
           187
          ],
          [
           null
          ],
          [
           326
          ],
          [
           207
          ],
          [
           212
          ],
          [
           null
          ],
          [
           null
          ],
          [
           212
          ],
          [
           181
          ],
          [
           425
          ],
          [
           171
          ],
          [
           427
          ],
          [
           434
          ],
          [
           null
          ],
          [
           173
          ],
          [
           176
          ],
          [
           224
          ],
          [
           221
          ],
          [
           339
          ],
          [
           174
          ],
          [
           332
          ]
         ],
         "hovertemplate": "Cluster=Cluster 3<br>PCA1=%{x}<br>PCA2=%{y}<br>Feature=%{customdata[0]}<extra></extra>",
         "legendgroup": "Cluster 3",
         "marker": {
          "color": "#ab63fa",
          "opacity": 0.5,
          "symbol": "circle"
         },
         "mode": "markers",
         "name": "Cluster 3",
         "orientation": "v",
         "showlegend": true,
         "textposition": "top center",
         "type": "scatter",
         "x": [
          49.89062196549552,
          67.26429543109643,
          -9.245247202213594,
          -63.891333518495614,
          143.7019178448592,
          -26.936378453397666,
          176.38225337613963,
          -25.903350840646475,
          -44.00186447469587,
          -19.59895869836276,
          -39.240861460313305,
          93.92513092434992,
          -49.85601028050746,
          72.22531138809228,
          -5.714942647488858,
          33.031476896990924,
          73.49867196330024,
          78.99991350578229,
          8.036951320939346,
          0.9829217421273664,
          -6.766090987673639,
          121.5555032086129,
          -85.56111013767847,
          162.54077551505034,
          153.92598971758366,
          144.40982831772337,
          91.268658289188,
          9.402179726972257,
          62.42163110978503,
          74.1181077101727,
          -28.259074220379706,
          31.625097100915635,
          114.4571614589919,
          92.52917149257225,
          37.137597541091935,
          -57.14481503882697,
          36.1629901049236,
          116.00845046712767,
          78.4851319924666,
          111.00258644748149,
          47.52225416329715,
          7.077072951963276,
          137.1258863099225,
          93.24358417355074,
          22.01258573706554,
          105.613393606071,
          110.64981679738794,
          111.7585004433058,
          49.919258597499635,
          -51.6562146209751,
          139.87551970629912,
          54.73132508202567,
          117.45522441657704,
          157.67353098054215,
          -36.07454347871099,
          113.50642127110608,
          51.956534925311836,
          75.29655350787829,
          155.91661606958735,
          -76.97727546641708,
          -88.52742590862434,
          -64.48774447941203,
          91.42693219838878,
          160.03131250404223,
          121.55516327548291,
          -57.752854738350536,
          168.95849038252322,
          -28.01388386940134,
          -26.88773535420351,
          68.76646405992464,
          46.55157564022397,
          -10.692586773994186,
          148.4532250590085,
          5.264131000165004,
          -36.79888336922116,
          -37.50221505584941,
          -12.837140922152363,
          49.24291204664543,
          71.54570070535206,
          52.07043376376533,
          113.1812228931939,
          121.55547234841218,
          66.48088784768527,
          -4.854109640046,
          116.83403129808627,
          100.31335799435142,
          146.6060317467225,
          121.55549207026945,
          82.82287320276559,
          113.06726170349506,
          -73.39917036676923,
          -3.8825150529730736,
          -3.3472361211075743,
          58.83906475108265,
          81.9037952632985,
          128.65595077349005,
          -60.160332338982336,
          171.09846694993524,
          120.77287044961268,
          118.1021657683957,
          -16.11078189784991,
          119.71335997203285,
          -8.590528678127194,
          47.170078933376494,
          -28.882040612920246,
          109.93179668923,
          76.1481652994602,
          102.02949050579758,
          56.45208425598617,
          46.61107401216189,
          82.60204029496656,
          30.887188568422825,
          -44.8364930485436,
          8.134923257991092,
          48.559339985415995,
          46.49202909795611,
          106.66252573459498
         ],
         "xaxis": "x",
         "y": [
          63.21350906169073,
          11.685600488772291,
          25.322883135728205,
          47.50275184548625,
          89.15647823227441,
          95.21485125048308,
          101.15712023569772,
          61.62023190167411,
          34.1913635541214,
          40.908064530826714,
          34.170079631545086,
          88.97145496345304,
          87.1436676804961,
          -32.104573422995635,
          27.266800189484872,
          95.23348017921981,
          40.51269358470122,
          -121.37902697414165,
          56.36006076203011,
          49.01395963517758,
          23.33811110852572,
          81.63263017082369,
          58.327286925169524,
          52.27968388341371,
          55.12821301877459,
          -0.5253901651584334,
          91.68690247547238,
          102.11579339708915,
          44.83287365584585,
          -121.60088112291633,
          28.743047288215102,
          -29.913958481640933,
          88.51020809091071,
          61.20809384954149,
          50.80467172847249,
          55.569800783604784,
          105.46701440708672,
          37.8299739464527,
          64.43728089019903,
          77.13900884281603,
          -38.76624802326738,
          56.3810896765891,
          -28.64590368577932,
          17.879396890429863,
          -33.40038444379967,
          76.54969910009193,
          105.44482562213685,
          105.7295303913661,
          -99.75841097442755,
          49.47110196949916,
          86.53538456056265,
          38.25650800692161,
          80.34789615004625,
          41.639305892770096,
          40.9147348143812,
          69.31994129726571,
          -97.22255187956893,
          -34.02199499401916,
          54.93792753927535,
          12.129101435515818,
          57.82476479114595,
          66.59060448206522,
          14.359261104937799,
          42.94287955909182,
          81.63210951056026,
          56.64077996034028,
          72.52326611422758,
          8.87144648419051,
          30.16231084341552,
          59.193604221276736,
          -15.354486415720462,
          68.25805468329814,
          55.96403661059236,
          -15.48533656320541,
          43.24947206217491,
          73.15838288495604,
          66.96288341495601,
          84.08350957538828,
          71.79650919804567,
          58.729174197514844,
          86.98241192589308,
          81.63261013788355,
          60.876787725641066,
          113.86633819258564,
          92.53636270490625,
          55.68948421743733,
          88.53327999126876,
          81.63272445980208,
          -116.18833239158876,
          -4.6882600845246305,
          28.692365656200057,
          -26.546855286818506,
          35.605753135990504,
          60.23193610214938,
          49.087719556445684,
          143.75883776638182,
          1.0154026533909037,
          62.957683437022354,
          87.4504184039644,
          99.17102971120302,
          -14.319125711037799,
          85.84711119360664,
          -9.14584085938078,
          -13.919125555476189,
          50.148768467008345,
          99.66670131643866,
          -56.62512292639903,
          71.32573988231982,
          11.1442529661787,
          -15.447228869223421,
          -105.81590885291713,
          -79.50745887192156,
          38.68851842577071,
          -16.621528386667652,
          93.17748518230852,
          -15.261909628754788,
          100.34603078197908
         ],
         "yaxis": "y"
        },
        {
         "customdata": [
          [
           336
          ],
          [
           337
          ],
          [
           7
          ],
          [
           541
          ],
          [
           308
          ],
          [
           359
          ],
          [
           9
          ],
          [
           10
          ],
          [
           549
          ],
          [
           329
          ],
          [
           null
          ],
          [
           32
          ],
          [
           555
          ],
          [
           17
          ],
          [
           555
          ],
          [
           365
          ],
          [
           319
          ],
          [
           356
          ],
          [
           null
          ],
          [
           562
          ],
          [
           38
          ],
          [
           309
          ],
          [
           463
          ],
          [
           380
          ],
          [
           103
          ],
          [
           null
          ],
          [
           null
          ],
          [
           109
          ],
          [
           428
          ],
          [
           120
          ],
          [
           206
          ],
          [
           null
          ],
          [
           null
          ],
          [
           199
          ],
          [
           196
          ],
          [
           null
          ],
          [
           450
          ],
          [
           150
          ],
          [
           183
          ],
          [
           342
          ],
          [
           200
          ],
          [
           238
          ],
          [
           243
          ],
          [
           null
          ],
          [
           55
          ],
          [
           530
          ],
          [
           525
          ],
          [
           523
          ],
          [
           68
          ],
          [
           null
          ],
          [
           null
          ],
          [
           462
          ],
          [
           516
          ],
          [
           272
          ],
          [
           null
          ],
          [
           null
          ],
          [
           76
          ],
          [
           80
          ],
          [
           399
          ],
          [
           252
          ],
          [
           94
          ],
          [
           538
          ],
          [
           341
          ]
         ],
         "hovertemplate": "Cluster=Cluster 4<br>PCA1=%{x}<br>PCA2=%{y}<br>Feature=%{customdata[0]}<extra></extra>",
         "legendgroup": "Cluster 4",
         "marker": {
          "color": "#FFA15A",
          "opacity": 0.5,
          "symbol": "circle"
         },
         "mode": "markers",
         "name": "Cluster 4",
         "orientation": "v",
         "showlegend": true,
         "textposition": "top center",
         "type": "scatter",
         "x": [
          -33.622028252807624,
          40.59005197872547,
          -15.262912128553644,
          141.3420971707394,
          -179.43894104404214,
          -64.5633078928541,
          155.960713289665,
          -48.749214049660374,
          -106.24322738285646,
          -189.7807716610725,
          -91.68965988175275,
          95.93824774155297,
          142.29288044368948,
          142.67608542029015,
          31.994232257525578,
          36.750793062639,
          36.64207593204071,
          -94.42814117951681,
          1.1795350546349437,
          6.589925901556254,
          28.794673288015954,
          41.88350109302706,
          36.165883701418444,
          146.22785885306197,
          34.60047881565466,
          37.74233071140134,
          76.44325815296853,
          144.67493314362937,
          -97.21934242940493,
          106.70920968178272,
          143.14626705578476,
          -107.56785702228868,
          -87.89039329626434,
          11.277618085378416,
          -51.89965502402551,
          111.38787771691524,
          54.04258978866605,
          24.33078390909167,
          -38.15243979001904,
          136.06936942860483,
          27.057575574262085,
          -91.09289410945108,
          -101.88925519579243,
          144.1528667787096,
          -164.96609827751337,
          27.859909281082647,
          -124.1549874790839,
          -74.76216985089688,
          -89.7513290797394,
          101.54330062029267,
          140.68504963105178,
          30.932460157692233,
          -179.11121788917094,
          -133.44973630542427,
          -41.630501019803546,
          142.37484448467998,
          -137.574058383608,
          43.78413248894777,
          37.26283693078087,
          -98.16658809070299,
          -135.43722692459258,
          -84.00941826831726,
          51.16418575207589
         ],
         "xaxis": "x",
         "y": [
          142.02979155191593,
          252.93478200565013,
          171.50894173530327,
          167.06913466062642,
          395.3842040057999,
          207.830977759291,
          294.0715543137979,
          108.22094048330011,
          167.47955143010307,
          285.432546667717,
          222.5968544721282,
          169.97138429869597,
          166.08269243278824,
          165.40905233108822,
          177.34437013860622,
          182.98045714807293,
          180.3793796433264,
          118.52522985271526,
          134.22205991592696,
          144.19382523690516,
          153.83515786529057,
          252.37593928529316,
          175.58635049812946,
          251.72046617368102,
          285.7200737841346,
          285.25191836364985,
          150.00705891880634,
          165.21804891652295,
          188.32915575086568,
          280.018855487041,
          254.73913863986832,
          167.96531161809506,
          224.0303432276587,
          158.69492705395749,
          260.2019147003832,
          165.99985650167352,
          373.9553012520063,
          178.7515753671872,
          215.85763685685185,
          167.53689050042277,
          153.65415777504313,
          272.6235807602596,
          113.63133951456155,
          241.85625533331185,
          209.34295519976052,
          178.43492954550757,
          126.80973638712193,
          98.92430881394218,
          275.4667892761745,
          200.40591196958832,
          165.59834588429945,
          176.1482555944755,
          395.2289878598807,
          193.44775350919488,
          156.9086016724569,
          254.61223137409715,
          203.21877728779228,
          265.14135966814183,
          174.23187625167574,
          115.25343325673559,
          193.47403690213807,
          226.98156164765535,
          362.89731465592274
         ],
         "yaxis": "y"
        }
       ],
       "layout": {
        "height": 600,
        "legend": {
         "title": {
          "text": "Cluster"
         },
         "tracegroupgap": 0
        },
        "margin": {
         "t": 60
        },
        "plot_bgcolor": "rgb(240,240,240)",
        "template": {
         "data": {
          "bar": [
           {
            "error_x": {
             "color": "#2a3f5f"
            },
            "error_y": {
             "color": "#2a3f5f"
            },
            "marker": {
             "line": {
              "color": "#E5ECF6",
              "width": 0.5
             },
             "pattern": {
              "fillmode": "overlay",
              "size": 10,
              "solidity": 0.2
             }
            },
            "type": "bar"
           }
          ],
          "barpolar": [
           {
            "marker": {
             "line": {
              "color": "#E5ECF6",
              "width": 0.5
             },
             "pattern": {
              "fillmode": "overlay",
              "size": 10,
              "solidity": 0.2
             }
            },
            "type": "barpolar"
           }
          ],
          "carpet": [
           {
            "aaxis": {
             "endlinecolor": "#2a3f5f",
             "gridcolor": "white",
             "linecolor": "white",
             "minorgridcolor": "white",
             "startlinecolor": "#2a3f5f"
            },
            "baxis": {
             "endlinecolor": "#2a3f5f",
             "gridcolor": "white",
             "linecolor": "white",
             "minorgridcolor": "white",
             "startlinecolor": "#2a3f5f"
            },
            "type": "carpet"
           }
          ],
          "choropleth": [
           {
            "colorbar": {
             "outlinewidth": 0,
             "ticks": ""
            },
            "type": "choropleth"
           }
          ],
          "contour": [
           {
            "colorbar": {
             "outlinewidth": 0,
             "ticks": ""
            },
            "colorscale": [
             [
              0,
              "#0d0887"
             ],
             [
              0.1111111111111111,
              "#46039f"
             ],
             [
              0.2222222222222222,
              "#7201a8"
             ],
             [
              0.3333333333333333,
              "#9c179e"
             ],
             [
              0.4444444444444444,
              "#bd3786"
             ],
             [
              0.5555555555555556,
              "#d8576b"
             ],
             [
              0.6666666666666666,
              "#ed7953"
             ],
             [
              0.7777777777777778,
              "#fb9f3a"
             ],
             [
              0.8888888888888888,
              "#fdca26"
             ],
             [
              1,
              "#f0f921"
             ]
            ],
            "type": "contour"
           }
          ],
          "contourcarpet": [
           {
            "colorbar": {
             "outlinewidth": 0,
             "ticks": ""
            },
            "type": "contourcarpet"
           }
          ],
          "heatmap": [
           {
            "colorbar": {
             "outlinewidth": 0,
             "ticks": ""
            },
            "colorscale": [
             [
              0,
              "#0d0887"
             ],
             [
              0.1111111111111111,
              "#46039f"
             ],
             [
              0.2222222222222222,
              "#7201a8"
             ],
             [
              0.3333333333333333,
              "#9c179e"
             ],
             [
              0.4444444444444444,
              "#bd3786"
             ],
             [
              0.5555555555555556,
              "#d8576b"
             ],
             [
              0.6666666666666666,
              "#ed7953"
             ],
             [
              0.7777777777777778,
              "#fb9f3a"
             ],
             [
              0.8888888888888888,
              "#fdca26"
             ],
             [
              1,
              "#f0f921"
             ]
            ],
            "type": "heatmap"
           }
          ],
          "heatmapgl": [
           {
            "colorbar": {
             "outlinewidth": 0,
             "ticks": ""
            },
            "colorscale": [
             [
              0,
              "#0d0887"
             ],
             [
              0.1111111111111111,
              "#46039f"
             ],
             [
              0.2222222222222222,
              "#7201a8"
             ],
             [
              0.3333333333333333,
              "#9c179e"
             ],
             [
              0.4444444444444444,
              "#bd3786"
             ],
             [
              0.5555555555555556,
              "#d8576b"
             ],
             [
              0.6666666666666666,
              "#ed7953"
             ],
             [
              0.7777777777777778,
              "#fb9f3a"
             ],
             [
              0.8888888888888888,
              "#fdca26"
             ],
             [
              1,
              "#f0f921"
             ]
            ],
            "type": "heatmapgl"
           }
          ],
          "histogram": [
           {
            "marker": {
             "pattern": {
              "fillmode": "overlay",
              "size": 10,
              "solidity": 0.2
             }
            },
            "type": "histogram"
           }
          ],
          "histogram2d": [
           {
            "colorbar": {
             "outlinewidth": 0,
             "ticks": ""
            },
            "colorscale": [
             [
              0,
              "#0d0887"
             ],
             [
              0.1111111111111111,
              "#46039f"
             ],
             [
              0.2222222222222222,
              "#7201a8"
             ],
             [
              0.3333333333333333,
              "#9c179e"
             ],
             [
              0.4444444444444444,
              "#bd3786"
             ],
             [
              0.5555555555555556,
              "#d8576b"
             ],
             [
              0.6666666666666666,
              "#ed7953"
             ],
             [
              0.7777777777777778,
              "#fb9f3a"
             ],
             [
              0.8888888888888888,
              "#fdca26"
             ],
             [
              1,
              "#f0f921"
             ]
            ],
            "type": "histogram2d"
           }
          ],
          "histogram2dcontour": [
           {
            "colorbar": {
             "outlinewidth": 0,
             "ticks": ""
            },
            "colorscale": [
             [
              0,
              "#0d0887"
             ],
             [
              0.1111111111111111,
              "#46039f"
             ],
             [
              0.2222222222222222,
              "#7201a8"
             ],
             [
              0.3333333333333333,
              "#9c179e"
             ],
             [
              0.4444444444444444,
              "#bd3786"
             ],
             [
              0.5555555555555556,
              "#d8576b"
             ],
             [
              0.6666666666666666,
              "#ed7953"
             ],
             [
              0.7777777777777778,
              "#fb9f3a"
             ],
             [
              0.8888888888888888,
              "#fdca26"
             ],
             [
              1,
              "#f0f921"
             ]
            ],
            "type": "histogram2dcontour"
           }
          ],
          "mesh3d": [
           {
            "colorbar": {
             "outlinewidth": 0,
             "ticks": ""
            },
            "type": "mesh3d"
           }
          ],
          "parcoords": [
           {
            "line": {
             "colorbar": {
              "outlinewidth": 0,
              "ticks": ""
             }
            },
            "type": "parcoords"
           }
          ],
          "pie": [
           {
            "automargin": true,
            "type": "pie"
           }
          ],
          "scatter": [
           {
            "fillpattern": {
             "fillmode": "overlay",
             "size": 10,
             "solidity": 0.2
            },
            "type": "scatter"
           }
          ],
          "scatter3d": [
           {
            "line": {
             "colorbar": {
              "outlinewidth": 0,
              "ticks": ""
             }
            },
            "marker": {
             "colorbar": {
              "outlinewidth": 0,
              "ticks": ""
             }
            },
            "type": "scatter3d"
           }
          ],
          "scattercarpet": [
           {
            "marker": {
             "colorbar": {
              "outlinewidth": 0,
              "ticks": ""
             }
            },
            "type": "scattercarpet"
           }
          ],
          "scattergeo": [
           {
            "marker": {
             "colorbar": {
              "outlinewidth": 0,
              "ticks": ""
             }
            },
            "type": "scattergeo"
           }
          ],
          "scattergl": [
           {
            "marker": {
             "colorbar": {
              "outlinewidth": 0,
              "ticks": ""
             }
            },
            "type": "scattergl"
           }
          ],
          "scattermapbox": [
           {
            "marker": {
             "colorbar": {
              "outlinewidth": 0,
              "ticks": ""
             }
            },
            "type": "scattermapbox"
           }
          ],
          "scatterpolar": [
           {
            "marker": {
             "colorbar": {
              "outlinewidth": 0,
              "ticks": ""
             }
            },
            "type": "scatterpolar"
           }
          ],
          "scatterpolargl": [
           {
            "marker": {
             "colorbar": {
              "outlinewidth": 0,
              "ticks": ""
             }
            },
            "type": "scatterpolargl"
           }
          ],
          "scatterternary": [
           {
            "marker": {
             "colorbar": {
              "outlinewidth": 0,
              "ticks": ""
             }
            },
            "type": "scatterternary"
           }
          ],
          "surface": [
           {
            "colorbar": {
             "outlinewidth": 0,
             "ticks": ""
            },
            "colorscale": [
             [
              0,
              "#0d0887"
             ],
             [
              0.1111111111111111,
              "#46039f"
             ],
             [
              0.2222222222222222,
              "#7201a8"
             ],
             [
              0.3333333333333333,
              "#9c179e"
             ],
             [
              0.4444444444444444,
              "#bd3786"
             ],
             [
              0.5555555555555556,
              "#d8576b"
             ],
             [
              0.6666666666666666,
              "#ed7953"
             ],
             [
              0.7777777777777778,
              "#fb9f3a"
             ],
             [
              0.8888888888888888,
              "#fdca26"
             ],
             [
              1,
              "#f0f921"
             ]
            ],
            "type": "surface"
           }
          ],
          "table": [
           {
            "cells": {
             "fill": {
              "color": "#EBF0F8"
             },
             "line": {
              "color": "white"
             }
            },
            "header": {
             "fill": {
              "color": "#C8D4E3"
             },
             "line": {
              "color": "white"
             }
            },
            "type": "table"
           }
          ]
         },
         "layout": {
          "annotationdefaults": {
           "arrowcolor": "#2a3f5f",
           "arrowhead": 0,
           "arrowwidth": 1
          },
          "autotypenumbers": "strict",
          "coloraxis": {
           "colorbar": {
            "outlinewidth": 0,
            "ticks": ""
           }
          },
          "colorscale": {
           "diverging": [
            [
             0,
             "#8e0152"
            ],
            [
             0.1,
             "#c51b7d"
            ],
            [
             0.2,
             "#de77ae"
            ],
            [
             0.3,
             "#f1b6da"
            ],
            [
             0.4,
             "#fde0ef"
            ],
            [
             0.5,
             "#f7f7f7"
            ],
            [
             0.6,
             "#e6f5d0"
            ],
            [
             0.7,
             "#b8e186"
            ],
            [
             0.8,
             "#7fbc41"
            ],
            [
             0.9,
             "#4d9221"
            ],
            [
             1,
             "#276419"
            ]
           ],
           "sequential": [
            [
             0,
             "#0d0887"
            ],
            [
             0.1111111111111111,
             "#46039f"
            ],
            [
             0.2222222222222222,
             "#7201a8"
            ],
            [
             0.3333333333333333,
             "#9c179e"
            ],
            [
             0.4444444444444444,
             "#bd3786"
            ],
            [
             0.5555555555555556,
             "#d8576b"
            ],
            [
             0.6666666666666666,
             "#ed7953"
            ],
            [
             0.7777777777777778,
             "#fb9f3a"
            ],
            [
             0.8888888888888888,
             "#fdca26"
            ],
            [
             1,
             "#f0f921"
            ]
           ],
           "sequentialminus": [
            [
             0,
             "#0d0887"
            ],
            [
             0.1111111111111111,
             "#46039f"
            ],
            [
             0.2222222222222222,
             "#7201a8"
            ],
            [
             0.3333333333333333,
             "#9c179e"
            ],
            [
             0.4444444444444444,
             "#bd3786"
            ],
            [
             0.5555555555555556,
             "#d8576b"
            ],
            [
             0.6666666666666666,
             "#ed7953"
            ],
            [
             0.7777777777777778,
             "#fb9f3a"
            ],
            [
             0.8888888888888888,
             "#fdca26"
            ],
            [
             1,
             "#f0f921"
            ]
           ]
          },
          "colorway": [
           "#636efa",
           "#EF553B",
           "#00cc96",
           "#ab63fa",
           "#FFA15A",
           "#19d3f3",
           "#FF6692",
           "#B6E880",
           "#FF97FF",
           "#FECB52"
          ],
          "font": {
           "color": "#2a3f5f"
          },
          "geo": {
           "bgcolor": "white",
           "lakecolor": "white",
           "landcolor": "#E5ECF6",
           "showlakes": true,
           "showland": true,
           "subunitcolor": "white"
          },
          "hoverlabel": {
           "align": "left"
          },
          "hovermode": "closest",
          "mapbox": {
           "style": "light"
          },
          "paper_bgcolor": "white",
          "plot_bgcolor": "#E5ECF6",
          "polar": {
           "angularaxis": {
            "gridcolor": "white",
            "linecolor": "white",
            "ticks": ""
           },
           "bgcolor": "#E5ECF6",
           "radialaxis": {
            "gridcolor": "white",
            "linecolor": "white",
            "ticks": ""
           }
          },
          "scene": {
           "xaxis": {
            "backgroundcolor": "#E5ECF6",
            "gridcolor": "white",
            "gridwidth": 2,
            "linecolor": "white",
            "showbackground": true,
            "ticks": "",
            "zerolinecolor": "white"
           },
           "yaxis": {
            "backgroundcolor": "#E5ECF6",
            "gridcolor": "white",
            "gridwidth": 2,
            "linecolor": "white",
            "showbackground": true,
            "ticks": "",
            "zerolinecolor": "white"
           },
           "zaxis": {
            "backgroundcolor": "#E5ECF6",
            "gridcolor": "white",
            "gridwidth": 2,
            "linecolor": "white",
            "showbackground": true,
            "ticks": "",
            "zerolinecolor": "white"
           }
          },
          "shapedefaults": {
           "line": {
            "color": "#2a3f5f"
           }
          },
          "ternary": {
           "aaxis": {
            "gridcolor": "white",
            "linecolor": "white",
            "ticks": ""
           },
           "baxis": {
            "gridcolor": "white",
            "linecolor": "white",
            "ticks": ""
           },
           "bgcolor": "#E5ECF6",
           "caxis": {
            "gridcolor": "white",
            "linecolor": "white",
            "ticks": ""
           }
          },
          "title": {
           "x": 0.05
          },
          "xaxis": {
           "automargin": true,
           "gridcolor": "white",
           "linecolor": "white",
           "ticks": "",
           "title": {
            "standoff": 15
           },
           "zerolinecolor": "white",
           "zerolinewidth": 2
          },
          "yaxis": {
           "automargin": true,
           "gridcolor": "white",
           "linecolor": "white",
           "ticks": "",
           "title": {
            "standoff": 15
           },
           "zerolinecolor": "white",
           "zerolinewidth": 2
          }
         }
        },
        "title": {
         "text": "2D Cluster PCA Plot"
        },
        "xaxis": {
         "anchor": "y",
         "domain": [
          0,
          1
         ],
         "title": {
          "text": "PCA1"
         }
        },
        "yaxis": {
         "anchor": "x",
         "domain": [
          0,
          1
         ],
         "title": {
          "text": "PCA2"
         }
        }
       }
      }
     },
     "metadata": {},
     "output_type": "display_data"
    }
   ],
   "source": [
    "plot_model(kmeans)"
   ]
  },
  {
   "cell_type": "code",
   "execution_count": 72,
   "metadata": {
    "colab": {
     "base_uri": "https://localhost:8080/",
     "height": 524
    },
    "executionInfo": {
     "elapsed": 5528,
     "status": "ok",
     "timestamp": 1727959872240,
     "user": {
      "displayName": "Park Chan Hee",
      "userId": "12253724632409422807"
     },
     "user_tz": -540
    },
    "id": "JstNwndICM16",
    "outputId": "6eb8e16b-6f8b-403f-c1cb-0f06cdcd219d"
   },
   "outputs": [
    {
     "data": {
      "text/html": [],
      "text/plain": [
       "<IPython.core.display.HTML object>"
      ]
     },
     "metadata": {},
     "output_type": "display_data"
    },
    {
     "data": {
      "image/png": "[encoded data removed]",
      "text/plain": [
       "<Figure size 800x550 with 1 Axes>"
      ]
     },
     "metadata": {},
     "output_type": "display_data"
    }
   ],
   "source": [
    "plot_model(kmeans, plot = 'elbow')"
   ]
  },
  {
   "cell_type": "code",
   "execution_count": 73,
   "metadata": {
    "colab": {
     "base_uri": "https://localhost:8080/",
     "height": 524
    },
    "executionInfo": {
     "elapsed": 1181,
     "status": "ok",
     "timestamp": 1727959873418,
     "user": {
      "displayName": "Park Chan Hee",
      "userId": "12253724632409422807"
     },
     "user_tz": -540
    },
    "id": "9z7LaTx2-1tR",
    "outputId": "5eb11cc7-142b-4af4-cc28-356197d81c57"
   },
   "outputs": [
    {
     "data": {
      "text/html": [],
      "text/plain": [
       "<IPython.core.display.HTML object>"
      ]
     },
     "metadata": {},
     "output_type": "display_data"
    },
    {
     "data": {
      "image/png": "[encoded data removed]",
      "text/plain": [
       "<Figure size 800x550 with 1 Axes>"
      ]
     },
     "metadata": {},
     "output_type": "display_data"
    }
   ],
   "source": [
    "plot_model(kmeans, plot='silhouette')\n",
    "# 각 군집별 샘플의 실루엣 계수를 오름차순으로 이어서 plot\n",
    "# 실루엣 스코어높을수록\n",
    "# 개별 군집의 실루엣 계수의 평균값의 편차가 작을수록"
   ]
  },
  {
   "cell_type": "code",
   "execution_count": 85,
   "metadata": {
    "id": "tbIJ5Na0CdpZ"
   },
   "outputs": [],
   "source": [
    "# 예측 수행\n",
    "pred_new = predict_model(kmeans, data=data_test)\n",
    "pred_new.insert(1, 'Name', data_test['Name'])"
   ]
  },
  {
   "cell_type": "code",
   "execution_count": 86,
   "metadata": {
    "colab": {
     "base_uri": "https://localhost:8080/"
    },
    "executionInfo": {
     "elapsed": 5,
     "status": "ok",
     "timestamp": 1727959875001,
     "user": {
      "displayName": "Park Chan Hee",
      "userId": "12253724632409422807"
     },
     "user_tz": -540
    },
    "id": "91yt2e0k-Q4T",
    "outputId": "b557f954-3fd0-4fe6-9846-0d99ab537e1a"
   },
   "outputs": [
    {
     "data": {
      "text/html": [
       "<div>\n",
       "<style scoped>\n",
       "    .dataframe tbody tr th:only-of-type {\n",
       "        vertical-align: middle;\n",
       "    }\n",
       "\n",
       "    .dataframe tbody tr th {\n",
       "        vertical-align: top;\n",
       "    }\n",
       "\n",
       "    .dataframe thead th {\n",
       "        text-align: right;\n",
       "    }\n",
       "</style>\n",
       "<table border=\"1\" class=\"dataframe\">\n",
       "  <thead>\n",
       "    <tr style=\"text-align: right;\">\n",
       "      <th></th>\n",
       "      <th>#</th>\n",
       "      <th>Name</th>\n",
       "      <th>Type 1_Fire</th>\n",
       "      <th>Type 1_Psychic</th>\n",
       "      <th>Type 1_Water</th>\n",
       "      <th>Type 1_Normal</th>\n",
       "      <th>Type 1_Ghost</th>\n",
       "      <th>Type 1_Electric</th>\n",
       "      <th>Type 1_Dragon</th>\n",
       "      <th>Type 1_Grass</th>\n",
       "      <th>...</th>\n",
       "      <th>Total</th>\n",
       "      <th>HP</th>\n",
       "      <th>Attack</th>\n",
       "      <th>Defense</th>\n",
       "      <th>Sp. Atk</th>\n",
       "      <th>Sp. Def</th>\n",
       "      <th>Speed</th>\n",
       "      <th>Generation</th>\n",
       "      <th>Legendary</th>\n",
       "      <th>Cluster</th>\n",
       "    </tr>\n",
       "  </thead>\n",
       "  <tbody>\n",
       "    <tr>\n",
       "      <th>238</th>\n",
       "      <td>220.0</td>\n",
       "      <td>Swinub</td>\n",
       "      <td>0.0</td>\n",
       "      <td>0.0</td>\n",
       "      <td>0.0</td>\n",
       "      <td>0.0</td>\n",
       "      <td>0.0</td>\n",
       "      <td>0.0</td>\n",
       "      <td>0.0</td>\n",
       "      <td>0.0</td>\n",
       "      <td>...</td>\n",
       "      <td>250.0</td>\n",
       "      <td>50.0</td>\n",
       "      <td>50.0</td>\n",
       "      <td>40.0</td>\n",
       "      <td>30.0</td>\n",
       "      <td>30.0</td>\n",
       "      <td>50.0</td>\n",
       "      <td>2.0</td>\n",
       "      <td>False</td>\n",
       "      <td>Cluster 1</td>\n",
       "    </tr>\n",
       "    <tr>\n",
       "      <th>53</th>\n",
       "      <td>48.0</td>\n",
       "      <td>Venonat</td>\n",
       "      <td>0.0</td>\n",
       "      <td>0.0</td>\n",
       "      <td>0.0</td>\n",
       "      <td>0.0</td>\n",
       "      <td>0.0</td>\n",
       "      <td>0.0</td>\n",
       "      <td>0.0</td>\n",
       "      <td>0.0</td>\n",
       "      <td>...</td>\n",
       "      <td>305.0</td>\n",
       "      <td>60.0</td>\n",
       "      <td>55.0</td>\n",
       "      <td>50.0</td>\n",
       "      <td>40.0</td>\n",
       "      <td>55.0</td>\n",
       "      <td>45.0</td>\n",
       "      <td>1.0</td>\n",
       "      <td>False</td>\n",
       "      <td>Cluster 2</td>\n",
       "    </tr>\n",
       "    <tr>\n",
       "      <th>354</th>\n",
       "      <td>323.0</td>\n",
       "      <td>CameruptMega Camerupt</td>\n",
       "      <td>1.0</td>\n",
       "      <td>0.0</td>\n",
       "      <td>0.0</td>\n",
       "      <td>0.0</td>\n",
       "      <td>0.0</td>\n",
       "      <td>0.0</td>\n",
       "      <td>0.0</td>\n",
       "      <td>0.0</td>\n",
       "      <td>...</td>\n",
       "      <td>560.0</td>\n",
       "      <td>70.0</td>\n",
       "      <td>120.0</td>\n",
       "      <td>100.0</td>\n",
       "      <td>145.0</td>\n",
       "      <td>105.0</td>\n",
       "      <td>20.0</td>\n",
       "      <td>3.0</td>\n",
       "      <td>False</td>\n",
       "      <td>Cluster 4</td>\n",
       "    </tr>\n",
       "    <tr>\n",
       "      <th>166</th>\n",
       "      <td>152.0</td>\n",
       "      <td>Chikorita</td>\n",
       "      <td>0.0</td>\n",
       "      <td>0.0</td>\n",
       "      <td>0.0</td>\n",
       "      <td>0.0</td>\n",
       "      <td>0.0</td>\n",
       "      <td>0.0</td>\n",
       "      <td>0.0</td>\n",
       "      <td>1.0</td>\n",
       "      <td>...</td>\n",
       "      <td>318.0</td>\n",
       "      <td>45.0</td>\n",
       "      <td>49.0</td>\n",
       "      <td>65.0</td>\n",
       "      <td>49.0</td>\n",
       "      <td>65.0</td>\n",
       "      <td>45.0</td>\n",
       "      <td>2.0</td>\n",
       "      <td>False</td>\n",
       "      <td>Cluster 2</td>\n",
       "    </tr>\n",
       "    <tr>\n",
       "      <th>627</th>\n",
       "      <td>566.0</td>\n",
       "      <td>Archen</td>\n",
       "      <td>0.0</td>\n",
       "      <td>0.0</td>\n",
       "      <td>0.0</td>\n",
       "      <td>0.0</td>\n",
       "      <td>0.0</td>\n",
       "      <td>0.0</td>\n",
       "      <td>0.0</td>\n",
       "      <td>0.0</td>\n",
       "      <td>...</td>\n",
       "      <td>401.0</td>\n",
       "      <td>55.0</td>\n",
       "      <td>112.0</td>\n",
       "      <td>45.0</td>\n",
       "      <td>74.0</td>\n",
       "      <td>45.0</td>\n",
       "      <td>70.0</td>\n",
       "      <td>5.0</td>\n",
       "      <td>False</td>\n",
       "      <td>Cluster 0</td>\n",
       "    </tr>\n",
       "    <tr>\n",
       "      <th>...</th>\n",
       "      <td>...</td>\n",
       "      <td>...</td>\n",
       "      <td>...</td>\n",
       "      <td>...</td>\n",
       "      <td>...</td>\n",
       "      <td>...</td>\n",
       "      <td>...</td>\n",
       "      <td>...</td>\n",
       "      <td>...</td>\n",
       "      <td>...</td>\n",
       "      <td>...</td>\n",
       "      <td>...</td>\n",
       "      <td>...</td>\n",
       "      <td>...</td>\n",
       "      <td>...</td>\n",
       "      <td>...</td>\n",
       "      <td>...</td>\n",
       "      <td>...</td>\n",
       "      <td>...</td>\n",
       "      <td>...</td>\n",
       "      <td>...</td>\n",
       "    </tr>\n",
       "    <tr>\n",
       "      <th>267</th>\n",
       "      <td>248.0</td>\n",
       "      <td>Tyranitar</td>\n",
       "      <td>0.0</td>\n",
       "      <td>0.0</td>\n",
       "      <td>0.0</td>\n",
       "      <td>0.0</td>\n",
       "      <td>0.0</td>\n",
       "      <td>0.0</td>\n",
       "      <td>0.0</td>\n",
       "      <td>0.0</td>\n",
       "      <td>...</td>\n",
       "      <td>600.0</td>\n",
       "      <td>100.0</td>\n",
       "      <td>134.0</td>\n",
       "      <td>110.0</td>\n",
       "      <td>95.0</td>\n",
       "      <td>100.0</td>\n",
       "      <td>61.0</td>\n",
       "      <td>2.0</td>\n",
       "      <td>False</td>\n",
       "      <td>Cluster 4</td>\n",
       "    </tr>\n",
       "    <tr>\n",
       "      <th>113</th>\n",
       "      <td>105.0</td>\n",
       "      <td>Marowak</td>\n",
       "      <td>0.0</td>\n",
       "      <td>0.0</td>\n",
       "      <td>0.0</td>\n",
       "      <td>0.0</td>\n",
       "      <td>0.0</td>\n",
       "      <td>0.0</td>\n",
       "      <td>0.0</td>\n",
       "      <td>0.0</td>\n",
       "      <td>...</td>\n",
       "      <td>425.0</td>\n",
       "      <td>60.0</td>\n",
       "      <td>80.0</td>\n",
       "      <td>110.0</td>\n",
       "      <td>50.0</td>\n",
       "      <td>80.0</td>\n",
       "      <td>45.0</td>\n",
       "      <td>1.0</td>\n",
       "      <td>False</td>\n",
       "      <td>Cluster 2</td>\n",
       "    </tr>\n",
       "    <tr>\n",
       "      <th>462</th>\n",
       "      <td>415.0</td>\n",
       "      <td>Combee</td>\n",
       "      <td>0.0</td>\n",
       "      <td>0.0</td>\n",
       "      <td>0.0</td>\n",
       "      <td>0.0</td>\n",
       "      <td>0.0</td>\n",
       "      <td>0.0</td>\n",
       "      <td>0.0</td>\n",
       "      <td>0.0</td>\n",
       "      <td>...</td>\n",
       "      <td>244.0</td>\n",
       "      <td>30.0</td>\n",
       "      <td>30.0</td>\n",
       "      <td>42.0</td>\n",
       "      <td>30.0</td>\n",
       "      <td>42.0</td>\n",
       "      <td>70.0</td>\n",
       "      <td>4.0</td>\n",
       "      <td>False</td>\n",
       "      <td>Cluster 1</td>\n",
       "    </tr>\n",
       "    <tr>\n",
       "      <th>307</th>\n",
       "      <td>283.0</td>\n",
       "      <td>Surskit</td>\n",
       "      <td>0.0</td>\n",
       "      <td>0.0</td>\n",
       "      <td>0.0</td>\n",
       "      <td>0.0</td>\n",
       "      <td>0.0</td>\n",
       "      <td>0.0</td>\n",
       "      <td>0.0</td>\n",
       "      <td>0.0</td>\n",
       "      <td>...</td>\n",
       "      <td>269.0</td>\n",
       "      <td>40.0</td>\n",
       "      <td>30.0</td>\n",
       "      <td>32.0</td>\n",
       "      <td>50.0</td>\n",
       "      <td>52.0</td>\n",
       "      <td>65.0</td>\n",
       "      <td>3.0</td>\n",
       "      <td>False</td>\n",
       "      <td>Cluster 1</td>\n",
       "    </tr>\n",
       "    <tr>\n",
       "      <th>27</th>\n",
       "      <td>22.0</td>\n",
       "      <td>Fearow</td>\n",
       "      <td>0.0</td>\n",
       "      <td>0.0</td>\n",
       "      <td>0.0</td>\n",
       "      <td>1.0</td>\n",
       "      <td>0.0</td>\n",
       "      <td>0.0</td>\n",
       "      <td>0.0</td>\n",
       "      <td>0.0</td>\n",
       "      <td>...</td>\n",
       "      <td>442.0</td>\n",
       "      <td>65.0</td>\n",
       "      <td>90.0</td>\n",
       "      <td>65.0</td>\n",
       "      <td>61.0</td>\n",
       "      <td>61.0</td>\n",
       "      <td>100.0</td>\n",
       "      <td>1.0</td>\n",
       "      <td>False</td>\n",
       "      <td>Cluster 2</td>\n",
       "    </tr>\n",
       "  </tbody>\n",
       "</table>\n",
       "<p>160 rows × 48 columns</p>\n",
       "</div>"
      ],
      "text/plain": [
       "         #                   Name  Type 1_Fire  Type 1_Psychic  Type 1_Water  \\\n",
       "238  220.0                 Swinub          0.0             0.0           0.0   \n",
       "53    48.0                Venonat          0.0             0.0           0.0   \n",
       "354  323.0  CameruptMega Camerupt          1.0             0.0           0.0   \n",
       "166  152.0              Chikorita          0.0             0.0           0.0   \n",
       "627  566.0                 Archen          0.0             0.0           0.0   \n",
       "..     ...                    ...          ...             ...           ...   \n",
       "267  248.0              Tyranitar          0.0             0.0           0.0   \n",
       "113  105.0                Marowak          0.0             0.0           0.0   \n",
       "462  415.0                 Combee          0.0             0.0           0.0   \n",
       "307  283.0                Surskit          0.0             0.0           0.0   \n",
       "27    22.0                 Fearow          0.0             0.0           0.0   \n",
       "\n",
       "     Type 1_Normal  Type 1_Ghost  Type 1_Electric  Type 1_Dragon  \\\n",
       "238            0.0           0.0              0.0            0.0   \n",
       "53             0.0           0.0              0.0            0.0   \n",
       "354            0.0           0.0              0.0            0.0   \n",
       "166            0.0           0.0              0.0            0.0   \n",
       "627            0.0           0.0              0.0            0.0   \n",
       "..             ...           ...              ...            ...   \n",
       "267            0.0           0.0              0.0            0.0   \n",
       "113            0.0           0.0              0.0            0.0   \n",
       "462            0.0           0.0              0.0            0.0   \n",
       "307            0.0           0.0              0.0            0.0   \n",
       "27             1.0           0.0              0.0            0.0   \n",
       "\n",
       "     Type 1_Grass  ...  Total     HP  Attack  Defense  Sp. Atk  Sp. Def  \\\n",
       "238           0.0  ...  250.0   50.0    50.0     40.0     30.0     30.0   \n",
       "53            0.0  ...  305.0   60.0    55.0     50.0     40.0     55.0   \n",
       "354           0.0  ...  560.0   70.0   120.0    100.0    145.0    105.0   \n",
       "166           1.0  ...  318.0   45.0    49.0     65.0     49.0     65.0   \n",
       "627           0.0  ...  401.0   55.0   112.0     45.0     74.0     45.0   \n",
       "..            ...  ...    ...    ...     ...      ...      ...      ...   \n",
       "267           0.0  ...  600.0  100.0   134.0    110.0     95.0    100.0   \n",
       "113           0.0  ...  425.0   60.0    80.0    110.0     50.0     80.0   \n",
       "462           0.0  ...  244.0   30.0    30.0     42.0     30.0     42.0   \n",
       "307           0.0  ...  269.0   40.0    30.0     32.0     50.0     52.0   \n",
       "27            0.0  ...  442.0   65.0    90.0     65.0     61.0     61.0   \n",
       "\n",
       "     Speed  Generation  Legendary    Cluster  \n",
       "238   50.0         2.0      False  Cluster 1  \n",
       "53    45.0         1.0      False  Cluster 2  \n",
       "354   20.0         3.0      False  Cluster 4  \n",
       "166   45.0         2.0      False  Cluster 2  \n",
       "627   70.0         5.0      False  Cluster 0  \n",
       "..     ...         ...        ...        ...  \n",
       "267   61.0         2.0      False  Cluster 4  \n",
       "113   45.0         1.0      False  Cluster 2  \n",
       "462   70.0         4.0      False  Cluster 1  \n",
       "307   65.0         3.0      False  Cluster 1  \n",
       "27   100.0         1.0      False  Cluster 2  \n",
       "\n",
       "[160 rows x 48 columns]"
      ]
     },
     "execution_count": 86,
     "metadata": {},
     "output_type": "execute_result"
    }
   ],
   "source": [
    "pred_new"
   ]
  }
 ],
 "metadata": {
  "accelerator": "GPU",
  "colab": {
   "authorship_tag": "ABX9TyMcy37KqWIvL2yjOk19cyZ8",
   "collapsed_sections": [
    "5NCwV01ODK0W",
    "9Xqi96tdeELQ",
    "pWWIZbyrbKRP",
    "MY46k9KpoixZ",
    "I5BuF4utC2qN",
    "J_-b8CLGKDwe",
    "YSQmQi3MspQy",
    "9-gVUedissEg",
    "kRRSCLluInK4",
    "3JMUbrJryM28",
    "nh0h-tePUbuA"
   ],
   "gpuType": "T4",
   "provenance": [
    {
     "file_id": "1xtEVE7NAhnHRUCfJi9BSi1d4DBNb1OpL",
     "timestamp": 1726567446622
    },
    {
     "file_id": "1uHJOOtvv7mDySFQOWgokAiq1LphJz5Tu",
     "timestamp": 1726557514676
    }
   ]
  },
  "kernelspec": {
   "display_name": "..venv",
   "language": "python",
   "name": "python3"
  },
  "language_info": {
   "codemirror_mode": {
    "name": "ipython",
    "version": 3
   },
   "file_extension": ".py",
   "mimetype": "text/x-python",
   "name": "python",
   "nbconvert_exporter": "python",
   "pygments_lexer": "ipython3",
   "version": "3.11.0"
  },
  "widgets": {
   "application/vnd.jupyter.widget-state+json": {
    "10c3403469404b39badcd1ef23f7b0a6": {
     "model_module": "@jupyter-widgets/base",
     "model_module_version": "1.2.0",
     "model_name": "LayoutModel",
     "state": {
      "_model_module": "@jupyter-widgets/base",
      "_model_module_version": "1.2.0",
      "_model_name": "LayoutModel",
      "_view_count": null,
      "_view_module": "@jupyter-widgets/base",
      "_view_module_version": "1.2.0",
      "_view_name": "LayoutView",
      "align_content": null,
      "align_items": null,
      "align_self": null,
      "border": null,
      "bottom": null,
      "display": null,
      "flex": null,
      "flex_flow": null,
      "grid_area": null,
      "grid_auto_columns": null,
      "grid_auto_flow": null,
      "grid_auto_rows": null,
      "grid_column": null,
      "grid_gap": null,
      "grid_row": null,
      "grid_template_areas": null,
      "grid_template_columns": null,
      "grid_template_rows": null,
      "height": null,
      "justify_content": null,
      "justify_items": null,
      "left": null,
      "margin": null,
      "max_height": null,
      "max_width": null,
      "min_height": null,
      "min_width": null,
      "object_fit": null,
      "object_position": null,
      "order": null,
      "overflow": null,
      "overflow_x": null,
      "overflow_y": null,
      "padding": null,
      "right": null,
      "top": null,
      "visibility": null,
      "width": null
     }
    },
    "1ae444473c8e46e497f17251ea2b87d6": {
     "model_module": "@jupyter-widgets/base",
     "model_module_version": "1.2.0",
     "model_name": "LayoutModel",
     "state": {
      "_model_module": "@jupyter-widgets/base",
      "_model_module_version": "1.2.0",
      "_model_name": "LayoutModel",
      "_view_count": null,
      "_view_module": "@jupyter-widgets/base",
      "_view_module_version": "1.2.0",
      "_view_name": "LayoutView",
      "align_content": null,
      "align_items": null,
      "align_self": null,
      "border": null,
      "bottom": null,
      "display": null,
      "flex": null,
      "flex_flow": null,
      "grid_area": null,
      "grid_auto_columns": null,
      "grid_auto_flow": null,
      "grid_auto_rows": null,
      "grid_column": null,
      "grid_gap": null,
      "grid_row": null,
      "grid_template_areas": null,
      "grid_template_columns": null,
      "grid_template_rows": null,
      "height": null,
      "justify_content": null,
      "justify_items": null,
      "left": null,
      "margin": null,
      "max_height": null,
      "max_width": null,
      "min_height": null,
      "min_width": null,
      "object_fit": null,
      "object_position": null,
      "order": null,
      "overflow": null,
      "overflow_x": null,
      "overflow_y": null,
      "padding": null,
      "right": null,
      "top": null,
      "visibility": null,
      "width": null
     }
    },
    "24d4b8eebd854e04912a67515b6da62d": {
     "model_module": "@jupyter-widgets/controls",
     "model_module_version": "1.5.0",
     "model_name": "FloatProgressModel",
     "state": {
      "_dom_classes": [],
      "_model_module": "@jupyter-widgets/controls",
      "_model_module_version": "1.5.0",
      "_model_name": "FloatProgressModel",
      "_view_count": null,
      "_view_module": "@jupyter-widgets/controls",
      "_view_module_version": "1.5.0",
      "_view_name": "ProgressView",
      "bar_style": "",
      "description": "",
      "description_tooltip": null,
      "layout": "IPY_MODEL_10c3403469404b39badcd1ef23f7b0a6",
      "max": 3,
      "min": 0,
      "orientation": "horizontal",
      "style": "IPY_MODEL_f44dd3c267ad4a8ba33a446f83acca2f",
      "value": 3
     }
    },
    "40ad9fab17f64f6c8b8b12888106ff48": {
     "model_module": "@jupyter-widgets/controls",
     "model_module_version": "1.5.0",
     "model_name": "HTMLModel",
     "state": {
      "_dom_classes": [],
      "_model_module": "@jupyter-widgets/controls",
      "_model_module_version": "1.5.0",
      "_model_name": "HTMLModel",
      "_view_count": null,
      "_view_module": "@jupyter-widgets/controls",
      "_view_module_version": "1.5.0",
      "_view_name": "HTMLView",
      "description": "",
      "description_tooltip": null,
      "layout": "IPY_MODEL_1ae444473c8e46e497f17251ea2b87d6",
      "placeholder": "​",
      "style": "IPY_MODEL_df2cc1fdd2d04fa39c98e0ba361164a3",
      "value": " 3/3 [00:01&lt;00:00,  2.14it/s]"
     }
    },
    "5ab58e160e914158be32cc1925d4aa1c": {
     "model_module": "@jupyter-widgets/base",
     "model_module_version": "1.2.0",
     "model_name": "LayoutModel",
     "state": {
      "_model_module": "@jupyter-widgets/base",
      "_model_module_version": "1.2.0",
      "_model_name": "LayoutModel",
      "_view_count": null,
      "_view_module": "@jupyter-widgets/base",
      "_view_module_version": "1.2.0",
      "_view_name": "LayoutView",
      "align_content": null,
      "align_items": null,
      "align_self": null,
      "border": null,
      "bottom": null,
      "display": null,
      "flex": null,
      "flex_flow": null,
      "grid_area": null,
      "grid_auto_columns": null,
      "grid_auto_flow": null,
      "grid_auto_rows": null,
      "grid_column": null,
      "grid_gap": null,
      "grid_row": null,
      "grid_template_areas": null,
      "grid_template_columns": null,
      "grid_template_rows": null,
      "height": null,
      "justify_content": null,
      "justify_items": null,
      "left": null,
      "margin": null,
      "max_height": null,
      "max_width": null,
      "min_height": null,
      "min_width": null,
      "object_fit": null,
      "object_position": null,
      "order": null,
      "overflow": null,
      "overflow_x": null,
      "overflow_y": null,
      "padding": null,
      "right": null,
      "top": null,
      "visibility": "hidden",
      "width": null
     }
    },
    "600177e93d554317a77158108718d0df": {
     "model_module": "@jupyter-widgets/base",
     "model_module_version": "1.2.0",
     "model_name": "LayoutModel",
     "state": {
      "_model_module": "@jupyter-widgets/base",
      "_model_module_version": "1.2.0",
      "_model_name": "LayoutModel",
      "_view_count": null,
      "_view_module": "@jupyter-widgets/base",
      "_view_module_version": "1.2.0",
      "_view_name": "LayoutView",
      "align_content": null,
      "align_items": null,
      "align_self": null,
      "border": null,
      "bottom": null,
      "display": null,
      "flex": null,
      "flex_flow": null,
      "grid_area": null,
      "grid_auto_columns": null,
      "grid_auto_flow": null,
      "grid_auto_rows": null,
      "grid_column": null,
      "grid_gap": null,
      "grid_row": null,
      "grid_template_areas": null,
      "grid_template_columns": null,
      "grid_template_rows": null,
      "height": null,
      "justify_content": null,
      "justify_items": null,
      "left": null,
      "margin": null,
      "max_height": null,
      "max_width": null,
      "min_height": null,
      "min_width": null,
      "object_fit": null,
      "object_position": null,
      "order": null,
      "overflow": null,
      "overflow_x": null,
      "overflow_y": null,
      "padding": null,
      "right": null,
      "top": null,
      "visibility": null,
      "width": null
     }
    },
    "8f5eac1669024650a5c87bbd87db4734": {
     "model_module": "@jupyter-widgets/controls",
     "model_module_version": "1.5.0",
     "model_name": "HBoxModel",
     "state": {
      "_dom_classes": [],
      "_model_module": "@jupyter-widgets/controls",
      "_model_module_version": "1.5.0",
      "_model_name": "HBoxModel",
      "_view_count": null,
      "_view_module": "@jupyter-widgets/controls",
      "_view_module_version": "1.5.0",
      "_view_name": "HBoxView",
      "box_style": "",
      "children": [
       "IPY_MODEL_ce260840569d433f897418ac2553a7c2",
       "IPY_MODEL_24d4b8eebd854e04912a67515b6da62d",
       "IPY_MODEL_40ad9fab17f64f6c8b8b12888106ff48"
      ],
      "layout": "IPY_MODEL_5ab58e160e914158be32cc1925d4aa1c"
     }
    },
    "ce260840569d433f897418ac2553a7c2": {
     "model_module": "@jupyter-widgets/controls",
     "model_module_version": "1.5.0",
     "model_name": "HTMLModel",
     "state": {
      "_dom_classes": [],
      "_model_module": "@jupyter-widgets/controls",
      "_model_module_version": "1.5.0",
      "_model_name": "HTMLModel",
      "_view_count": null,
      "_view_module": "@jupyter-widgets/controls",
      "_view_module_version": "1.5.0",
      "_view_name": "HTMLView",
      "description": "",
      "description_tooltip": null,
      "layout": "IPY_MODEL_600177e93d554317a77158108718d0df",
      "placeholder": "​",
      "style": "IPY_MODEL_f7414a72c9b745b9b0c8985c0c12ab0c",
      "value": "Processing: 100%"
     }
    },
    "df2cc1fdd2d04fa39c98e0ba361164a3": {
     "model_module": "@jupyter-widgets/controls",
     "model_module_version": "1.5.0",
     "model_name": "DescriptionStyleModel",
     "state": {
      "_model_module": "@jupyter-widgets/controls",
      "_model_module_version": "1.5.0",
      "_model_name": "DescriptionStyleModel",
      "_view_count": null,
      "_view_module": "@jupyter-widgets/base",
      "_view_module_version": "1.2.0",
      "_view_name": "StyleView",
      "description_width": ""
     }
    },
    "f44dd3c267ad4a8ba33a446f83acca2f": {
     "model_module": "@jupyter-widgets/controls",
     "model_module_version": "1.5.0",
     "model_name": "ProgressStyleModel",
     "state": {
      "_model_module": "@jupyter-widgets/controls",
      "_model_module_version": "1.5.0",
      "_model_name": "ProgressStyleModel",
      "_view_count": null,
      "_view_module": "@jupyter-widgets/base",
      "_view_module_version": "1.2.0",
      "_view_name": "StyleView",
      "bar_color": null,
      "description_width": ""
     }
    },
    "f7414a72c9b745b9b0c8985c0c12ab0c": {
     "model_module": "@jupyter-widgets/controls",
     "model_module_version": "1.5.0",
     "model_name": "DescriptionStyleModel",
     "state": {
      "_model_module": "@jupyter-widgets/controls",
      "_model_module_version": "1.5.0",
      "_model_name": "DescriptionStyleModel",
      "_view_count": null,
      "_view_module": "@jupyter-widgets/base",
      "_view_module_version": "1.2.0",
      "_view_name": "StyleView",
      "description_width": ""
     }
    }
   }
  }
 },
 "nbformat": 4,
 "nbformat_minor": 0
}
